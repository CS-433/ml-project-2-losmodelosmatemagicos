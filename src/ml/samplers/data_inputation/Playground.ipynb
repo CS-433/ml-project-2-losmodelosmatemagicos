{
 "cells": [
  {
   "cell_type": "markdown",
   "metadata": {},
   "source": [
    "# Transformt Data with the constrain of 1 seconds , breaks and encoding for NLP"
   ]
  },
  {
   "cell_type": "code",
   "execution_count": 24,
   "metadata": {},
   "outputs": [],
   "source": [
    "import pickle\n",
    "import numpy as np"
   ]
  },
  {
   "cell_type": "code",
   "execution_count": 25,
   "metadata": {},
   "outputs": [],
   "source": [
    "# I manually move the data (locally) inside this folder \n",
    "with open('./ml4science_data_fake.pkl', 'rb') as fp:\n",
    "    dl = pickle.load(fp)"
   ]
  },
  {
   "cell_type": "code",
   "execution_count": 26,
   "metadata": {},
   "outputs": [
    {
     "name": "stdout",
     "output_type": "stream",
     "text": [
      "dict_keys(['sequences', 'index', 'available_demographics'])\n"
     ]
    },
    {
     "data": {
      "text/plain": [
       "dict_keys(['learner_id', 'sequence', 'begin', 'end', 'gender', 'year', 'language', 'label'])"
      ]
     },
     "execution_count": 26,
     "metadata": {},
     "output_type": "execute_result"
    }
   ],
   "source": [
    "print(dl.keys())\n",
    "dl['sequences'][0].keys()"
   ]
  },
  {
   "cell_type": "code",
   "execution_count": 27,
   "metadata": {},
   "outputs": [
    {
     "name": "stdout",
     "output_type": "stream",
     "text": [
      "begin 0 - end 7.889: [0, 0, 0, 1, 0.0, 0.0, 0.0, 0.0, 0.0, 0.3440621047581669]\n",
      "begin 7.889 - end 83.03: [0.0, 0.0, 0.0, 1.0, 0.0, 0.0, 0.0, 0.0, 0.9999999999999999, 0.0]\n",
      "begin 83.03 - end 86.28: [0.0, 0.0, 0.0, 1.0, 0.0, 0.0, 0.0, 0.0, 0.0, 0.14174189890531658]\n"
     ]
    }
   ],
   "source": [
    "for i in range(3):\n",
    "    print(\n",
    "        'begin {} - end {}: {}'.format\n",
    "        (dl['sequences'][0]['begin'][i],\n",
    "        dl['sequences'][0]['end'][i],\n",
    "        dl['sequences'][0]['sequence'][i])\n",
    "    )"
   ]
  },
  {
   "cell_type": "markdown",
   "metadata": {},
   "source": [
    "## Repair FAKE data"
   ]
  },
  {
   "cell_type": "code",
   "execution_count": 28,
   "metadata": {},
   "outputs": [],
   "source": [
    "for i in range(len(dl['sequences'])):\n",
    "    for j in range(len(dl['sequences'][i]['sequence'])): \n",
    "        non_zero_count = np.count_nonzero(dl['sequences'][i]['sequence'][j])\n",
    "        if non_zero_count != 2:\n",
    "            #add randomly a one in of of the four first values of the sequence\n",
    "            dl['sequences'][i]['sequence'][j][np.random.randint(0,4)] = 1"
   ]
  },
  {
   "cell_type": "code",
   "execution_count": 29,
   "metadata": {},
   "outputs": [
    {
     "name": "stdout",
     "output_type": "stream",
     "text": [
      "[1, 0.0, 0.0, 0.0, 0.0, 0.0, 0.0, 1.0, 0.0, 0.0]\n",
      "[0.0, 0.0, 1, 0.0, 0.0, 0.0, 0.0, 0.0, 0.0, 0.3564261315115266]\n",
      "[1, 0.0, 0.0, 0.0, 0.0, 0.0, 0.0, 0.08771929824561517, 0.0, 0.0]\n",
      "[1, 0.0, 0.0, 0.0, 0.0, 0.0, 0.0, 0.0, 0.0, 0.08745293331713845]\n"
     ]
    }
   ],
   "source": [
    "for i in range(len(dl['sequences'])):\n",
    "    for j in range(len(dl['sequences'][i]['sequence'])): \n",
    "        non_zero_count = np.count_nonzero(dl['sequences'][i]['sequence'][j])\n",
    "        if non_zero_count != 2:\n",
    "            print(f\"Vector at student {i}, sequence {j} has {non_zero_count} non-zero values\")\n",
    "            non_zero_positions = np.nonzero(dl['sequences'][i]['sequence'][j])[0]\n",
    "            print(f\"Positions of non-zero values: {non_zero_positions}\")\n",
    "\n",
    "# Manual check\n",
    "print(dl['sequences'][20]['sequence'][1])\n",
    "print(dl['sequences'][20]['sequence'][2])\n",
    "print(dl['sequences'][28]['sequence'][1])\n",
    "print(dl['sequences'][28]['sequence'][2])"
   ]
  },
  {
   "cell_type": "code",
   "execution_count": 30,
   "metadata": {},
   "outputs": [],
   "source": [
    "# save data in a pkl file\n",
    "#with open('./ml4science_data_fake_repaired.pkl', 'wb') as fp:\n",
    "#    pickle.dump(dl, fp)"
   ]
  },
  {
   "cell_type": "markdown",
   "metadata": {},
   "source": [
    "## Test for create Vocabulary"
   ]
  },
  {
   "cell_type": "code",
   "execution_count": 31,
   "metadata": {},
   "outputs": [],
   "source": [
    "# Arguments for future function\n",
    "n_states = 4\n",
    "n_actions = 6\n",
    "n_tokens = 3\n",
    "\n",
    "for i in range(len(dl['sequences'])):\n",
    "    for j in range(len(dl['sequences'][i]['sequence'])): \n",
    "        idx = np.nonzero(dl['sequences'][i]['sequence'][j])\n",
    "        value = idx[0][0]*n_actions + idx[0][1] - (n_states - n_tokens -1) #Cuz want second equation to start from 1\n",
    "        dl['sequences'][i]['sequence'][j] = value"
   ]
  },
  {
   "cell_type": "code",
   "execution_count": 48,
   "metadata": {},
   "outputs": [],
   "source": [
    "# Breaks correspond to the 5th value of the events -> the 9th of the complete sequence\n",
    "# Thus with our vocabulary it correspond to:  5 ; 11 ; 18 ; 23\n",
    "\n",
    "for i in range(len(dl['sequences'])):\n",
    "    for j in range(len(dl['sequences'][i]['sequence'])):\n",
    "\n",
    "        #print((dl['sequences'][0]['end'][j] - dl['sequences'][0]['begin'][j]) > 15)\n",
    "        #print((dl['sequences'][i]['sequence'][j] in [5,11,18,23]))\n",
    "\n",
    "        if ( dl['sequences'][i]['sequence'][j] in [5,11,18,23]) and ( (dl['sequences'][0]['end'][j] - dl['sequences'][0]['begin'][j]) > 15 ): \n",
    "            \n",
    "            #print((dl['sequences'][0]['end'][j] - dl['sequences'][0]['begin'][j]))\n",
    "            dl['sequences'][i]['sequence'][j] = \"SEP\" #decide value for SEP"
   ]
  },
  {
   "cell_type": "code",
   "execution_count": 49,
   "metadata": {},
   "outputs": [
    {
     "name": "stdout",
     "output_type": "stream",
     "text": [
      "begin 0 - end 7.889: 24\n",
      "begin 7.889 - end 83.03: SEP\n",
      "begin 83.03 - end 86.28: 24\n",
      "begin 86.28 - end 86.33: 19\n",
      "begin 87.278 - end 90.562: 19\n",
      "begin 90.562 - end 99.597: 24\n",
      "begin 99.597 - end 100.32: 21\n",
      "begin 101.267 - end 107.071: 23\n",
      "begin 108.989 - end 114.653: 19\n",
      "begin 115.424 - end 115.935: 21\n",
      "begin 117.488 - end 135.421: SEP\n",
      "begin 136.702 - end 144.927: 19\n",
      "begin 144.927 - end 147.995: 24\n",
      "begin 147.995 - end 149.956: 19\n",
      "begin 150.243 - end 150.934: 19\n",
      "begin 150.934 - end 153.606: 24\n",
      "begin 153.606 - end 153.656: 19\n",
      "begin 155.007 - end 169.149: 23\n",
      "begin 170.791 - end 170.841: 1\n",
      "begin 170.841 - end 173.98: 6\n",
      "begin 173.98 - end 175.493: 1\n",
      "begin 175.859 - end 182.973: 1\n",
      "begin 184.477 - end 188.182: 1\n",
      "begin 190.224 - end 195.675: 1\n",
      "begin 196.178 - end 197.047: 1\n",
      "begin 197.421 - end 198.127: 1\n",
      "begin 198.37 - end 200.423: 1\n",
      "begin 201.114 - end 203.82: 1\n",
      "begin 205.115 - end 207.264: 5\n",
      "begin 207.264 - end 210.048: 6\n",
      "begin 210.048 - end 213.956: 2\n",
      "begin 215.274 - end 231.234: SEP\n",
      "begin 231.234 - end 234.653: 6\n",
      "begin 234.653 - end 235.411: 1\n",
      "begin 237.139 - end 238.426: 14\n",
      "begin 238.426 - end 241.776: 18\n",
      "begin 241.776 - end 242.824: 19\n",
      "begin 242.824 - end 246.465: 24\n",
      "begin 246.465 - end 246.92: 19\n",
      "begin 247.443 - end 247.955: 21\n",
      "begin 248.716 - end 249.968: 19\n",
      "begin 251.842 - end 256.032: 1\n",
      "begin 256.032 - end 259.985: 6\n",
      "begin 259.985 - end 273.448: 5\n",
      "begin 273.448 - end 284.908: 6\n",
      "begin 284.908 - end 286.983: 1\n",
      "begin 287.493 - end 290.052: 3\n",
      "begin 290.052 - end 293.412: 6\n",
      "begin 293.412 - end 293.889: 2\n",
      "begin 293.889 - end 299.796: 6\n",
      "begin 299.796 - end 325.895: SEP\n",
      "begin 325.895 - end 328.185: 6\n",
      "begin 328.185 - end 332.792: 1\n",
      "begin 332.792 - end 335.083: 6\n",
      "begin 335.083 - end 336.605: 8\n",
      "begin 337.072 - end 337.932: 7\n",
      "begin 339.139 - end 339.541: 8\n",
      "begin 340.088 - end 341.398: 7\n",
      "begin 342.63 - end 343.726: 7\n",
      "begin 345.454 - end 346.73: 13\n",
      "begin 346.73 - end 354.443: 18\n",
      "begin 354.443 - end 358.205: 9\n",
      "begin 359.021 - end 362.615: 7\n",
      "begin 362.615 - end 372.651: 12\n",
      "begin 372.651 - end 380.11: 11\n",
      "begin 381.735 - end 382.64: 9\n",
      "begin 383.356 - end 385.127: 7\n",
      "begin 385.127 - end 387.941: 12\n",
      "begin 387.941 - end 397.85: 11\n",
      "begin 397.85 - end 409.076: 12\n",
      "begin 409.076 - end 411.932: 8\n",
      "begin 412.818 - end 414.433: 9\n",
      "begin 415.204 - end 416.841: 7\n",
      "begin 418.828 - end 419.567: 7\n",
      "begin 420.366 - end 423.885: 11\n",
      "begin 423.885 - end 427.608: 12\n",
      "begin 427.608 - end 434.279: 11\n",
      "begin 434.279 - end 438.447: 12\n",
      "begin 438.447 - end 444.28: 9\n",
      "begin 444.952 - end 446.519: 7\n",
      "begin 448.134 - end 450.197: 8\n",
      "begin 450.197 - end 473.126: 12\n",
      "begin 473.126 - end 479.774: 11\n",
      "begin 482.041 - end 482.734: 8\n",
      "begin 483.461 - end 483.891: 9\n",
      "begin 484.82 - end 486.243: 7\n",
      "begin 486.243 - end 494.656: 12\n",
      "begin 494.656 - end 498.618: 7\n",
      "begin 498.618 - end 506.696: 12\n",
      "begin 506.696 - end 507.741: 13\n",
      "begin 507.741 - end 514.43: 18\n",
      "begin 514.43 - end 515.83: 13\n",
      "begin 516.511 - end 521.658: 13\n",
      "begin 522.903 - end 525.809: 15\n",
      "begin 525.809 - end 530.434: 18\n"
     ]
    }
   ],
   "source": [
    "for i in range(len(dl['sequences'][0]['begin'])):\n",
    "    print(\n",
    "        'begin {} - end {}: {}'.format\n",
    "        (dl['sequences'][0]['begin'][i],\n",
    "        dl['sequences'][0]['end'][i],\n",
    "        dl['sequences'][0]['sequence'][i])\n",
    "    )"
   ]
  },
  {
   "cell_type": "code",
   "execution_count": null,
   "metadata": {},
   "outputs": [],
   "source": [
    "word_dict = {'[PAD]': 0, '[SEP]': 2, '[MASK]': 3}\n",
    "# create a vocabulary of words based on one-hot encoding of a vector for NLP"
   ]
  }
 ],
 "metadata": {
  "kernelspec": {
   "display_name": "ML",
   "language": "python",
   "name": "python3"
  },
  "language_info": {
   "codemirror_mode": {
    "name": "ipython",
    "version": 3
   },
   "file_extension": ".py",
   "mimetype": "text/x-python",
   "name": "python",
   "nbconvert_exporter": "python",
   "pygments_lexer": "ipython3",
   "version": "3.11.5"
  }
 },
 "nbformat": 4,
 "nbformat_minor": 2
}
