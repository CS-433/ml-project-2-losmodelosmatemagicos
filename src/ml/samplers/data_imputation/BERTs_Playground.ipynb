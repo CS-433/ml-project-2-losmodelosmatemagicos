{
 "cells": [
  {
   "cell_type": "markdown",
   "metadata": {},
   "source": [
    "# BERT's playground \n",
    "Hello there! Welcome on BERT's playground. You may play with BERT here and see what he can do but always make sure he feels respected and admired."
   ]
  },
  {
   "cell_type": "markdown",
   "metadata": {},
   "source": [
    "## Setups\n"
   ]
  },
  {
   "cell_type": "code",
   "execution_count": 1,
   "metadata": {},
   "outputs": [
    {
     "name": "stdout",
     "output_type": "stream",
     "text": [
      "WARNING:tensorflow:From c:\\Users\\david\\anaconda3\\envs\\Jade\\Lib\\site-packages\\keras\\src\\losses.py:2976: The name tf.losses.sparse_softmax_cross_entropy is deprecated. Please use tf.compat.v1.losses.sparse_softmax_cross_entropy instead.\n",
      "\n"
     ]
    }
   ],
   "source": [
    "import pickle\n",
    "import tensorflow as tf\n",
    "import masking\n",
    "import BERT\n",
    "import numpy as np\n",
    "\n",
    "from tensorflow import keras\n",
    "from Vectorisation import Vectorisation\n",
    "from Config import Config\n",
    "from MaskedTextGenerator import MaskedTextGenerator\n",
    "\n",
    "with open(\"./ml4science_data.pkl\", \"rb\") as fp:\n",
    "    data_dict = pickle.load(fp)\n",
    "\n",
    "config = Config()\n",
    "vec = Vectorisation(config=config)"
   ]
  },
  {
   "cell_type": "code",
   "execution_count": 2,
   "metadata": {},
   "outputs": [
    {
     "name": "stdout",
     "output_type": "stream",
     "text": [
      "(254, 128) (254, 128) (254, 128)\n",
      "<_BatchDataset element_spec=(TensorSpec(shape=(None, 128), dtype=tf.int32, name=None), TensorSpec(shape=(None, 128), dtype=tf.int32, name=None), TensorSpec(shape=(None, 128), dtype=tf.float64, name=None))>\n"
     ]
    }
   ],
   "source": [
    "# Prepare data for masked language model\n",
    "encoded = vec.encode_dict(data_dict)\n",
    "x_masked_encoded, y_masked_encoded, sample_weights = masking.mask_input_and_labels(encoded, config.TOKEN_DICT, seed=32)\n",
    "print(x_masked_encoded.shape, y_masked_encoded.shape, sample_weights.shape)\n",
    "\n",
    "mlm_ds = tf.data.Dataset.from_tensor_slices((x_masked_encoded, y_masked_encoded, sample_weights))\n",
    "mlm_ds = mlm_ds.shuffle(1000).batch(config.BATCH_SIZE)\n",
    "\n",
    "print(mlm_ds)"
   ]
  },
  {
   "cell_type": "code",
   "execution_count": 3,
   "metadata": {},
   "outputs": [
    {
     "name": "stdout",
     "output_type": "stream",
     "text": [
      "[26  2 26 21 21 26 23 25 21 23  2 21 26 21 21 26 21 25  3  8  3  3  3  3\n",
      "  3  3  3  3  7  8  4  2  8  3 16 20 21 26 21 23 21  3  8  7  8  3  5  8\n",
      "  4  8  2  8  3  8 10  9 10  9  9 15 20 11  9 14 13 11  9 14 13 14 10 11\n",
      "  9  9 13 14 13 14 11  9 10 14 13 10 11  9 14  9 14 15 20 15 15 17 20  0\n",
      "  0  0  0  0  0  0  0  0  0  0  0  0  0  0  0  0  0  0  0  0  0  0  0  0\n",
      "  0  0  0  0  0  0  0  0]\n"
     ]
    }
   ],
   "source": [
    "sample_tokens = x_masked_encoded[0:1]\n",
    "print(y_masked_encoded[0])"
   ]
  },
  {
   "cell_type": "code",
   "execution_count": 4,
   "metadata": {},
   "outputs": [
    {
     "name": "stdout",
     "output_type": "stream",
     "text": [
      "[26  2 26 21 21 26  9 25 21 23  2 21 26 21 21 26 21  1  3  8  3  1  3  3\n",
      "  3  3  3  3  7  8  1  2  8  3 16 20 21 26 21 23 21  3  8  7  8  3  5  8\n",
      "  4  1  2  8  3  1 10  9 10  9  9 15  1 11  9  1  1 11  9 14 13 14 10  1\n",
      "  9  9 13 14 13 14 11  9 10 14 13 10 11  1 14  9  1 15 20 15 15 17 20  0\n",
      "  0  0  0  0  0  0  0  0  0  0  0  0  0  0  0  0  0  0  0  0  0  0  0  0\n",
      "  0  0  0  0  0  0  0  0]\n"
     ]
    }
   ],
   "source": [
    "print(x_masked_encoded[0])"
   ]
  },
  {
   "cell_type": "code",
   "execution_count": 5,
   "metadata": {},
   "outputs": [
    {
     "name": "stdout",
     "output_type": "stream",
     "text": [
      "WARNING:tensorflow:From c:\\Users\\david\\anaconda3\\envs\\Jade\\Lib\\site-packages\\keras\\src\\backend.py:1398: The name tf.executing_eagerly_outside_functions is deprecated. Please use tf.compat.v1.executing_eagerly_outside_functions instead.\n",
      "\n",
      "Model: \"masked_bert_model\"\n",
      "__________________________________________________________________________________________________\n",
      " Layer (type)                Output Shape                 Param #   Connected to                  \n",
      "==================================================================================================\n",
      " input_1 (InputLayer)        [(None, 128)]                0         []                            \n",
      "                                                                                                  \n",
      " word_embedding (Embedding)  (None, 128, 64)              1728      ['input_1[0][0]']             \n",
      "                                                                                                  \n",
      " tf.__operators__.add (TFOp  (None, 128, 64)              0         ['word_embedding[0][0]']      \n",
      " Lambda)                                                                                          \n",
      "                                                                                                  \n",
      " encoder_0/multiheadattenti  (None, 128, 64)              16640     ['tf.__operators__.add[0][0]',\n",
      " on (MultiHeadAttention)                                             'tf.__operators__.add[0][0]',\n",
      "                                                                     'tf.__operators__.add[0][0]']\n",
      "                                                                                                  \n",
      " encoder_0/att_dropout (Dro  (None, 128, 64)              0         ['encoder_0/multiheadattention\n",
      " pout)                                                              [0][0]']                      \n",
      "                                                                                                  \n",
      " tf.__operators__.add_1 (TF  (None, 128, 64)              0         ['tf.__operators__.add[0][0]',\n",
      " OpLambda)                                                           'encoder_0/att_dropout[0][0]'\n",
      "                                                                    ]                             \n",
      "                                                                                                  \n",
      " encoder_0/att_layernormali  (None, 128, 64)              128       ['tf.__operators__.add_1[0][0]\n",
      " zation (LayerNormalization                                         ']                            \n",
      " )                                                                                                \n",
      "                                                                                                  \n",
      " encoder_0/ffn (Sequential)  (None, 128, 64)              8320      ['encoder_0/att_layernormaliza\n",
      "                                                                    tion[0][0]']                  \n",
      "                                                                                                  \n",
      " encoder_0/ffn_dropout (Dro  (None, 128, 64)              0         ['encoder_0/ffn[0][0]']       \n",
      " pout)                                                                                            \n",
      "                                                                                                  \n",
      " tf.__operators__.add_2 (TF  (None, 128, 64)              0         ['encoder_0/att_layernormaliza\n",
      " OpLambda)                                                          tion[0][0]',                  \n",
      "                                                                     'encoder_0/ffn_dropout[0][0]'\n",
      "                                                                    ]                             \n",
      "                                                                                                  \n",
      " encoder_0/ffn_layernormali  (None, 128, 64)              128       ['tf.__operators__.add_2[0][0]\n",
      " zation (LayerNormalization                                         ']                            \n",
      " )                                                                                                \n",
      "                                                                                                  \n",
      " mlm_cls (Dense)             (None, 128, 27)              1755      ['encoder_0/ffn_layernormaliza\n",
      "                                                                    tion[0][0]']                  \n",
      "                                                                                                  \n",
      "==================================================================================================\n",
      "Total params: 28701 (112.11 KB)\n",
      "Trainable params: 28699 (112.11 KB)\n",
      "Non-trainable params: 2 (8.00 Byte)\n",
      "__________________________________________________________________________________________________\n"
     ]
    }
   ],
   "source": [
    "generator_callback = MaskedTextGenerator(sample_tokens, config.TOKEN_DICT['[MASK]'])\n",
    "\n",
    "bert_masked_model = BERT.create_masked_language_bert_model(config)\n",
    "bert_masked_model.summary()"
   ]
  },
  {
   "cell_type": "code",
   "execution_count": 6,
   "metadata": {},
   "outputs": [
    {
     "name": "stdout",
     "output_type": "stream",
     "text": [
      "Epoch 1/100\n",
      "16/16 [==============================] - 4s 37ms/step - loss: 3.2167\n",
      "Epoch 2/100\n",
      "16/16 [==============================] - 1s 33ms/step - loss: 2.7004\n",
      "Epoch 3/100\n",
      "16/16 [==============================] - 1s 34ms/step - loss: 2.6071\n",
      "Epoch 4/100\n",
      "16/16 [==============================] - 0s 29ms/step - loss: 2.5474\n",
      "Epoch 5/100\n",
      "16/16 [==============================] - 0s 28ms/step - loss: 2.5163\n",
      "Epoch 6/100\n",
      "16/16 [==============================] - 0s 27ms/step - loss: 2.4916\n",
      "Epoch 7/100\n",
      "16/16 [==============================] - 0s 25ms/step - loss: 2.4572\n",
      "Epoch 8/100\n",
      "16/16 [==============================] - 0s 29ms/step - loss: 2.4424\n",
      "Epoch 9/100\n",
      "16/16 [==============================] - 0s 24ms/step - loss: 2.3884\n",
      "Epoch 10/100\n",
      "16/16 [==============================] - 0s 30ms/step - loss: 2.2962\n",
      "Epoch 11/100\n",
      "16/16 [==============================] - 0s 25ms/step - loss: 2.1659\n",
      "Epoch 12/100\n",
      "16/16 [==============================] - 0s 27ms/step - loss: 2.0948\n",
      "Epoch 13/100\n",
      "16/16 [==============================] - 0s 28ms/step - loss: 2.0273\n",
      "Epoch 14/100\n",
      "16/16 [==============================] - 1s 40ms/step - loss: 1.9800\n",
      "Epoch 15/100\n",
      "16/16 [==============================] - 0s 26ms/step - loss: 1.9399\n",
      "Epoch 16/100\n",
      "16/16 [==============================] - 0s 25ms/step - loss: 1.8933\n",
      "Epoch 17/100\n",
      "16/16 [==============================] - 0s 27ms/step - loss: 1.8369\n",
      "Epoch 18/100\n",
      "16/16 [==============================] - 0s 26ms/step - loss: 1.7773\n",
      "Epoch 19/100\n",
      "16/16 [==============================] - 0s 25ms/step - loss: 1.7596\n",
      "Epoch 20/100\n",
      "16/16 [==============================] - 0s 24ms/step - loss: 1.7258\n",
      "Epoch 21/100\n",
      "16/16 [==============================] - 0s 25ms/step - loss: 1.6711\n",
      "Epoch 22/100\n",
      "16/16 [==============================] - 0s 27ms/step - loss: 1.6487\n",
      "Epoch 23/100\n",
      "16/16 [==============================] - 1s 32ms/step - loss: 1.6170\n",
      "Epoch 24/100\n",
      "16/16 [==============================] - 1s 32ms/step - loss: 1.6053\n",
      "Epoch 25/100\n",
      "16/16 [==============================] - 1s 58ms/step - loss: 1.5754\n",
      "Epoch 26/100\n",
      "16/16 [==============================] - 1s 45ms/step - loss: 1.5567\n",
      "Epoch 27/100\n",
      "16/16 [==============================] - 1s 32ms/step - loss: 1.5288\n",
      "Epoch 28/100\n",
      "16/16 [==============================] - 0s 30ms/step - loss: 1.5037\n",
      "Epoch 29/100\n",
      "16/16 [==============================] - 0s 27ms/step - loss: 1.4733\n",
      "Epoch 30/100\n",
      "16/16 [==============================] - 1s 30ms/step - loss: 1.4556\n",
      "Epoch 31/100\n",
      "16/16 [==============================] - 1s 37ms/step - loss: 1.4473\n",
      "Epoch 32/100\n",
      "16/16 [==============================] - 1s 52ms/step - loss: 1.4175\n",
      "Epoch 33/100\n",
      "16/16 [==============================] - 0s 30ms/step - loss: 1.4048\n",
      "Epoch 34/100\n",
      "16/16 [==============================] - 0s 31ms/step - loss: 1.3884\n",
      "Epoch 35/100\n",
      "16/16 [==============================] - 0s 28ms/step - loss: 1.3774\n",
      "Epoch 36/100\n",
      "16/16 [==============================] - 0s 29ms/step - loss: 1.3594\n",
      "Epoch 37/100\n",
      "16/16 [==============================] - 0s 28ms/step - loss: 1.3503\n",
      "Epoch 38/100\n",
      "16/16 [==============================] - 0s 30ms/step - loss: 1.3162\n",
      "Epoch 39/100\n",
      "16/16 [==============================] - 1s 40ms/step - loss: 1.3105\n",
      "Epoch 40/100\n",
      "16/16 [==============================] - 1s 42ms/step - loss: 1.3065\n",
      "Epoch 41/100\n",
      "16/16 [==============================] - 0s 30ms/step - loss: 1.3033\n",
      "Epoch 42/100\n",
      "16/16 [==============================] - 1s 33ms/step - loss: 1.2698\n",
      "Epoch 43/100\n",
      "16/16 [==============================] - 1s 32ms/step - loss: 1.2559\n",
      "Epoch 44/100\n",
      "16/16 [==============================] - 1s 58ms/step - loss: 1.2477\n",
      "Epoch 45/100\n",
      "16/16 [==============================] - 1s 55ms/step - loss: 1.2461\n",
      "Epoch 46/100\n",
      "16/16 [==============================] - 1s 36ms/step - loss: 1.2299\n",
      "Epoch 47/100\n",
      "16/16 [==============================] - 0s 30ms/step - loss: 1.2207\n",
      "Epoch 48/100\n",
      "16/16 [==============================] - 1s 55ms/step - loss: 1.1934\n",
      "Epoch 49/100\n",
      "16/16 [==============================] - 1s 34ms/step - loss: 1.1954\n",
      "Epoch 50/100\n",
      "16/16 [==============================] - 1s 34ms/step - loss: 1.1803\n",
      "Epoch 51/100\n",
      "16/16 [==============================] - 1s 32ms/step - loss: 1.1783\n",
      "Epoch 52/100\n",
      "16/16 [==============================] - 1s 31ms/step - loss: 1.1599\n",
      "Epoch 53/100\n",
      "16/16 [==============================] - 0s 29ms/step - loss: 1.1368\n",
      "Epoch 54/100\n",
      "16/16 [==============================] - 0s 31ms/step - loss: 1.1627\n",
      "Epoch 55/100\n",
      "16/16 [==============================] - 0s 27ms/step - loss: 1.1449\n",
      "Epoch 56/100\n",
      "16/16 [==============================] - 1s 52ms/step - loss: 1.1354\n",
      "Epoch 57/100\n",
      "16/16 [==============================] - 1s 45ms/step - loss: 1.1091\n",
      "Epoch 58/100\n",
      "16/16 [==============================] - 0s 30ms/step - loss: 1.0934\n",
      "Epoch 59/100\n",
      "16/16 [==============================] - 1s 32ms/step - loss: 1.0882\n",
      "Epoch 60/100\n",
      "16/16 [==============================] - 1s 42ms/step - loss: 1.0804\n",
      "Epoch 61/100\n",
      "16/16 [==============================] - 1s 36ms/step - loss: 1.0708\n",
      "Epoch 62/100\n",
      "16/16 [==============================] - 0s 28ms/step - loss: 1.0583\n",
      "Epoch 63/100\n",
      "16/16 [==============================] - 0s 29ms/step - loss: 1.0600\n",
      "Epoch 64/100\n",
      "16/16 [==============================] - 1s 35ms/step - loss: 1.0456\n",
      "Epoch 65/100\n",
      "16/16 [==============================] - 1s 32ms/step - loss: 1.0296\n",
      "Epoch 66/100\n",
      "16/16 [==============================] - 1s 38ms/step - loss: 1.0243\n",
      "Epoch 67/100\n",
      "16/16 [==============================] - 1s 35ms/step - loss: 1.0312\n",
      "Epoch 68/100\n",
      "16/16 [==============================] - 0s 30ms/step - loss: 1.0219\n",
      "Epoch 69/100\n",
      "16/16 [==============================] - 0s 28ms/step - loss: 0.9909\n",
      "Epoch 70/100\n",
      "16/16 [==============================] - 0s 28ms/step - loss: 0.9777\n",
      "Epoch 71/100\n",
      "16/16 [==============================] - 1s 35ms/step - loss: 0.9807\n",
      "Epoch 72/100\n",
      "16/16 [==============================] - 0s 30ms/step - loss: 0.9710\n",
      "Epoch 73/100\n",
      "16/16 [==============================] - 0s 29ms/step - loss: 0.9712\n",
      "Epoch 74/100\n",
      "16/16 [==============================] - 1s 40ms/step - loss: 0.9575\n",
      "Epoch 75/100\n",
      "16/16 [==============================] - 1s 60ms/step - loss: 0.9435\n",
      "Epoch 76/100\n",
      "16/16 [==============================] - 0s 29ms/step - loss: 0.9317\n",
      "Epoch 77/100\n",
      "16/16 [==============================] - 1s 32ms/step - loss: 0.9378\n",
      "Epoch 78/100\n",
      "16/16 [==============================] - 1s 37ms/step - loss: 0.9228\n",
      "Epoch 79/100\n",
      "16/16 [==============================] - 1s 36ms/step - loss: 0.9251\n",
      "Epoch 80/100\n",
      "16/16 [==============================] - 1s 35ms/step - loss: 0.9101\n",
      "Epoch 81/100\n",
      "16/16 [==============================] - 1s 33ms/step - loss: 0.8924\n",
      "Epoch 82/100\n",
      "16/16 [==============================] - 1s 34ms/step - loss: 0.8795\n",
      "Epoch 83/100\n",
      "16/16 [==============================] - 1s 37ms/step - loss: 0.8780\n",
      "Epoch 84/100\n",
      "16/16 [==============================] - 0s 29ms/step - loss: 0.8586\n",
      "Epoch 85/100\n",
      "16/16 [==============================] - 0s 28ms/step - loss: 0.8510\n",
      "Epoch 86/100\n",
      "16/16 [==============================] - 0s 29ms/step - loss: 0.8550\n",
      "Epoch 87/100\n",
      "16/16 [==============================] - 0s 30ms/step - loss: 0.8421\n",
      "Epoch 88/100\n",
      "16/16 [==============================] - 0s 29ms/step - loss: 0.8285\n",
      "Epoch 89/100\n",
      "16/16 [==============================] - 0s 29ms/step - loss: 0.8316\n",
      "Epoch 90/100\n",
      "16/16 [==============================] - 0s 27ms/step - loss: 0.8219\n",
      "Epoch 91/100\n",
      "16/16 [==============================] - 0s 28ms/step - loss: 0.7972\n",
      "Epoch 92/100\n",
      "16/16 [==============================] - 0s 29ms/step - loss: 0.7950\n",
      "Epoch 93/100\n",
      "16/16 [==============================] - 0s 29ms/step - loss: 0.7984\n",
      "Epoch 94/100\n",
      "16/16 [==============================] - 1s 39ms/step - loss: 0.7812\n",
      "Epoch 95/100\n",
      "16/16 [==============================] - 1s 38ms/step - loss: 0.7782\n",
      "Epoch 96/100\n",
      "16/16 [==============================] - 1s 32ms/step - loss: 0.7745\n",
      "Epoch 97/100\n",
      "16/16 [==============================] - 0s 30ms/step - loss: 0.7667\n",
      "Epoch 98/100\n",
      "16/16 [==============================] - 0s 29ms/step - loss: 0.7548\n",
      "Epoch 99/100\n",
      "16/16 [==============================] - 1s 31ms/step - loss: 0.7386\n",
      "Epoch 100/100\n",
      "16/16 [==============================] - 1s 31ms/step - loss: 0.7353\n"
     ]
    }
   ],
   "source": [
    "# A callback in Keras is a function that is called at certain points during the training process. -> Here is called after each epoch during the training\n",
    "# Here we use to see the \"performance\" at each epoch while predicting on a \"test set\" aka the sample_tokens\n",
    "\n",
    "bert_masked_model.fit(mlm_ds, epochs=20)#, callbacks=[generator_callback]) \n",
    "bert_masked_model.save(\"bert_models/bert_mlm.keras\")"
   ]
  },
  {
   "cell_type": "code",
   "execution_count": 7,
   "metadata": {},
   "outputs": [
    {
     "name": "stdout",
     "output_type": "stream",
     "text": [
      "1/1 [==============================] - 0s 320ms/step\n",
      "Predictions:\n",
      " [[26 21 26 21 21 26 21 25 21 23 21 21 26 21 21 26 21 22 26  8  3  3  3  3\n",
      "   3  3  3  3  7  8  4 14  8  3 16 20  8 10  8  7  3  3  8  7  8  3  4  8\n",
      "   4  8  8  8  3  8  4 15 10  9  9 15  8 11  9 10 13 11  9 14 13 14 10 11\n",
      "  14 14 13 14  9 14 11  9 10 14 13 15 11  9 14  9 14 15 13 15 15  5 20 11\n",
      "  11 11 11 11  9 10 20 20 20 20 20 20 20 20 20 20 17 15 20 20 20 15 15 15\n",
      "  13 15 15 15 13 13 13 13]]\n",
      "Original:\n",
      " [[26  2 26 21 21 26 23 25 21 23  2 21 26 21 21 26 21 25  3  8  3  3  3  3\n",
      "   3  3  3  3  7  8  4  2  8  3 16 20 21 26 21 23 21  3  8  7  8  3  5  8\n",
      "   4  8  2  8  3  8 10  9 10  9  9 15 20 11  9 14 13 11  9 14 13 14 10 11\n",
      "   9  9 13 14 13 14 11  9 10 14 13 10 11  9 14  9 14 15 20 15 15 17 20  0\n",
      "   0  0  0  0  0  0  0  0  0  0  0  0  0  0  0  0  0  0  0  0  0  0  0  0\n",
      "   0  0  0  0  0  0  0  0]]\n",
      "Masked:\n",
      " [[26  2 26 21 21 26  9 25 21 23  2 21 26 21 21 26 21  1  3  8  3  1  3  3\n",
      "   3  3  3  3  7  8  1  2  8  3 16 20 21 26 21 23 21  3  8  7  8  3  5  8\n",
      "   4  1  2  8  3  1 10  9 10  9  9 15  1 11  9  1  1 11  9 14 13 14 10  1\n",
      "   9  9 13 14 13 14 11  9 10 14 13 10 11  1 14  9  1 15 20 15 15 17 20  0\n",
      "   0  0  0  0  0  0  0  0  0  0  0  0  0  0  0  0  0  0  0  0  0  0  0  0\n",
      "   0  0  0  0  0  0  0  0]]\n"
     ]
    }
   ],
   "source": [
    "predictions = bert_masked_model.predict(x_masked_encoded[0:1])\n",
    "\n",
    "predictions_max = np.argmax(predictions, axis=2)\n",
    "print(\"Predictions:\\n\",predictions_max)\n",
    "print(\"Original:\\n\", y_masked_encoded[0:1])\n",
    "print(\"Masked:\\n\", x_masked_encoded[0:1])"
   ]
  },
  {
   "cell_type": "code",
   "execution_count": 8,
   "metadata": {},
   "outputs": [
    {
     "name": "stdout",
     "output_type": "stream",
     "text": [
      "[[ True False  True  True  True  True False  True  True  True False  True\n",
      "   True  True  True  True  True False False  True  True  True  True  True\n",
      "   True  True  True  True  True  True  True False  True  True  True  True\n",
      "  False False False False False  True  True  True  True  True False  True\n",
      "   True  True False  True  True  True False False  True  True  True  True\n",
      "  False  True  True False  True  True  True  True  True  True  True  True\n",
      "  False False  True  True False  True  True  True  True  True  True False\n",
      "   True  True  True  True  True  True False  True  True False  True False\n",
      "  False False False False False False False False False False False False\n",
      "  False False False False False False False False False False False False\n",
      "  False False False False False False False False]]\n",
      "Accuracy brut:  0.72\n",
      "Accuracy without taking in acount padding:  0.7578947368421053\n",
      "Accuracy on masked tokens:  0.7272727272727273\n"
     ]
    }
   ],
   "source": [
    "print(predictions_max == y_masked_encoded[0:1])\n",
    "# print accuracy\n",
    "print(\"Accuracy brut: \", np.sum(predictions_max == y_masked_encoded[0:1]) / (100*len(y_masked_encoded[0:1])))\n",
    "# print accuracy without padding\n",
    "print(\"Accuracy without taking in acount padding: \", np.sum((predictions_max == y_masked_encoded[0:1]) * (y_masked_encoded[0:1] != 0)) / np.sum(y_masked_encoded[0:1] != 0))\n",
    "print(\"Accuracy on masked tokens: \", np.sum((predictions_max == y_masked_encoded[0:1]) * (x_masked_encoded[0:1] == config.TOKEN_DICT['[MASK]'])) / np.sum(x_masked_encoded[0:1] == config.TOKEN_DICT['[MASK]']))"
   ]
  },
  {
   "cell_type": "code",
   "execution_count": 9,
   "metadata": {},
   "outputs": [
    {
     "data": {
      "text/plain": [
       "'def get_end_to_end(model):\\n    inputs = keras.Input(shape=(None,))\\n    outputs = model(inputs)\\n    reshaped_outputs = keras.layers.Lambda(lambda x: keras.backend.argmax(x, axis=-1))(outputs)\\n    end_to_end_model = keras.Model(inputs, reshaped_outputs, name=\"end_to_end_model\")\\n    optimizer = keras.optimizers.Adam(learning_rate=config.bert.LR)\\n    end_to_end_model.compile(\\n        optimizer=optimizer, loss=\"sparse_categorical_crossentropy\", metrics=[\"accuracy\"]\\n    )\\n    return end_to_end_model\\n\\nend_to_end_classification_model = get_end_to_end(bert_masked_model)\\n\\n# Build dataset for end to end model input (will be used at the end)\\ntest_raw_classifier_ds = tf.data.Dataset.from_tensor_slices((x_masked_encoded, y_masked_encoded)).batch(config.BATCH_SIZE)\\n\\nend_to_end_classification_model.evaluate(test_raw_classifier_ds)'"
      ]
     },
     "execution_count": 9,
     "metadata": {},
     "output_type": "execute_result"
    }
   ],
   "source": [
    "# This how we can load a Keras model\n",
    "\"\"\"# Load OUR pretrained bert model\n",
    "mlm_model = keras.models.load_model(\n",
    "    \"bert_mlm_imdb.keras\", custom_objects={\"MaskedLanguageModel\": MaskedLanguageModel}\n",
    ")\"\"\"\n",
    "\n",
    "# Kinda failed attempt to create a end to end model (we don't really need it) -> But it's a good example of how to create a model with a custom loss function and reshape the output\n",
    "\"\"\"def get_end_to_end(model):\n",
    "    inputs = keras.Input(shape=(None,))\n",
    "    outputs = model(inputs)\n",
    "    reshaped_outputs = keras.layers.Lambda(lambda x: keras.backend.argmax(x, axis=-1))(outputs)\n",
    "    end_to_end_model = keras.Model(inputs, reshaped_outputs, name=\"end_to_end_model\")\n",
    "    optimizer = keras.optimizers.Adam(learning_rate=config.bert.LR)\n",
    "    end_to_end_model.compile(\n",
    "        optimizer=optimizer, loss=\"sparse_categorical_crossentropy\", metrics=[\"accuracy\"]\n",
    "    )\n",
    "    return end_to_end_model\n",
    "\n",
    "end_to_end_classification_model = get_end_to_end(bert_masked_model)\n",
    "\n",
    "# Build dataset for end to end model input (will be used at the end)\n",
    "test_raw_classifier_ds = tf.data.Dataset.from_tensor_slices((x_masked_encoded, y_masked_encoded)).batch(config.BATCH_SIZE)\n",
    "\n",
    "end_to_end_classification_model.evaluate(test_raw_classifier_ds)\"\"\""
   ]
  }
 ],
 "metadata": {
  "kernelspec": {
   "display_name": "ML",
   "language": "python",
   "name": "python3"
  },
  "language_info": {
   "codemirror_mode": {
    "name": "ipython",
    "version": 3
   },
   "file_extension": ".py",
   "mimetype": "text/x-python",
   "name": "python",
   "nbconvert_exporter": "python",
   "pygments_lexer": "ipython3",
   "version": "3.11.5"
  }
 },
 "nbformat": 4,
 "nbformat_minor": 2
}
