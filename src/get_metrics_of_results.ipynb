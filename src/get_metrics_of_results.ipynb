{
 "cells": [
  {
   "cell_type": "code",
   "execution_count": 4,
   "metadata": {},
   "outputs": [],
   "source": [
    "import pickle\n",
    "import numpy as np"
   ]
  },
  {
   "cell_type": "code",
   "execution_count": 2,
   "metadata": {},
   "outputs": [],
   "source": [
    "# Copy the the file form the results folder of the experiment you want to analyze\n",
    "with open('nonnested_cval_mltsatt_l819.pkl', 'rb') as f:\n",
    "    results = pickle.load(f)"
   ]
  },
  {
   "cell_type": "code",
   "execution_count": 6,
   "metadata": {},
   "outputs": [
    {
     "name": "stdout",
     "output_type": "stream",
     "text": [
      "ROC:  0.6035389610389611  +/-  0.11516134094149343\n",
      "FP:  0.35857142857142854  +/-  0.11073962843590567\n"
     ]
    }
   ],
   "source": [
    "# Take the mean and std of our metrics acrross the 10 folds\n",
    "roc = []\n",
    "fp = []\n",
    "for i in range(10):\n",
    "    roc.append(results[i][\"roc\"])\n",
    "    fp.append(results[i][\"fp\"])\n",
    "\n",
    "\n",
    "mean_roc = np.array(roc).mean()\n",
    "std_roc = np.array(roc).std()\n",
    "mean_fp = np.array(fp).mean()\n",
    "std_fp = np.array(fp).std()\n",
    "\n",
    "print(\"ROC: \", mean_roc, \" +/- \", std_roc)\n",
    "print(\"FP: \", mean_fp, \" +/- \", std_fp)"
   ]
  }
 ],
 "metadata": {
  "kernelspec": {
   "display_name": "Jade",
   "language": "python",
   "name": "python3"
  },
  "language_info": {
   "codemirror_mode": {
    "name": "ipython",
    "version": 3
   },
   "file_extension": ".py",
   "mimetype": "text/x-python",
   "name": "python",
   "nbconvert_exporter": "python",
   "pygments_lexer": "ipython3",
   "version": "3.11.5"
  }
 },
 "nbformat": 4,
 "nbformat_minor": 2
}
