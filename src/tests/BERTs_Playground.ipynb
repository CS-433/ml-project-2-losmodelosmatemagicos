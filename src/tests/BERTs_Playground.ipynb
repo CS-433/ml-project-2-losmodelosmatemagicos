{
 "cells": [
  {
   "cell_type": "markdown",
   "metadata": {},
   "source": [
    "# BERT's playground \n",
    "Hello there! Welcome on BERT's playground. You may play with BERT here and see what he can do but always make sure he feels respected and admired."
   ]
  },
  {
   "cell_type": "markdown",
   "metadata": {},
   "source": [
    "## Setups\n"
   ]
  },
  {
   "cell_type": "code",
   "execution_count": 1,
   "metadata": {},
   "outputs": [
    {
     "name": "stdout",
     "output_type": "stream",
     "text": [
      "WARNING:tensorflow:From c:\\Users\\yanni\\.conda\\envs\\ML\\Lib\\site-packages\\keras\\src\\losses.py:2976: The name tf.losses.sparse_softmax_cross_entropy is deprecated. Please use tf.compat.v1.losses.sparse_softmax_cross_entropy instead.\n",
      "\n"
     ]
    }
   ],
   "source": [
    "import sys\n",
    "sys.path.append('../ml/BERT')\n",
    "import masking\n",
    "import BERT\n",
    "from Vectorisation import Vectorisation\n",
    "from Config import Config\n",
    "from MaskedTextGenerator import MaskedTextGenerator\n",
    "\n",
    "import pickle\n",
    "import tensorflow as tf\n",
    "import numpy as np\n",
    "from tensorflow import keras\n",
    "\n",
    "with open(\"../../data/ml4science_data.pkl\", \"rb\") as fp:\n",
    "    data_dict = pickle.load(fp)\n",
    "\n",
    "config = Config()\n",
    "vec = Vectorisation(config=config)"
   ]
  },
  {
   "cell_type": "markdown",
   "metadata": {},
   "source": [
    "# Testing BERT"
   ]
  },
  {
   "cell_type": "code",
   "execution_count": 2,
   "metadata": {},
   "outputs": [
    {
     "name": "stdout",
     "output_type": "stream",
     "text": [
      "(254, 128) (254, 128) (254, 128)\n",
      "<_BatchDataset element_spec=(TensorSpec(shape=(None, 128), dtype=tf.int32, name=None), TensorSpec(shape=(None, 128), dtype=tf.int32, name=None), TensorSpec(shape=(None, 128), dtype=tf.float64, name=None))>\n"
     ]
    }
   ],
   "source": [
    "# Prepare data for masked language model\n",
    "encoded = vec.encode_dict(data_dict)\n",
    "x_masked_encoded, y_masked_encoded, sample_weights = masking.mask_input_and_labels(encoded, config.TOKEN_DICT, seed=32)\n",
    "print(x_masked_encoded.shape, y_masked_encoded.shape, sample_weights.shape)\n",
    "\n",
    "mlm_ds = tf.data.Dataset.from_tensor_slices((x_masked_encoded, y_masked_encoded, sample_weights))\n",
    "mlm_ds = mlm_ds.shuffle(1000).batch(config.BATCH_SIZE)\n",
    "\n",
    "print(mlm_ds)"
   ]
  },
  {
   "cell_type": "code",
   "execution_count": 3,
   "metadata": {},
   "outputs": [
    {
     "data": {
      "text/plain": [
       "array([[26,  2, 26, ...,  0,  0,  0],\n",
       "       [26, 21, 26, ..., 14, 11, 14],\n",
       "       [25, 26, 21, ...,  0,  0,  0],\n",
       "       ...,\n",
       "       [26,  2, 26, ...,  0,  0,  0],\n",
       "       [26, 25, 26, ...,  0,  0,  0],\n",
       "       [26,  2, 26, ..., 22, 26, 21]])"
      ]
     },
     "execution_count": 3,
     "metadata": {},
     "output_type": "execute_result"
    }
   ],
   "source": [
    "encoded"
   ]
  },
  {
   "cell_type": "code",
   "execution_count": 4,
   "metadata": {},
   "outputs": [
    {
     "name": "stdout",
     "output_type": "stream",
     "text": [
      "[26  2 26 21 21 26 23 25 21 23  2 21 26 21 21 26 21 25  3  8  3  3  3  3\n",
      "  3  3  3  3  7  8  4  2  8  3 16 20 21 26 21 23 21  3  8  7  8  3  5  8\n",
      "  4  8  2  8  3  8 10  9 10  9  9 15 20 11  9 14 13 11  9 14 13 14 10 11\n",
      "  9  9 13 14 13 14 11  9 10 14 13 10 11  9 14  9 14 15 20 15 15 17 20  0\n",
      "  0  0  0  0  0  0  0  0  0  0  0  0  0  0  0  0  0  0  0  0  0  0  0  0\n",
      "  0  0  0  0  0  0  0  0]\n"
     ]
    }
   ],
   "source": [
    "sample_tokens = x_masked_encoded[0:1]\n",
    "print(y_masked_encoded[0])"
   ]
  },
  {
   "cell_type": "code",
   "execution_count": 5,
   "metadata": {},
   "outputs": [
    {
     "name": "stdout",
     "output_type": "stream",
     "text": [
      "[26  2 26 21 21 26  9 25 21 23  2 21 26 21 21 26 21  1  3  8  3  1  3  3\n",
      "  3  3  3  3  7  8  1  2  8  3 16 20 21 26 21 23 21  3  8  7  8  3  5  8\n",
      "  4  1  2  8  3  1 10  9 10  9  9 15  1 11  9  1  1 11  9 14 13 14 10  1\n",
      "  9  9 13 14 13 14 11  9 10 14 13 10 11  1 14  9  1 15 20 15 15 17 20  0\n",
      "  0  0  0  0  0  0  0  0  0  0  0  0  0  0  0  0  0  0  0  0  0  0  0  0\n",
      "  0  0  0  0  0  0  0  0]\n"
     ]
    }
   ],
   "source": [
    "print(x_masked_encoded[0])"
   ]
  },
  {
   "cell_type": "code",
   "execution_count": 6,
   "metadata": {},
   "outputs": [
    {
     "name": "stdout",
     "output_type": "stream",
     "text": [
      "WARNING:tensorflow:From c:\\Users\\yanni\\.conda\\envs\\ML\\Lib\\site-packages\\keras\\src\\backend.py:1398: The name tf.executing_eagerly_outside_functions is deprecated. Please use tf.compat.v1.executing_eagerly_outside_functions instead.\n",
      "\n",
      "Model: \"masked_bert_model\"\n",
      "__________________________________________________________________________________________________\n",
      " Layer (type)                Output Shape                 Param #   Connected to                  \n",
      "==================================================================================================\n",
      " input_1 (InputLayer)        [(None, 128)]                0         []                            \n",
      "                                                                                                  \n",
      " word_embedding (Embedding)  (None, 128, 64)              1728      ['input_1[0][0]']             \n",
      "                                                                                                  \n",
      " tf.__operators__.add (TFOp  (None, 128, 64)              0         ['word_embedding[0][0]']      \n",
      " Lambda)                                                                                          \n",
      "                                                                                                  \n",
      " encoder_0/multiheadattenti  (None, 128, 64)              16640     ['tf.__operators__.add[0][0]',\n",
      " on (MultiHeadAttention)                                             'tf.__operators__.add[0][0]',\n",
      "                                                                     'tf.__operators__.add[0][0]']\n",
      "                                                                                                  \n",
      " encoder_0/att_dropout (Dro  (None, 128, 64)              0         ['encoder_0/multiheadattention\n",
      " pout)                                                              [0][0]']                      \n",
      "                                                                                                  \n",
      " tf.__operators__.add_1 (TF  (None, 128, 64)              0         ['tf.__operators__.add[0][0]',\n",
      " OpLambda)                                                           'encoder_0/att_dropout[0][0]'\n",
      "                                                                    ]                             \n",
      "                                                                                                  \n",
      " encoder_0/att_layernormali  (None, 128, 64)              128       ['tf.__operators__.add_1[0][0]\n",
      " zation (LayerNormalization                                         ']                            \n",
      " )                                                                                                \n",
      "                                                                                                  \n",
      " encoder_0/ffn (Sequential)  (None, 128, 64)              8320      ['encoder_0/att_layernormaliza\n",
      "                                                                    tion[0][0]']                  \n",
      "                                                                                                  \n",
      " encoder_0/ffn_dropout (Dro  (None, 128, 64)              0         ['encoder_0/ffn[0][0]']       \n",
      " pout)                                                                                            \n",
      "                                                                                                  \n",
      " tf.__operators__.add_2 (TF  (None, 128, 64)              0         ['encoder_0/att_layernormaliza\n",
      " OpLambda)                                                          tion[0][0]',                  \n",
      "                                                                     'encoder_0/ffn_dropout[0][0]'\n",
      "                                                                    ]                             \n",
      "                                                                                                  \n",
      " encoder_0/ffn_layernormali  (None, 128, 64)              128       ['tf.__operators__.add_2[0][0]\n",
      " zation (LayerNormalization                                         ']                            \n",
      " )                                                                                                \n",
      "                                                                                                  \n",
      " mlm_cls (Dense)             (None, 128, 27)              1755      ['encoder_0/ffn_layernormaliza\n",
      "                                                                    tion[0][0]']                  \n",
      "                                                                                                  \n",
      "==================================================================================================\n",
      "Total params: 28701 (112.11 KB)\n",
      "Trainable params: 28699 (112.11 KB)\n",
      "Non-trainable params: 2 (8.00 Byte)\n",
      "__________________________________________________________________________________________________\n"
     ]
    }
   ],
   "source": [
    "generator_callback = MaskedTextGenerator(sample_tokens, config.TOKEN_DICT['[MASK]'])\n",
    "\n",
    "bert_masked_model = BERT.create_masked_language_bert_model(config)\n",
    "bert_masked_model.summary()"
   ]
  },
  {
   "cell_type": "code",
   "execution_count": 7,
   "metadata": {},
   "outputs": [
    {
     "name": "stdout",
     "output_type": "stream",
     "text": [
      "Epoch 1/100\n",
      "16/16 [==============================] - 2s 16ms/step - loss: 3.3564\n",
      "Epoch 2/100\n",
      "16/16 [==============================] - 0s 13ms/step - loss: 2.7381\n",
      "Epoch 3/100\n",
      "16/16 [==============================] - 0s 13ms/step - loss: 2.6184\n",
      "Epoch 4/100\n",
      "16/16 [==============================] - 0s 14ms/step - loss: 2.5670\n",
      "Epoch 5/100\n",
      "16/16 [==============================] - 0s 15ms/step - loss: 2.5496\n",
      "Epoch 6/100\n",
      "16/16 [==============================] - 0s 16ms/step - loss: 2.5153\n",
      "Epoch 7/100\n",
      "16/16 [==============================] - 0s 19ms/step - loss: 2.4940\n",
      "Epoch 8/100\n",
      "16/16 [==============================] - 0s 19ms/step - loss: 2.4592\n",
      "Epoch 9/100\n",
      "16/16 [==============================] - 0s 17ms/step - loss: 2.4278\n",
      "Epoch 10/100\n",
      "16/16 [==============================] - 0s 16ms/step - loss: 2.3439\n",
      "Epoch 11/100\n",
      "16/16 [==============================] - 0s 15ms/step - loss: 2.2026\n",
      "Epoch 12/100\n",
      "16/16 [==============================] - 0s 16ms/step - loss: 2.0900\n",
      "Epoch 13/100\n",
      "16/16 [==============================] - 0s 15ms/step - loss: 2.0212\n",
      "Epoch 14/100\n",
      "16/16 [==============================] - 0s 15ms/step - loss: 1.9624\n",
      "Epoch 15/100\n",
      "16/16 [==============================] - 0s 15ms/step - loss: 1.8996\n",
      "Epoch 16/100\n",
      "16/16 [==============================] - 0s 20ms/step - loss: 1.8342\n",
      "Epoch 17/100\n",
      "16/16 [==============================] - 0s 17ms/step - loss: 1.7969\n",
      "Epoch 18/100\n",
      "16/16 [==============================] - 0s 15ms/step - loss: 1.7532\n",
      "Epoch 19/100\n",
      "16/16 [==============================] - 0s 17ms/step - loss: 1.7020\n",
      "Epoch 20/100\n",
      "16/16 [==============================] - 0s 18ms/step - loss: 1.6704\n",
      "Epoch 21/100\n",
      "16/16 [==============================] - 0s 16ms/step - loss: 1.6239\n",
      "Epoch 22/100\n",
      "16/16 [==============================] - 0s 15ms/step - loss: 1.5952\n",
      "Epoch 23/100\n",
      "16/16 [==============================] - 0s 17ms/step - loss: 1.5684\n",
      "Epoch 24/100\n",
      "16/16 [==============================] - 0s 18ms/step - loss: 1.5450\n",
      "Epoch 25/100\n",
      "16/16 [==============================] - 0s 15ms/step - loss: 1.5130\n",
      "Epoch 26/100\n",
      "16/16 [==============================] - 0s 18ms/step - loss: 1.4740\n",
      "Epoch 27/100\n",
      "16/16 [==============================] - 0s 20ms/step - loss: 1.4609\n",
      "Epoch 28/100\n",
      "16/16 [==============================] - 0s 18ms/step - loss: 1.4460\n",
      "Epoch 29/100\n",
      "16/16 [==============================] - 0s 17ms/step - loss: 1.4251\n",
      "Epoch 30/100\n",
      "16/16 [==============================] - 0s 16ms/step - loss: 1.4036\n",
      "Epoch 31/100\n",
      "16/16 [==============================] - 0s 16ms/step - loss: 1.3847\n",
      "Epoch 32/100\n",
      "16/16 [==============================] - 0s 16ms/step - loss: 1.3798\n",
      "Epoch 33/100\n",
      "16/16 [==============================] - 0s 17ms/step - loss: 1.3502\n",
      "Epoch 34/100\n",
      "16/16 [==============================] - 0s 16ms/step - loss: 1.3458\n",
      "Epoch 35/100\n",
      "16/16 [==============================] - 0s 16ms/step - loss: 1.3144\n",
      "Epoch 36/100\n",
      "16/16 [==============================] - 0s 19ms/step - loss: 1.3193\n",
      "Epoch 37/100\n",
      "16/16 [==============================] - 0s 16ms/step - loss: 1.2964\n",
      "Epoch 38/100\n",
      "16/16 [==============================] - 0s 16ms/step - loss: 1.2878\n",
      "Epoch 39/100\n",
      "16/16 [==============================] - 0s 17ms/step - loss: 1.2775\n",
      "Epoch 40/100\n",
      "16/16 [==============================] - 0s 16ms/step - loss: 1.2651\n",
      "Epoch 41/100\n",
      "16/16 [==============================] - 0s 15ms/step - loss: 1.2574\n",
      "Epoch 42/100\n",
      "16/16 [==============================] - 0s 15ms/step - loss: 1.2415\n",
      "Epoch 43/100\n",
      "16/16 [==============================] - 0s 17ms/step - loss: 1.2268\n",
      "Epoch 44/100\n",
      "16/16 [==============================] - 0s 16ms/step - loss: 1.2153\n",
      "Epoch 45/100\n",
      "16/16 [==============================] - 0s 16ms/step - loss: 1.2019\n",
      "Epoch 46/100\n",
      "16/16 [==============================] - 0s 14ms/step - loss: 1.1967\n",
      "Epoch 47/100\n",
      "16/16 [==============================] - 0s 15ms/step - loss: 1.2003\n",
      "Epoch 48/100\n",
      "16/16 [==============================] - 0s 16ms/step - loss: 1.1799\n",
      "Epoch 49/100\n",
      "16/16 [==============================] - 0s 16ms/step - loss: 1.1768\n",
      "Epoch 50/100\n",
      "16/16 [==============================] - 0s 16ms/step - loss: 1.1477\n",
      "Epoch 51/100\n",
      "16/16 [==============================] - 0s 17ms/step - loss: 1.1440\n",
      "Epoch 52/100\n",
      "16/16 [==============================] - 0s 16ms/step - loss: 1.1258\n",
      "Epoch 53/100\n",
      "16/16 [==============================] - 0s 16ms/step - loss: 1.1211\n",
      "Epoch 54/100\n",
      "16/16 [==============================] - 0s 16ms/step - loss: 1.1064\n",
      "Epoch 55/100\n",
      "16/16 [==============================] - 0s 15ms/step - loss: 1.1058\n",
      "Epoch 56/100\n",
      "16/16 [==============================] - 0s 15ms/step - loss: 1.0936\n",
      "Epoch 57/100\n",
      "16/16 [==============================] - 0s 17ms/step - loss: 1.0769\n",
      "Epoch 58/100\n",
      "16/16 [==============================] - 0s 16ms/step - loss: 1.0750\n",
      "Epoch 59/100\n",
      "16/16 [==============================] - 0s 16ms/step - loss: 1.0613\n",
      "Epoch 60/100\n",
      "16/16 [==============================] - 0s 15ms/step - loss: 1.0471\n",
      "Epoch 61/100\n",
      "16/16 [==============================] - 0s 16ms/step - loss: 1.0464\n",
      "Epoch 62/100\n",
      "16/16 [==============================] - 0s 15ms/step - loss: 1.0422\n",
      "Epoch 63/100\n",
      "16/16 [==============================] - 0s 17ms/step - loss: 1.0266\n",
      "Epoch 64/100\n",
      "16/16 [==============================] - 0s 16ms/step - loss: 1.0150\n",
      "Epoch 65/100\n",
      "16/16 [==============================] - 0s 16ms/step - loss: 1.0112\n",
      "Epoch 66/100\n",
      "16/16 [==============================] - 0s 16ms/step - loss: 0.9979\n",
      "Epoch 67/100\n",
      "16/16 [==============================] - 0s 16ms/step - loss: 0.9774\n",
      "Epoch 68/100\n",
      "16/16 [==============================] - 0s 15ms/step - loss: 0.9734\n",
      "Epoch 69/100\n",
      "16/16 [==============================] - 0s 16ms/step - loss: 0.9693\n",
      "Epoch 70/100\n",
      "16/16 [==============================] - 0s 16ms/step - loss: 0.9683\n",
      "Epoch 71/100\n",
      "16/16 [==============================] - 0s 18ms/step - loss: 0.9526\n",
      "Epoch 72/100\n",
      "16/16 [==============================] - 0s 24ms/step - loss: 0.9440\n",
      "Epoch 73/100\n",
      "16/16 [==============================] - 0s 17ms/step - loss: 0.9282\n",
      "Epoch 74/100\n",
      "16/16 [==============================] - 0s 15ms/step - loss: 0.9202\n",
      "Epoch 75/100\n",
      "16/16 [==============================] - 0s 16ms/step - loss: 0.9112\n",
      "Epoch 76/100\n",
      "16/16 [==============================] - 0s 17ms/step - loss: 0.9146\n",
      "Epoch 77/100\n",
      "16/16 [==============================] - 0s 16ms/step - loss: 0.8970\n",
      "Epoch 78/100\n",
      "16/16 [==============================] - 0s 16ms/step - loss: 0.8922\n",
      "Epoch 79/100\n",
      "16/16 [==============================] - 0s 17ms/step - loss: 0.8887\n",
      "Epoch 80/100\n",
      "16/16 [==============================] - 0s 15ms/step - loss: 0.8883\n",
      "Epoch 81/100\n",
      "16/16 [==============================] - 0s 16ms/step - loss: 0.8702\n",
      "Epoch 82/100\n",
      "16/16 [==============================] - 0s 17ms/step - loss: 0.8613\n",
      "Epoch 83/100\n",
      "16/16 [==============================] - 0s 16ms/step - loss: 0.8472\n",
      "Epoch 84/100\n",
      "16/16 [==============================] - 0s 18ms/step - loss: 0.8410\n",
      "Epoch 85/100\n",
      "16/16 [==============================] - 0s 17ms/step - loss: 0.8252\n",
      "Epoch 86/100\n",
      "16/16 [==============================] - 0s 16ms/step - loss: 0.8232\n",
      "Epoch 87/100\n",
      "16/16 [==============================] - 0s 16ms/step - loss: 0.8214\n",
      "Epoch 88/100\n",
      "16/16 [==============================] - 0s 16ms/step - loss: 0.8017\n",
      "Epoch 89/100\n",
      "16/16 [==============================] - 0s 17ms/step - loss: 0.7910\n",
      "Epoch 90/100\n",
      "16/16 [==============================] - 0s 17ms/step - loss: 0.7863\n",
      "Epoch 91/100\n",
      "16/16 [==============================] - 0s 16ms/step - loss: 0.7709\n",
      "Epoch 92/100\n",
      "16/16 [==============================] - 0s 16ms/step - loss: 0.7775\n",
      "Epoch 93/100\n",
      "16/16 [==============================] - 0s 17ms/step - loss: 0.7608\n",
      "Epoch 94/100\n",
      "16/16 [==============================] - 0s 17ms/step - loss: 0.7618\n",
      "Epoch 95/100\n",
      "16/16 [==============================] - 0s 16ms/step - loss: 0.7527\n",
      "Epoch 96/100\n",
      "16/16 [==============================] - 0s 17ms/step - loss: 0.7296\n",
      "Epoch 97/100\n",
      "16/16 [==============================] - 0s 15ms/step - loss: 0.7220\n",
      "Epoch 98/100\n",
      "16/16 [==============================] - 0s 15ms/step - loss: 0.7155\n",
      "Epoch 99/100\n",
      "16/16 [==============================] - 0s 16ms/step - loss: 0.7287\n",
      "Epoch 100/100\n",
      "16/16 [==============================] - 0s 15ms/step - loss: 0.7165\n"
     ]
    },
    {
     "data": {
      "text/plain": [
       "<keras.src.callbacks.History at 0x1a6e7ee8d50>"
      ]
     },
     "execution_count": 7,
     "metadata": {},
     "output_type": "execute_result"
    }
   ],
   "source": [
    "# A callback in Keras is a function that is called at certain points during the training process. -> Here is called after each epoch during the training\n",
    "# Here we use to see the \"performance\" at each epoch while predicting on a \"test set\" aka the sample_tokens\n",
    "\n",
    "bert_masked_model.fit(mlm_ds, epochs=100)#, callbacks=[generator_callback]) "
   ]
  },
  {
   "cell_type": "code",
   "execution_count": 11,
   "metadata": {},
   "outputs": [
    {
     "name": "stdout",
     "output_type": "stream",
     "text": [
      "8/8 [==============================] - 0s 11ms/step\n",
      "Predictions:\n",
      " [26 26 26 21 21 26 23 25 21 23 26 21 26 21 21 26 21 25  3  3  3  3  3  3\n",
      "  3  3  3  3  7  8  4  5  8  3 16 20  4 26  7  7  3  3  8  7  8  3  8  8\n",
      "  5  8  8  8  3  8 10  9 10  9  9 13 20 11  9 13 13 11  9 14  3 14 11 11\n",
      "  9  9  9 14  9 14  9  9 10 14 13 13 11  9 14  9  9 15 20 15 15 15 20 11\n",
      " 11  9  9  9  9 15 15 15 15 19 19 19 19 20 20 17 17 17 19 19 15 15 15  8\n",
      " 17 17 17 17  3  3  9  9]\n",
      "Original:\n",
      " [26  2 26 21 21 26 23 25 21 23  2 21 26 21 21 26 21 25  3  8  3  3  3  3\n",
      "  3  3  3  3  7  8  4  2  8  3 16 20 21 26 21 23 21  3  8  7  8  3  5  8\n",
      "  4  8  2  8  3  8 10  9 10  9  9 15 20 11  9 14 13 11  9 14 13 14 10 11\n",
      "  9  9 13 14 13 14 11  9 10 14 13 10 11  9 14  9 14 15 20 15 15 17 20  0\n",
      "  0  0  0  0  0  0  0  0  0  0  0  0  0  0  0  0  0  0  0  0  0  0  0  0\n",
      "  0  0  0  0  0  0  0  0]\n",
      "Masked:\n",
      " [26  2 26 21 21 26  9 25 21 23  2 21 26 21 21 26 21  1  3  8  3  1  3  3\n",
      "  3  3  3  3  7  8  1  2  8  3 16 20 21 26 21 23 21  3  8  7  8  3  5  8\n",
      "  4  1  2  8  3  1 10  9 10  9  9 15  1 11  9  1  1 11  9 14 13 14 10  1\n",
      "  9  9 13 14 13 14 11  9 10 14 13 10 11  1 14  9  1 15 20 15 15 17 20  0\n",
      "  0  0  0  0  0  0  0  0  0  0  0  0  0  0  0  0  0  0  0  0  0  0  0  0\n",
      "  0  0  0  0  0  0  0  0]\n"
     ]
    }
   ],
   "source": [
    "predictions = bert_masked_model.predict(x_masked_encoded)\n",
    "\n",
    "predictions_max = np.argmax(predictions, axis=2)\n",
    "print(\"Predictions:\\n\",predictions_max[0])\n",
    "print(\"Original:\\n\", y_masked_encoded[0])\n",
    "print(\"Masked:\\n\", x_masked_encoded[0])"
   ]
  },
  {
   "cell_type": "code",
   "execution_count": 12,
   "metadata": {},
   "outputs": [
    {
     "name": "stdout",
     "output_type": "stream",
     "text": [
      "[ True False  True  True  True  True  True  True  True  True False  True\n",
      "  True  True  True  True  True  True  True False  True  True  True  True\n",
      "  True  True  True  True  True  True  True False  True  True  True  True\n",
      " False  True False False False  True  True  True  True  True False  True\n",
      " False  True False  True  True  True  True  True  True  True  True False\n",
      "  True  True  True False  True  True  True  True False  True False  True\n",
      "  True  True False  True False  True False  True  True  True  True False\n",
      "  True  True  True  True False  True  True  True  True False  True False\n",
      " False False False False False False False False False False False False\n",
      " False False False False False False False False False False False False\n",
      " False False False False False False False False]\n",
      "Accuracy brut:  0.6072834645669292\n",
      "Accuracy without taking in acount padding:  0.8230178209369331\n",
      "Accuracy on masked tokens:  0.745125348189415\n"
     ]
    }
   ],
   "source": [
    "print(predictions_max[0] == y_masked_encoded[0])\n",
    "# print accuracy\n",
    "print(\"Accuracy brut: \", np.sum(predictions_max == y_masked_encoded) / (100*len(y_masked_encoded)))\n",
    "# print accuracy without padding\n",
    "print(\"Accuracy without taking in acount padding: \", np.sum((predictions_max == y_masked_encoded) * (y_masked_encoded!= 0)) / np.sum(y_masked_encoded != 0))\n",
    "print(\"Accuracy on masked tokens: \", np.sum((predictions_max == y_masked_encoded) * (x_masked_encoded == config.TOKEN_DICT['[MASK]'])) / np.sum(x_masked_encoded == config.TOKEN_DICT['[MASK]']))"
   ]
  },
  {
   "cell_type": "code",
   "execution_count": 10,
   "metadata": {},
   "outputs": [
    {
     "data": {
      "text/plain": [
       "'def get_end_to_end(model):\\n    inputs = keras.Input(shape=(None,))\\n    outputs = model(inputs)\\n    reshaped_outputs = keras.layers.Lambda(lambda x: keras.backend.argmax(x, axis=-1))(outputs)\\n    end_to_end_model = keras.Model(inputs, reshaped_outputs, name=\"end_to_end_model\")\\n    optimizer = keras.optimizers.Adam(learning_rate=config.bert.LR)\\n    end_to_end_model.compile(\\n        optimizer=optimizer, loss=\"sparse_categorical_crossentropy\", metrics=[\"accuracy\"]\\n    )\\n    return end_to_end_model\\n\\nend_to_end_classification_model = get_end_to_end(bert_masked_model)\\n\\n# Build dataset for end to end model input (will be used at the end)\\ntest_raw_classifier_ds = tf.data.Dataset.from_tensor_slices((x_masked_encoded, y_masked_encoded)).batch(config.BATCH_SIZE)\\n\\nend_to_end_classification_model.evaluate(test_raw_classifier_ds)'"
      ]
     },
     "execution_count": 10,
     "metadata": {},
     "output_type": "execute_result"
    }
   ],
   "source": [
    "# This how we can load a Keras model\n",
    "\"\"\"# Load OUR pretrained bert model\n",
    "mlm_model = keras.models.load_model(\n",
    "    \"bert_mlm_imdb.keras\", custom_objects={\"MaskedLanguageModel\": MaskedLanguageModel}\n",
    ")\"\"\"\n",
    "\n",
    "# Kinda failed attempt to create a end to end model (we don't really need it) -> But it's a good example of how to create a model with a custom loss function and reshape the output\n",
    "\"\"\"def get_end_to_end(model):\n",
    "    inputs = keras.Input(shape=(None,))\n",
    "    outputs = model(inputs)\n",
    "    reshaped_outputs = keras.layers.Lambda(lambda x: keras.backend.argmax(x, axis=-1))(outputs)\n",
    "    end_to_end_model = keras.Model(inputs, reshaped_outputs, name=\"end_to_end_model\")\n",
    "    optimizer = keras.optimizers.Adam(learning_rate=config.bert.LR)\n",
    "    end_to_end_model.compile(\n",
    "        optimizer=optimizer, loss=\"sparse_categorical_crossentropy\", metrics=[\"accuracy\"]\n",
    "    )\n",
    "    return end_to_end_model\n",
    "\n",
    "end_to_end_classification_model = get_end_to_end(bert_masked_model)\n",
    "\n",
    "# Build dataset for end to end model input (will be used at the end)\n",
    "test_raw_classifier_ds = tf.data.Dataset.from_tensor_slices((x_masked_encoded, y_masked_encoded)).batch(config.BATCH_SIZE)\n",
    "\n",
    "end_to_end_classification_model.evaluate(test_raw_classifier_ds)\"\"\""
   ]
  },
  {
   "cell_type": "code",
   "execution_count": null,
   "metadata": {},
   "outputs": [],
   "source": []
  }
 ],
 "metadata": {
  "kernelspec": {
   "display_name": "ML",
   "language": "python",
   "name": "python3"
  },
  "language_info": {
   "codemirror_mode": {
    "name": "ipython",
    "version": 3
   },
   "file_extension": ".py",
   "mimetype": "text/x-python",
   "name": "python",
   "nbconvert_exporter": "python",
   "pygments_lexer": "ipython3",
   "version": "3.11.5"
  }
 },
 "nbformat": 4,
 "nbformat_minor": 2
}
