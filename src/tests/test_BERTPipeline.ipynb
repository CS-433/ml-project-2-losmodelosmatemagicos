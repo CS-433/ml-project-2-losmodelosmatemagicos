{
 "cells": [
  {
   "cell_type": "markdown",
   "metadata": {},
   "source": [
    "# Testing BertPipeline"
   ]
  },
  {
   "cell_type": "code",
   "execution_count": 1,
   "metadata": {},
   "outputs": [
    {
     "name": "stdout",
     "output_type": "stream",
     "text": [
      "WARNING:tensorflow:From c:\\Users\\yanni\\.conda\\envs\\ML\\Lib\\site-packages\\keras\\src\\losses.py:2976: The name tf.losses.sparse_softmax_cross_entropy is deprecated. Please use tf.compat.v1.losses.sparse_softmax_cross_entropy instead.\n",
      "\n"
     ]
    }
   ],
   "source": [
    "import sys\n",
    "sys.path.append('../ml/BERT')\n",
    "import masking\n",
    "import BERT\n",
    "from Vectorisation import Vectorisation\n",
    "from Config import Config\n",
    "\n",
    "import pickle\n",
    "import tensorflow as tf\n",
    "import numpy as np\n",
    "with open(\"../../data/ml4science_data.pkl\", \"rb\") as fp:\n",
    "    data_dict = pickle.load(fp)\n",
    "\n",
    "config = Config(EPOCH=50)\n",
    "vec = Vectorisation(config=config)"
   ]
  },
  {
   "cell_type": "code",
   "execution_count": 2,
   "metadata": {},
   "outputs": [
    {
     "data": {
      "text/plain": [
       "[[0, 0, 0, 1, 0, 0, 0, 0, 0, 7.889],\n",
       " [0.0, 0.0, 0.0, 1.0, 0.0, 0.0, 0.0, 0.0, 75.141, 0.0],\n",
       " [0.0, 0.0, 0.0, 1.0, 0, 0, 0, 0, 0, 3.25]]"
      ]
     },
     "execution_count": 2,
     "metadata": {},
     "output_type": "execute_result"
    }
   ],
   "source": [
    "# Load the sequences used in src\\script_oversample.py\n",
    "with open('../../data/sequences.pkl', 'rb') as f:\n",
    "    decoded_sequences = pickle.load(f)\n",
    "\n",
    "decoded_sequences[0][0:3]"
   ]
  },
  {
   "cell_type": "code",
   "execution_count": 3,
   "metadata": {},
   "outputs": [
    {
     "name": "stdout",
     "output_type": "stream",
     "text": [
      "(254, 128)\n",
      "[26  2 26 21 21 26 23 25 21 23  2 21 26 21 21 26 21 25  3  8  3  3  3  3\n",
      "  3  3  3  3  7  8  4  2  8  3 16 20 21 26 21 23 21  3  8  7  8  3  5  8\n",
      "  4  8  2  8  3  8 10  9 10  9  9 15 20 11  9 14 13 11  9 14 13 14 10 11\n",
      "  9  9 13 14 13 14 11  9 10 14 13 10 11  9 14  9 14 15 20 15 15 17 20  0\n",
      "  0  0  0  0  0  0  0  0  0  0  0  0  0  0  0  0  0  0  0  0  0  0  0  0\n",
      "  0  0  0  0  0  0  0  0]\n"
     ]
    }
   ],
   "source": [
    "seps = vec.sep_from_seq(decoded_sequences)\n",
    "encoded_sequences = vec.encode(decoded_sequences, seps)\n",
    "print(encoded_sequences.shape)\n",
    "print(encoded_sequences[0])"
   ]
  },
  {
   "cell_type": "code",
   "execution_count": 4,
   "metadata": {},
   "outputs": [
    {
     "name": "stdout",
     "output_type": "stream",
     "text": [
      "(254, 128) (254, 128) (254, 128)\n",
      "<_BatchDataset element_spec=(TensorSpec(shape=(None, 128), dtype=tf.int32, name=None), TensorSpec(shape=(None, 128), dtype=tf.int32, name=None), TensorSpec(shape=(None, 128), dtype=tf.float64, name=None))>\n"
     ]
    }
   ],
   "source": [
    "x_masked_encoded, y_masked_encoded, sample_weights = masking.mask_input_and_labels(encoded_sequences, config.TOKEN_DICT)\n",
    "print(x_masked_encoded.shape, y_masked_encoded.shape, sample_weights.shape)\n",
    "\n",
    "mlm_ds = tf.data.Dataset.from_tensor_slices((x_masked_encoded, y_masked_encoded, sample_weights))\n",
    "mlm_ds = mlm_ds.batch(config.BATCH_SIZE)\n",
    "print(mlm_ds)"
   ]
  },
  {
   "cell_type": "code",
   "execution_count": 5,
   "metadata": {},
   "outputs": [
    {
     "name": "stdout",
     "output_type": "stream",
     "text": [
      "WARNING:tensorflow:From c:\\Users\\yanni\\.conda\\envs\\ML\\Lib\\site-packages\\keras\\src\\backend.py:1398: The name tf.executing_eagerly_outside_functions is deprecated. Please use tf.compat.v1.executing_eagerly_outside_functions instead.\n",
      "\n",
      "Epoch 1/50\n",
      "16/16 [==============================] - 2s 17ms/step - loss: 3.2383\n",
      "Epoch 2/50\n",
      "16/16 [==============================] - 0s 16ms/step - loss: 2.7221\n",
      "Epoch 3/50\n",
      "16/16 [==============================] - 0s 15ms/step - loss: 2.5815\n",
      "Epoch 4/50\n",
      "16/16 [==============================] - 0s 14ms/step - loss: 2.5305\n",
      "Epoch 5/50\n",
      "16/16 [==============================] - 0s 14ms/step - loss: 2.4930\n",
      "Epoch 6/50\n",
      "16/16 [==============================] - 0s 14ms/step - loss: 2.4548\n",
      "Epoch 7/50\n",
      "16/16 [==============================] - 0s 14ms/step - loss: 2.4310\n",
      "Epoch 8/50\n",
      "16/16 [==============================] - 0s 17ms/step - loss: 2.3913\n",
      "Epoch 9/50\n",
      "16/16 [==============================] - 0s 17ms/step - loss: 2.3363\n",
      "Epoch 10/50\n",
      "16/16 [==============================] - 0s 14ms/step - loss: 2.2485\n",
      "Epoch 11/50\n",
      "16/16 [==============================] - 0s 14ms/step - loss: 2.1179\n",
      "Epoch 12/50\n",
      "16/16 [==============================] - 0s 14ms/step - loss: 2.0189\n",
      "Epoch 13/50\n",
      "16/16 [==============================] - 0s 15ms/step - loss: 1.9669\n",
      "Epoch 14/50\n",
      "16/16 [==============================] - 0s 14ms/step - loss: 1.9039\n",
      "Epoch 15/50\n",
      "16/16 [==============================] - 0s 15ms/step - loss: 1.8654\n",
      "Epoch 16/50\n",
      "16/16 [==============================] - 0s 14ms/step - loss: 1.7953\n",
      "Epoch 17/50\n",
      "16/16 [==============================] - 0s 15ms/step - loss: 1.7558\n",
      "Epoch 18/50\n",
      "16/16 [==============================] - 0s 15ms/step - loss: 1.7037\n",
      "Epoch 19/50\n",
      "16/16 [==============================] - 0s 15ms/step - loss: 1.6603\n",
      "Epoch 20/50\n",
      "16/16 [==============================] - 0s 16ms/step - loss: 1.6221\n",
      "Epoch 21/50\n",
      "16/16 [==============================] - 0s 19ms/step - loss: 1.6029\n",
      "Epoch 22/50\n",
      "16/16 [==============================] - 0s 16ms/step - loss: 1.5610\n",
      "Epoch 23/50\n",
      "16/16 [==============================] - 0s 16ms/step - loss: 1.5296\n",
      "Epoch 24/50\n",
      "16/16 [==============================] - 0s 15ms/step - loss: 1.4994\n",
      "Epoch 25/50\n",
      "16/16 [==============================] - 0s 19ms/step - loss: 1.4647\n",
      "Epoch 26/50\n",
      "16/16 [==============================] - 0s 19ms/step - loss: 1.4453\n",
      "Epoch 27/50\n",
      "16/16 [==============================] - 0s 19ms/step - loss: 1.4230\n",
      "Epoch 28/50\n",
      "16/16 [==============================] - 0s 16ms/step - loss: 1.3984\n",
      "Epoch 29/50\n",
      "16/16 [==============================] - 0s 15ms/step - loss: 1.3809\n",
      "Epoch 30/50\n",
      "16/16 [==============================] - 0s 16ms/step - loss: 1.3549\n",
      "Epoch 31/50\n",
      "16/16 [==============================] - 0s 16ms/step - loss: 1.3338\n",
      "Epoch 32/50\n",
      "16/16 [==============================] - 0s 16ms/step - loss: 1.3111\n",
      "Epoch 33/50\n",
      "16/16 [==============================] - 0s 15ms/step - loss: 1.2935\n",
      "Epoch 34/50\n",
      "16/16 [==============================] - 0s 17ms/step - loss: 1.2712\n",
      "Epoch 35/50\n",
      "16/16 [==============================] - 0s 15ms/step - loss: 1.2550\n",
      "Epoch 36/50\n",
      "16/16 [==============================] - 0s 16ms/step - loss: 1.2392\n",
      "Epoch 37/50\n",
      "16/16 [==============================] - 0s 15ms/step - loss: 1.2237\n",
      "Epoch 38/50\n",
      "16/16 [==============================] - 0s 15ms/step - loss: 1.2092\n",
      "Epoch 39/50\n",
      "16/16 [==============================] - 0s 16ms/step - loss: 1.1881\n",
      "Epoch 40/50\n",
      "16/16 [==============================] - 0s 15ms/step - loss: 1.1847\n",
      "Epoch 41/50\n",
      "16/16 [==============================] - 0s 15ms/step - loss: 1.1684\n",
      "Epoch 42/50\n",
      "16/16 [==============================] - 0s 15ms/step - loss: 1.1521\n",
      "Epoch 43/50\n",
      "16/16 [==============================] - 0s 15ms/step - loss: 1.1536\n",
      "Epoch 44/50\n",
      "16/16 [==============================] - 0s 17ms/step - loss: 1.1324\n",
      "Epoch 45/50\n",
      "16/16 [==============================] - 0s 15ms/step - loss: 1.1256\n",
      "Epoch 46/50\n",
      "16/16 [==============================] - 0s 16ms/step - loss: 1.1012\n",
      "Epoch 47/50\n",
      "16/16 [==============================] - 0s 16ms/step - loss: 1.1100\n",
      "Epoch 48/50\n",
      "16/16 [==============================] - 0s 15ms/step - loss: 1.0894\n",
      "Epoch 49/50\n",
      "16/16 [==============================] - 0s 16ms/step - loss: 1.0734\n",
      "Epoch 50/50\n",
      "16/16 [==============================] - 0s 17ms/step - loss: 1.0631\n"
     ]
    },
    {
     "data": {
      "text/plain": [
       "<keras.src.callbacks.History at 0x209b30ec310>"
      ]
     },
     "execution_count": 5,
     "metadata": {},
     "output_type": "execute_result"
    }
   ],
   "source": [
    "bert_masked_model = BERT.create_masked_language_bert_model(config)\n",
    "#bert_masked_model.summary()\n",
    "\n",
    "bert_masked_model.fit(mlm_ds, epochs=config.bert.epoch)"
   ]
  },
  {
   "cell_type": "code",
   "execution_count": 6,
   "metadata": {},
   "outputs": [
    {
     "name": "stdout",
     "output_type": "stream",
     "text": [
      "Model: \"masked_bert_model\"\n",
      "__________________________________________________________________________________________________\n",
      " Layer (type)                Output Shape                 Param #   Connected to                  \n",
      "==================================================================================================\n",
      " input_2 (InputLayer)        [(None, 128)]                0         []                            \n",
      "                                                                                                  \n",
      " word_embedding (Embedding)  (None, 128, 64)              1728      ['input_2[0][0]']             \n",
      "                                                                                                  \n",
      " tf.__operators__.add_3 (TF  (None, 128, 64)              0         ['word_embedding[0][0]']      \n",
      " OpLambda)                                                                                        \n",
      "                                                                                                  \n",
      " encoder_0/multiheadattenti  (None, 128, 64)              16640     ['tf.__operators__.add_3[0][0]\n",
      " on (MultiHeadAttention)                                            ',                            \n",
      "                                                                     'tf.__operators__.add_3[0][0]\n",
      "                                                                    ',                            \n",
      "                                                                     'tf.__operators__.add_3[0][0]\n",
      "                                                                    ']                            \n",
      "                                                                                                  \n",
      " encoder_0/att_dropout (Dro  (None, 128, 64)              0         ['encoder_0/multiheadattention\n",
      " pout)                                                              [0][0]']                      \n",
      "                                                                                                  \n",
      " tf.__operators__.add_4 (TF  (None, 128, 64)              0         ['tf.__operators__.add_3[0][0]\n",
      " OpLambda)                                                          ',                            \n",
      "                                                                     'encoder_0/att_dropout[0][0]'\n",
      "                                                                    ]                             \n",
      "                                                                                                  \n",
      " encoder_0/att_layernormali  (None, 128, 64)              128       ['tf.__operators__.add_4[0][0]\n",
      " zation (LayerNormalization                                         ']                            \n",
      " )                                                                                                \n",
      "                                                                                                  \n",
      " encoder_0/ffn (Sequential)  (None, 128, 64)              8320      ['encoder_0/att_layernormaliza\n",
      "                                                                    tion[0][0]']                  \n",
      "                                                                                                  \n",
      " encoder_0/ffn_dropout (Dro  (None, 128, 64)              0         ['encoder_0/ffn[0][0]']       \n",
      " pout)                                                                                            \n",
      "                                                                                                  \n",
      " tf.__operators__.add_5 (TF  (None, 128, 64)              0         ['encoder_0/att_layernormaliza\n",
      " OpLambda)                                                          tion[0][0]',                  \n",
      "                                                                     'encoder_0/ffn_dropout[0][0]'\n",
      "                                                                    ]                             \n",
      "                                                                                                  \n",
      " encoder_0/ffn_layernormali  (None, 128, 64)              128       ['tf.__operators__.add_5[0][0]\n",
      " zation (LayerNormalization                                         ']                            \n",
      " )                                                                                                \n",
      "                                                                                                  \n",
      " mlm_cls (Dense)             (None, 128, 27)              1755      ['encoder_0/ffn_layernormaliza\n",
      "                                                                    tion[0][0]']                  \n",
      "                                                                                                  \n",
      "==================================================================================================\n",
      "Total params: 28701 (112.11 KB)\n",
      "Trainable params: 28699 (112.11 KB)\n",
      "Non-trainable params: 2 (8.00 Byte)\n",
      "__________________________________________________________________________________________________\n",
      "Epoch 1/50\n",
      "16/16 [==============================] - 2s 16ms/step - loss: 3.1851\n",
      "Epoch 2/50\n",
      "16/16 [==============================] - 0s 15ms/step - loss: 2.7416\n",
      "Epoch 3/50\n",
      "16/16 [==============================] - 0s 14ms/step - loss: 2.6336\n",
      "Epoch 4/50\n",
      "16/16 [==============================] - 0s 14ms/step - loss: 2.5688\n",
      "Epoch 5/50\n",
      "16/16 [==============================] - 0s 14ms/step - loss: 2.5254\n",
      "Epoch 6/50\n",
      "16/16 [==============================] - 0s 12ms/step - loss: 2.4786\n",
      "Epoch 7/50\n",
      "16/16 [==============================] - 0s 12ms/step - loss: 2.4595\n",
      "Epoch 8/50\n",
      "16/16 [==============================] - 0s 12ms/step - loss: 2.4166\n",
      "Epoch 9/50\n",
      "16/16 [==============================] - 0s 16ms/step - loss: 2.3649\n",
      "Epoch 10/50\n",
      "16/16 [==============================] - 0s 15ms/step - loss: 2.2526\n",
      "Epoch 11/50\n",
      "16/16 [==============================] - 0s 16ms/step - loss: 2.1384\n",
      "Epoch 12/50\n",
      "16/16 [==============================] - 0s 15ms/step - loss: 2.0599\n",
      "Epoch 13/50\n",
      "16/16 [==============================] - 0s 16ms/step - loss: 2.0030\n",
      "Epoch 14/50\n",
      "16/16 [==============================] - 0s 15ms/step - loss: 1.9791\n",
      "Epoch 15/50\n",
      "16/16 [==============================] - 0s 16ms/step - loss: 1.9271\n",
      "Epoch 16/50\n",
      "16/16 [==============================] - 0s 16ms/step - loss: 1.8926\n",
      "Epoch 17/50\n",
      "16/16 [==============================] - 0s 17ms/step - loss: 1.8243\n",
      "Epoch 18/50\n",
      "16/16 [==============================] - 0s 16ms/step - loss: 1.7683\n",
      "Epoch 19/50\n",
      "16/16 [==============================] - 0s 16ms/step - loss: 1.7211\n",
      "Epoch 20/50\n",
      "16/16 [==============================] - 0s 16ms/step - loss: 1.6742\n",
      "Epoch 21/50\n",
      "16/16 [==============================] - 0s 15ms/step - loss: 1.6334\n",
      "Epoch 22/50\n",
      "16/16 [==============================] - 0s 14ms/step - loss: 1.5908\n",
      "Epoch 23/50\n",
      "16/16 [==============================] - 0s 15ms/step - loss: 1.5702\n",
      "Epoch 24/50\n",
      "16/16 [==============================] - 0s 19ms/step - loss: 1.5382\n",
      "Epoch 25/50\n",
      "16/16 [==============================] - 0s 21ms/step - loss: 1.5067\n",
      "Epoch 26/50\n",
      "16/16 [==============================] - 0s 18ms/step - loss: 1.4831\n",
      "Epoch 27/50\n",
      "16/16 [==============================] - 0s 18ms/step - loss: 1.4667\n",
      "Epoch 28/50\n",
      "16/16 [==============================] - 0s 16ms/step - loss: 1.4486\n",
      "Epoch 29/50\n",
      "16/16 [==============================] - 0s 18ms/step - loss: 1.4186\n",
      "Epoch 30/50\n",
      "16/16 [==============================] - 0s 15ms/step - loss: 1.4049\n",
      "Epoch 31/50\n",
      "16/16 [==============================] - 0s 14ms/step - loss: 1.3796\n",
      "Epoch 32/50\n",
      "16/16 [==============================] - 0s 15ms/step - loss: 1.3685\n",
      "Epoch 33/50\n",
      "16/16 [==============================] - 0s 15ms/step - loss: 1.3465\n",
      "Epoch 34/50\n",
      "16/16 [==============================] - 0s 15ms/step - loss: 1.3381\n",
      "Epoch 35/50\n",
      "16/16 [==============================] - 0s 16ms/step - loss: 1.3107\n",
      "Epoch 36/50\n",
      "16/16 [==============================] - 0s 18ms/step - loss: 1.3167\n",
      "Epoch 37/50\n",
      "16/16 [==============================] - 0s 17ms/step - loss: 1.2887\n",
      "Epoch 38/50\n",
      "16/16 [==============================] - 0s 17ms/step - loss: 1.2862\n",
      "Epoch 39/50\n",
      "16/16 [==============================] - 0s 16ms/step - loss: 1.2674\n",
      "Epoch 40/50\n",
      "16/16 [==============================] - 0s 16ms/step - loss: 1.2691\n",
      "Epoch 41/50\n",
      "16/16 [==============================] - 0s 15ms/step - loss: 1.2506\n",
      "Epoch 42/50\n",
      "16/16 [==============================] - 0s 16ms/step - loss: 1.2320\n",
      "Epoch 43/50\n",
      "16/16 [==============================] - 0s 17ms/step - loss: 1.2212\n",
      "Epoch 44/50\n",
      "16/16 [==============================] - 0s 16ms/step - loss: 1.2090\n",
      "Epoch 45/50\n",
      "16/16 [==============================] - 0s 20ms/step - loss: 1.1904\n",
      "Epoch 46/50\n",
      "16/16 [==============================] - 0s 17ms/step - loss: 1.1808\n",
      "Epoch 47/50\n",
      "16/16 [==============================] - 0s 19ms/step - loss: 1.1597\n",
      "Epoch 48/50\n",
      "16/16 [==============================] - 0s 23ms/step - loss: 1.1462\n",
      "Epoch 49/50\n",
      "16/16 [==============================] - 0s 21ms/step - loss: 1.1482\n",
      "Epoch 50/50\n",
      "16/16 [==============================] - 0s 17ms/step - loss: 1.1226\n"
     ]
    }
   ],
   "source": [
    "from BERTPipeline import BERTPipeline\n",
    "\n",
    "bert = BERTPipeline(config, vec)\n",
    "bert_masked_model = bert.train(decoded_sequences)"
   ]
  },
  {
   "cell_type": "code",
   "execution_count": 7,
   "metadata": {},
   "outputs": [
    {
     "name": "stdout",
     "output_type": "stream",
     "text": [
      "1/1 [==============================] - 0s 166ms/step\n",
      "[[ True False  True  True  True  True  True  True  True  True False  True\n",
      "   True  True  True  True  True  True False  True  True  True  True  True\n",
      "   True  True  True  True False  True  True False  True False False False\n",
      "   True  True  True  True  True  True  True False  True False  True  True\n",
      "   True  True False  True False False  True  True  True  True  True  True\n",
      "  False  True  True  True  True  True  True  True  True  True  True  True\n",
      "   True  True  True  True  True  True  True  True  True  True  True  True\n",
      "   True  True  True  True  True  True  True False  True  True  True False\n",
      "  False False False False False False False False False False False False\n",
      "  False False False False False False False False False False False False\n",
      "  False False False False False False False False]]\n",
      "Accuracy brut:  0.8\n",
      "Accuracy without taking in acount padding:  0.8421052631578947\n",
      "Accuracy on masked tokens:  0.8\n"
     ]
    }
   ],
   "source": [
    "new_sequences = bert.predict(y_masked_encoded[0:1], bert_masked_model)\n",
    "\n",
    "print(new_sequences == y_masked_encoded[0:1])\n",
    "print(\"Accuracy brut: \", np.sum(new_sequences == y_masked_encoded[0:1]) / (100*len(y_masked_encoded[0:1])))\n",
    "print(\"Accuracy without taking in acount padding: \", np.sum((new_sequences == y_masked_encoded[0:1]) * (y_masked_encoded[0:1] != 0)) / np.sum(y_masked_encoded[0:1] != 0))\n",
    "print(\"Accuracy on masked tokens: \", np.sum((new_sequences == y_masked_encoded[0:1]) * (x_masked_encoded[0:1] == config.TOKEN_DICT['[MASK]'])) / np.sum(x_masked_encoded[0:1] == config.TOKEN_DICT['[MASK]']))"
   ]
  }
 ],
 "metadata": {
  "kernelspec": {
   "display_name": "ML",
   "language": "python",
   "name": "python3"
  },
  "language_info": {
   "codemirror_mode": {
    "name": "ipython",
    "version": 3
   },
   "file_extension": ".py",
   "mimetype": "text/x-python",
   "name": "python",
   "nbconvert_exporter": "python",
   "pygments_lexer": "ipython3",
   "version": "3.11.5"
  }
 },
 "nbformat": 4,
 "nbformat_minor": 2
}
