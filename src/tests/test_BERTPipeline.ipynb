{
 "cells": [
  {
   "cell_type": "markdown",
   "metadata": {},
   "source": [
    "# Testing BertPipeline"
   ]
  },
  {
   "cell_type": "code",
   "execution_count": 27,
   "metadata": {},
   "outputs": [],
   "source": [
    "import sys\n",
    "sys.path.append('../ml/BERT')\n",
    "import masking\n",
    "import BERT\n",
    "from Vectorisation import Vectorisation\n",
    "from Config import Config\n",
    "\n",
    "import pickle\n",
    "import tensorflow as tf\n",
    "import numpy as np\n",
    "with open(\"../../data/ml4science_data.pkl\", \"rb\") as fp:\n",
    "    data_dict = pickle.load(fp)\n",
    "\n",
    "config = Config(EPOCH=100)\n",
    "vec = Vectorisation(config=config)"
   ]
  },
  {
   "cell_type": "code",
   "execution_count": 28,
   "metadata": {},
   "outputs": [
    {
     "name": "stdout",
     "output_type": "stream",
     "text": [
      "[0, 0, 0, 1, 0, 0, 0, 0, 0, 7.889]\n",
      "[0.0, 0.0, 0.0, 1.0, 0.0, 0.0, 0.0, 0.0, 75.141, 0.0]\n",
      "[0.0, 0.0, 0.0, 1.0, 0, 0, 0, 0, 0, 3.25]\n",
      "254\n"
     ]
    }
   ],
   "source": [
    "with open('../../data/sequences.pkl', 'rb') as f:\n",
    "    decoded_sequences = pickle.load(f)\n",
    "\n",
    "for i in range(3): print(decoded_sequences[0][i])\n",
    "print(len(decoded_sequences))"
   ]
  },
  {
   "cell_type": "markdown",
   "metadata": {},
   "source": [
    "### Vectorising sequences"
   ]
  },
  {
   "cell_type": "code",
   "execution_count": 29,
   "metadata": {},
   "outputs": [
    {
     "name": "stdout",
     "output_type": "stream",
     "text": [
      "(254, 512)\n",
      "[26  2 26 21 21 26 23 25 21 23  2 21 26 21 21 26 21 25  3  8  3  3  3  3\n",
      "  3  3  3  3  7  8  4  2  8  3 16 20 21 26 21 23 21  3  8  7  8  3  5  8\n",
      "  4  8  2  8  3  8 10  9 10  9  9 15 20 11  9 14 13 11  9 14 13 14 10 11\n",
      "  9  9 13 14 13 14 11  9 10 14 13 10 11  9 14  9 14 15 20 15 15 17 20  0\n",
      "  0  0  0  0  0  0  0  0  0  0  0  0  0  0  0  0  0  0  0  0  0  0  0  0\n",
      "  0  0  0  0  0  0  0  0  0  0  0  0  0  0  0  0  0  0  0  0  0  0  0  0\n",
      "  0  0  0  0  0  0  0  0  0  0  0  0  0  0  0  0  0  0  0  0  0  0  0  0\n",
      "  0  0  0  0  0  0  0  0  0  0  0  0  0  0  0  0  0  0  0  0  0  0  0  0\n",
      "  0  0  0  0  0  0  0  0  0  0  0  0  0  0  0  0  0  0  0  0  0  0  0  0\n",
      "  0  0  0  0  0  0  0  0  0  0  0  0  0  0  0  0  0  0  0  0  0  0  0  0\n",
      "  0  0  0  0  0  0  0  0  0  0  0  0  0  0  0  0  0  0  0  0  0  0  0  0\n",
      "  0  0  0  0  0  0  0  0  0  0  0  0  0  0  0  0  0  0  0  0  0  0  0  0\n",
      "  0  0  0  0  0  0  0  0  0  0  0  0  0  0  0  0  0  0  0  0  0  0  0  0\n",
      "  0  0  0  0  0  0  0  0  0  0  0  0  0  0  0  0  0  0  0  0  0  0  0  0\n",
      "  0  0  0  0  0  0  0  0  0  0  0  0  0  0  0  0  0  0  0  0  0  0  0  0\n",
      "  0  0  0  0  0  0  0  0  0  0  0  0  0  0  0  0  0  0  0  0  0  0  0  0\n",
      "  0  0  0  0  0  0  0  0  0  0  0  0  0  0  0  0  0  0  0  0  0  0  0  0\n",
      "  0  0  0  0  0  0  0  0  0  0  0  0  0  0  0  0  0  0  0  0  0  0  0  0\n",
      "  0  0  0  0  0  0  0  0  0  0  0  0  0  0  0  0  0  0  0  0  0  0  0  0\n",
      "  0  0  0  0  0  0  0  0  0  0  0  0  0  0  0  0  0  0  0  0  0  0  0  0\n",
      "  0  0  0  0  0  0  0  0  0  0  0  0  0  0  0  0  0  0  0  0  0  0  0  0\n",
      "  0  0  0  0  0  0  0  0]\n"
     ]
    }
   ],
   "source": [
    "seps = vec.sep_from_seq(decoded_sequences)\n",
    "encoded_sequences = vec.encode(decoded_sequences, seps)\n",
    "\n",
    "print(encoded_sequences.shape)\n",
    "print(encoded_sequences[0])"
   ]
  },
  {
   "cell_type": "markdown",
   "metadata": {},
   "source": [
    "### Masking sequences, split into train and test\n",
    "x -> masked  \n",
    "y -> unmasked"
   ]
  },
  {
   "cell_type": "code",
   "execution_count": 30,
   "metadata": {},
   "outputs": [
    {
     "name": "stdout",
     "output_type": "stream",
     "text": [
      "full set: (254, 512) (254, 512) (254, 512)\n",
      "train set: (200, 512) (200, 512) (200, 512)\n",
      "test set: (54, 512) (54, 512) (54, 512)\n"
     ]
    }
   ],
   "source": [
    "x_masked_encoded, y_masked_encoded, sample_weights = masking.mask_input_and_labels(encoded_sequences, config.TOKEN_DICT)\n",
    "x_tr, y_tr, w_tr = x_masked_encoded[:200], y_masked_encoded[:200], sample_weights[:200]\n",
    "x_te, y_te, w_te = x_masked_encoded[200:], y_masked_encoded[200:], sample_weights[200:]\n",
    "\n",
    "print('full set:', x_masked_encoded.shape, y_masked_encoded.shape, sample_weights.shape)\n",
    "print('train set:', x_tr.shape, y_tr.shape, w_tr.shape)\n",
    "print('test set:', x_te.shape, y_te.shape, w_te.shape)\n",
    "\n",
    "# this is the dataset that will be used for training\n",
    "mlm_ds = tf.data.Dataset.from_tensor_slices((x_tr, y_tr, w_tr))"
   ]
  },
  {
   "cell_type": "code",
   "execution_count": 31,
   "metadata": {},
   "outputs": [],
   "source": [
    "from BERTPipeline import BERTPipeline\n",
    "\n",
    "bert = BERTPipeline(config)\n",
    "bert.train(mlm_ds)"
   ]
  },
  {
   "cell_type": "markdown",
   "metadata": {},
   "source": [
    "### Predicting on the masked test set"
   ]
  },
  {
   "cell_type": "code",
   "execution_count": 32,
   "metadata": {},
   "outputs": [
    {
     "name": "stdout",
     "output_type": "stream",
     "text": [
      "2/2 [==============================] - 0s 75ms/step\n",
      "2/2 [==============================] - 0s 71ms/step\n"
     ]
    }
   ],
   "source": [
    "pred1 = bert.predict(x_te, only_masked=True)\n",
    "pred2 = bert.predict(x_te, only_masked=True)"
   ]
  },
  {
   "cell_type": "code",
   "execution_count": 38,
   "metadata": {},
   "outputs": [
    {
     "name": "stdout",
     "output_type": "stream",
     "text": [
      "(54, 512)\n",
      "pred: [26  2 21 21 26 23 21 21 23 26 21 26 22  2 21  2 26 21 25 26 21 26 21 23\n",
      " 21 26 21 21 21 21 26 21 21 22 21 22 15 20 16 20 16 15 20 17 15 20 15 20\n",
      " 17 15]\n",
      "mask: [26  2 21 21 26 23 21 21 23 26  1 26 22  2 21  2 26 21 25 26 21 26 21 23\n",
      " 21 26 21 21 21 21 26 21 21 22 21 22  1 20 16 20 16 15 20 17 15 20 15 20\n",
      " 17 15]\n",
      "test: [26  2 21 21 26 23 21 21 23 26 23 26 22  2 21  2 26 21 25 26 21 26 21 23\n",
      " 21 26 21 21 21 21 26 21 21 22 21 22 15 20 16 20 16 15 20 17 15 20 15 20\n",
      " 17 15]\n",
      "[1 1 1 1 1 1 1 1 1 1 0 1 1 1 1 1 1 1 1 1 1 1 1 1 1 1 1 1 1 1 1 1 1 1 1 1 1\n",
      " 1 1 1 1 1 1 1 1 1 1 1 1 1]\n"
     ]
    }
   ],
   "source": [
    "print(pred1.shape)\n",
    "print('pred:', pred1[0][:50])\n",
    "print('mask:', x_te[0][:50])\n",
    "print('test:', y_te[0][:50])\n",
    "print((pred1[0] == y_te[0])[:50]*1)"
   ]
  },
  {
   "cell_type": "code",
   "execution_count": 46,
   "metadata": {},
   "outputs": [
    {
     "name": "stdout",
     "output_type": "stream",
     "text": [
      "(54, 512)\n",
      "pred: [26  2 21 21 26 23 21 21 23 26 21 26 22  2 21  2 26 21 25 26 21 26 21 23\n",
      " 21 26 21 21 21 21 26 21 21 22 21 22 15 20 16 20 16 15 20 17 15 20 15 20\n",
      " 17 15]\n",
      "mask: [26  2 21 21 26 23 21 21 23 26  1 26 22  2 21  2 26 21 25 26 21 26 21 23\n",
      " 21 26 21 21 21 21 26 21 21 22 21 22  1 20 16 20 16 15 20 17 15 20 15 20\n",
      " 17 15]\n",
      "test: [26  2 21 21 26 23 21 21 23 26 23 26 22  2 21  2 26 21 25 26 21 26 21 23\n",
      " 21 26 21 21 21 21 26 21 21 22 21 22 15 20 16 20 16 15 20 17 15 20 15 20\n",
      " 17 15]\n",
      "[1 1 1 1 1 1 1 1 1 1 0 1 1 1 1 1 1 1 1 1 1 1 1 1 1 1 1 1 1 1 1 1 1 1 1 1 1\n",
      " 1 1 1 1 1 1 1 1 1 1 1 1 1]\n"
     ]
    }
   ],
   "source": [
    "print(pred2.shape)\n",
    "print('pred:', pred2[0][:50])\n",
    "print('mask:', x_te[0][:50])\n",
    "print('test:', y_te[0][:50])\n",
    "print((pred2[0] == y_te[0])[:50]*1)\n",
    "\n",
    "assert ((pred1 == pred2).all())"
   ]
  },
  {
   "cell_type": "code",
   "execution_count": 41,
   "metadata": {},
   "outputs": [
    {
     "name": "stdout",
     "output_type": "stream",
     "text": [
      "Accuracy brut (per student mean):  0.9844473379629629\n",
      "Accuracy brut (per student mean):  0.9844473379629629\n",
      "Accuracy without padding (per student mean):  0.9184737124264202\n"
     ]
    }
   ],
   "source": [
    "where_equal = (pred1 == y_te)\n",
    "where_masked = (x_te == config.TOKEN_DICT['[MASK]'])\n",
    "\n",
    "print(\"Accuracy brut (per student mean): \", np.mean(np.sum(pred1 == y_te, axis=1) / (y_te.shape[1])))\n",
    "print(\"Accuracy brut (per student mean): \", np.sum(pred1 == y_te) / np.size(y_te))\n",
    "print(\"Accuracy without padding (per student mean): \", np.mean(np.sum((pred1 == y_te) * (y_te != 0), axis=1) / np.sum(y_te != 0, axis=1)))\n",
    "# print(\"Accuracy on masked tokens (per student mean): \", np.mean(np.sum(where_equal * where_masked, axis=1) / np.sum(where_masked, axis=1)))"
   ]
  },
  {
   "cell_type": "code",
   "execution_count": 42,
   "metadata": {},
   "outputs": [
    {
     "name": "stdout",
     "output_type": "stream",
     "text": [
      "Accuracy brut (per total):  0.9844473379629629\n",
      "Accuracy without padding (per total):  0.9166828134082542\n",
      "Accuracy on masked tokens:  0.41903171953255425\n"
     ]
    }
   ],
   "source": [
    "print(\"Accuracy brut (per total): \", np.sum(pred1 == y_te) / np.size(y_te))\n",
    "print(\"Accuracy without padding (per total): \", np.sum((pred1 == y_te) * (y_te != 0)) / np.sum(y_te != 0))\n",
    "print(\"Accuracy on masked tokens: \", np.sum(where_equal * where_masked) / np.sum(where_masked))"
   ]
  },
  {
   "cell_type": "code",
   "execution_count": 43,
   "metadata": {},
   "outputs": [
    {
     "name": "stdout",
     "output_type": "stream",
     "text": [
      "512\n",
      "[False False False False False False False False False False False False\n",
      " False False False False False False False False False False False False\n",
      " False False False False False False False False False False False False\n",
      " False False False False False False False False False False False False\n",
      " False False False False False False False False False False False False\n",
      " False False False False False False False False False False False False\n",
      " False False False False False False False False False False False False\n",
      " False False False False False False False False False False False False\n",
      " False False False False False False False False False False False False\n",
      " False False False False False False False False False False False False\n",
      " False False False False False False False False False False False False\n",
      " False False False False False False False False False False False False\n",
      " False False False False False False False False False False False False\n",
      " False False False False False False False False False False False False\n",
      " False False False False False False False False False False False False\n",
      " False False False False False False False False False False False False\n",
      " False False False False False False False False False False False False\n",
      " False False False False False False False False False False False False\n",
      " False False False False False False False False False False False False\n",
      " False False False False False False False False False False False False\n",
      " False False False False False False False False False False False False\n",
      " False False False False False False False False False False False False\n",
      " False False False False False False False False False False False False\n",
      " False False False False False False False False False False False False\n",
      " False False False False False False False False False False False False\n",
      " False False False False False False False False False False False False\n",
      " False False False False False False False False False False False False\n",
      " False False False False False False False False False False False False\n",
      " False False False False False False False False False False False False\n",
      " False False False False False False False False False False False False\n",
      " False False False False False False False False False False False False\n",
      " False False False False False False False False False False False False\n",
      " False False False False False False False False False False False False\n",
      " False False False False False False False False False False False False\n",
      " False False False False False False False False False False False False\n",
      " False False False False False False False False False False False False\n",
      " False False False False False False False False False False False False\n",
      " False False False False False False False False False False False False\n",
      " False False False False False False False False False False False False\n",
      " False False False False False False False False False False False False\n",
      " False False False False False False False False False False False False\n",
      " False False False False False False False False False False False False\n",
      " False False False False False False False False]\n",
      "Accuracy on masked tokens:  0.41903171953255425\n"
     ]
    }
   ],
   "source": [
    "print(np.sum(where_equal[19]))\n",
    "print(where_masked[19])\n",
    "print(\"Accuracy on masked tokens: \", np.sum(where_equal * where_masked) / np.sum(where_masked))"
   ]
  },
  {
   "cell_type": "code",
   "execution_count": null,
   "metadata": {},
   "outputs": [],
   "source": []
  }
 ],
 "metadata": {
  "kernelspec": {
   "display_name": "ML",
   "language": "python",
   "name": "python3"
  },
  "language_info": {
   "codemirror_mode": {
    "name": "ipython",
    "version": 3
   },
   "file_extension": ".py",
   "mimetype": "text/x-python",
   "name": "python",
   "nbconvert_exporter": "python",
   "pygments_lexer": "ipython3",
   "version": "3.11.5"
  }
 },
 "nbformat": 4,
 "nbformat_minor": 2
}
