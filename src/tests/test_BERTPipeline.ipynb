{
 "cells": [
  {
   "cell_type": "markdown",
   "metadata": {},
   "source": [
    "# Testing BertPipeline"
   ]
  },
  {
   "cell_type": "code",
   "execution_count": 21,
   "metadata": {},
   "outputs": [],
   "source": [
    "import sys\n",
    "sys.path.append('../ml/BERT')\n",
    "import masking\n",
    "import BERT\n",
    "from Vectorisation import Vectorisation\n",
    "from Config import Config\n",
    "\n",
    "import pickle\n",
    "import tensorflow as tf\n",
    "import numpy as np\n",
    "with open(\"../../data/ml4science_data.pkl\", \"rb\") as fp:\n",
    "    data_dict = pickle.load(fp)\n",
    "\n",
    "config = Config(EPOCH=100)\n",
    "vec = Vectorisation(config=config)"
   ]
  },
  {
   "cell_type": "code",
   "execution_count": 22,
   "metadata": {},
   "outputs": [
    {
     "name": "stdout",
     "output_type": "stream",
     "text": [
      "[0, 0, 0, 1, 0, 0, 0, 0, 0, 7.889]\n",
      "[0.0, 0.0, 0.0, 1.0, 0.0, 0.0, 0.0, 0.0, 75.141, 0.0]\n",
      "[0.0, 0.0, 0.0, 1.0, 0, 0, 0, 0, 0, 3.25]\n",
      "254\n"
     ]
    }
   ],
   "source": [
    "with open('../../data/sequences.pkl', 'rb') as f:\n",
    "    decoded_sequences = pickle.load(f)\n",
    "\n",
    "for i in range(3): print(decoded_sequences[0][i])\n",
    "print(len(decoded_sequences))"
   ]
  },
  {
   "cell_type": "markdown",
   "metadata": {},
   "source": [
    "### Vectorising sequences"
   ]
  },
  {
   "cell_type": "code",
   "execution_count": 23,
   "metadata": {},
   "outputs": [
    {
     "name": "stdout",
     "output_type": "stream",
     "text": [
      "(254, 128)\n",
      "[26  2 26 21 21 26 23 25 21 23  2 21 26 21 21 26 21 25  3  8  3  3  3  3\n",
      "  3  3  3  3  7  8  4  2  8  3 16 20 21 26 21 23 21  3  8  7  8  3  5  8\n",
      "  4  8  2  8  3  8 10  9 10  9  9 15 20 11  9 14 13 11  9 14 13 14 10 11\n",
      "  9  9 13 14 13 14 11  9 10 14 13 10 11  9 14  9 14 15 20 15 15 17 20  0\n",
      "  0  0  0  0  0  0  0  0  0  0  0  0  0  0  0  0  0  0  0  0  0  0  0  0\n",
      "  0  0  0  0  0  0  0  0]\n"
     ]
    }
   ],
   "source": [
    "seps = vec.sep_from_seq(decoded_sequences)\n",
    "encoded_sequences = vec.encode(decoded_sequences, seps)\n",
    "\n",
    "print(encoded_sequences.shape)\n",
    "print(encoded_sequences[0])"
   ]
  },
  {
   "cell_type": "markdown",
   "metadata": {},
   "source": [
    "### Masking sequences, split into train and test\n",
    "x -> masked  \n",
    "y -> unmasked"
   ]
  },
  {
   "cell_type": "code",
   "execution_count": 59,
   "metadata": {},
   "outputs": [
    {
     "name": "stdout",
     "output_type": "stream",
     "text": [
      "full set: (254, 128) (254, 128) (254, 128)\n",
      "train set: (200, 128) (200, 128) (200, 128)\n",
      "test set: (54, 128) (54, 128) (54, 128)\n"
     ]
    }
   ],
   "source": [
    "x_masked_encoded, y_masked_encoded, sample_weights = masking.mask_input_and_labels(encoded_sequences, config.TOKEN_DICT)\n",
    "x_tr, y_tr, w_tr = x_masked_encoded[:200], y_masked_encoded[:200], sample_weights[:200]\n",
    "x_te, y_te, w_te = x_masked_encoded[200:], y_masked_encoded[200:], sample_weights[200:]\n",
    "\n",
    "print('full set:', x_masked_encoded.shape, y_masked_encoded.shape, sample_weights.shape)\n",
    "print('train set:', x_tr.shape, y_tr.shape, w_tr.shape)\n",
    "print('test set:', x_te.shape, y_te.shape, w_te.shape)\n",
    "\n",
    "# this is the dataset that will be used for training\n",
    "mlm_ds = tf.data.Dataset.from_tensor_slices((x_tr, y_tr, w_tr))"
   ]
  },
  {
   "cell_type": "code",
   "execution_count": 25,
   "metadata": {},
   "outputs": [
    {
     "name": "stdout",
     "output_type": "stream",
     "text": [
      "Model: \"masked_bert_model\"\n",
      "__________________________________________________________________________________________________\n",
      " Layer (type)                Output Shape                 Param #   Connected to                  \n",
      "==================================================================================================\n",
      " input_4 (InputLayer)        [(None, 128)]                0         []                            \n",
      "                                                                                                  \n",
      " word_embedding (Embedding)  (None, 128, 64)              1728      ['input_4[0][0]']             \n",
      "                                                                                                  \n",
      " tf.__operators__.add_9 (TF  (None, 128, 64)              0         ['word_embedding[0][0]']      \n",
      " OpLambda)                                                                                        \n",
      "                                                                                                  \n",
      " encoder_0/multiheadattenti  (None, 128, 64)              16640     ['tf.__operators__.add_9[0][0]\n",
      " on (MultiHeadAttention)                                            ',                            \n",
      "                                                                     'tf.__operators__.add_9[0][0]\n",
      "                                                                    ',                            \n",
      "                                                                     'tf.__operators__.add_9[0][0]\n",
      "                                                                    ']                            \n",
      "                                                                                                  \n",
      " encoder_0/att_dropout (Dro  (None, 128, 64)              0         ['encoder_0/multiheadattention\n",
      " pout)                                                              [0][0]']                      \n",
      "                                                                                                  \n",
      " tf.__operators__.add_10 (T  (None, 128, 64)              0         ['tf.__operators__.add_9[0][0]\n",
      " FOpLambda)                                                         ',                            \n",
      "                                                                     'encoder_0/att_dropout[0][0]'\n",
      "                                                                    ]                             \n",
      "                                                                                                  \n",
      " encoder_0/att_layernormali  (None, 128, 64)              128       ['tf.__operators__.add_10[0][0\n",
      " zation (LayerNormalization                                         ]']                           \n",
      " )                                                                                                \n",
      "                                                                                                  \n",
      " encoder_0/ffn (Sequential)  (None, 128, 64)              8320      ['encoder_0/att_layernormaliza\n",
      "                                                                    tion[0][0]']                  \n",
      "                                                                                                  \n",
      " encoder_0/ffn_dropout (Dro  (None, 128, 64)              0         ['encoder_0/ffn[0][0]']       \n",
      " pout)                                                                                            \n",
      "                                                                                                  \n",
      " tf.__operators__.add_11 (T  (None, 128, 64)              0         ['encoder_0/att_layernormaliza\n",
      " FOpLambda)                                                         tion[0][0]',                  \n",
      "                                                                     'encoder_0/ffn_dropout[0][0]'\n",
      "                                                                    ]                             \n",
      "                                                                                                  \n",
      " encoder_0/ffn_layernormali  (None, 128, 64)              128       ['tf.__operators__.add_11[0][0\n",
      " zation (LayerNormalization                                         ]']                           \n",
      " )                                                                                                \n",
      "                                                                                                  \n",
      " mlm_cls (Dense)             (None, 128, 27)              1755      ['encoder_0/ffn_layernormaliza\n",
      "                                                                    tion[0][0]']                  \n",
      "                                                                                                  \n",
      "==================================================================================================\n",
      "Total params: 28701 (112.11 KB)\n",
      "Trainable params: 28699 (112.11 KB)\n",
      "Non-trainable params: 2 (8.00 Byte)\n",
      "__________________________________________________________________________________________________\n",
      "Epoch 1/100\n",
      "16/16 [==============================] - 2s 14ms/step - loss: 3.0919\n",
      "Epoch 2/100\n",
      "16/16 [==============================] - 0s 12ms/step - loss: 2.7165\n",
      "Epoch 3/100\n",
      "16/16 [==============================] - 0s 12ms/step - loss: 2.6306\n",
      "Epoch 4/100\n",
      "16/16 [==============================] - 0s 12ms/step - loss: 2.5980\n",
      "Epoch 5/100\n",
      "16/16 [==============================] - 0s 12ms/step - loss: 2.5454\n",
      "Epoch 6/100\n",
      "16/16 [==============================] - 0s 13ms/step - loss: 2.5059\n",
      "Epoch 7/100\n",
      "16/16 [==============================] - 0s 14ms/step - loss: 2.4751\n",
      "Epoch 8/100\n",
      "16/16 [==============================] - 0s 14ms/step - loss: 2.4437\n",
      "Epoch 9/100\n",
      "16/16 [==============================] - 0s 13ms/step - loss: 2.4035\n",
      "Epoch 10/100\n",
      "16/16 [==============================] - 0s 17ms/step - loss: 2.3089\n",
      "Epoch 11/100\n",
      "16/16 [==============================] - 0s 16ms/step - loss: 2.1501\n",
      "Epoch 12/100\n",
      "16/16 [==============================] - 0s 15ms/step - loss: 2.0360\n",
      "Epoch 13/100\n",
      "16/16 [==============================] - 0s 17ms/step - loss: 1.9622\n",
      "Epoch 14/100\n",
      "16/16 [==============================] - 0s 20ms/step - loss: 1.8976\n",
      "Epoch 15/100\n",
      "16/16 [==============================] - 0s 17ms/step - loss: 1.8439\n",
      "Epoch 16/100\n",
      "16/16 [==============================] - 0s 15ms/step - loss: 1.7903\n",
      "Epoch 17/100\n",
      "16/16 [==============================] - 0s 16ms/step - loss: 1.7449\n",
      "Epoch 18/100\n",
      "16/16 [==============================] - 0s 16ms/step - loss: 1.7073\n",
      "Epoch 19/100\n",
      "16/16 [==============================] - 0s 15ms/step - loss: 1.6720\n",
      "Epoch 20/100\n",
      "16/16 [==============================] - 0s 16ms/step - loss: 1.6439\n",
      "Epoch 21/100\n",
      "16/16 [==============================] - 0s 15ms/step - loss: 1.6134\n",
      "Epoch 22/100\n",
      "16/16 [==============================] - 0s 16ms/step - loss: 1.5876\n",
      "Epoch 23/100\n",
      "16/16 [==============================] - 0s 16ms/step - loss: 1.5564\n",
      "Epoch 24/100\n",
      "16/16 [==============================] - 0s 16ms/step - loss: 1.5290\n",
      "Epoch 25/100\n",
      "16/16 [==============================] - 0s 15ms/step - loss: 1.5095\n",
      "Epoch 26/100\n",
      "16/16 [==============================] - 0s 17ms/step - loss: 1.4923\n",
      "Epoch 27/100\n",
      "16/16 [==============================] - 0s 15ms/step - loss: 1.4707\n",
      "Epoch 28/100\n",
      "16/16 [==============================] - 0s 16ms/step - loss: 1.4592\n",
      "Epoch 29/100\n",
      "16/16 [==============================] - 0s 15ms/step - loss: 1.4396\n",
      "Epoch 30/100\n",
      "16/16 [==============================] - 0s 17ms/step - loss: 1.4275\n",
      "Epoch 31/100\n",
      "16/16 [==============================] - 0s 16ms/step - loss: 1.4061\n",
      "Epoch 32/100\n",
      "16/16 [==============================] - 0s 16ms/step - loss: 1.3817\n",
      "Epoch 33/100\n",
      "16/16 [==============================] - 0s 15ms/step - loss: 1.3702\n",
      "Epoch 34/100\n",
      "16/16 [==============================] - 0s 16ms/step - loss: 1.3485\n",
      "Epoch 35/100\n",
      "16/16 [==============================] - 0s 16ms/step - loss: 1.3320\n",
      "Epoch 36/100\n",
      "16/16 [==============================] - 0s 16ms/step - loss: 1.3307\n",
      "Epoch 37/100\n",
      "16/16 [==============================] - 0s 16ms/step - loss: 1.3034\n",
      "Epoch 38/100\n",
      "16/16 [==============================] - 0s 17ms/step - loss: 1.3001\n",
      "Epoch 39/100\n",
      "16/16 [==============================] - 0s 15ms/step - loss: 1.2860\n",
      "Epoch 40/100\n",
      "16/16 [==============================] - 0s 15ms/step - loss: 1.2767\n",
      "Epoch 41/100\n",
      "16/16 [==============================] - 0s 17ms/step - loss: 1.2542\n",
      "Epoch 42/100\n",
      "16/16 [==============================] - 0s 16ms/step - loss: 1.2379\n",
      "Epoch 43/100\n",
      "16/16 [==============================] - 0s 16ms/step - loss: 1.2297\n",
      "Epoch 44/100\n",
      "16/16 [==============================] - 0s 15ms/step - loss: 1.2192\n",
      "Epoch 45/100\n",
      "16/16 [==============================] - 0s 15ms/step - loss: 1.1951\n",
      "Epoch 46/100\n",
      "16/16 [==============================] - 0s 17ms/step - loss: 1.1976\n",
      "Epoch 47/100\n",
      "16/16 [==============================] - 0s 15ms/step - loss: 1.1781\n",
      "Epoch 48/100\n",
      "16/16 [==============================] - 0s 15ms/step - loss: 1.1691\n",
      "Epoch 49/100\n",
      "16/16 [==============================] - 0s 15ms/step - loss: 1.1569\n",
      "Epoch 50/100\n",
      "16/16 [==============================] - 0s 15ms/step - loss: 1.1453\n",
      "Epoch 51/100\n",
      "16/16 [==============================] - 0s 16ms/step - loss: 1.1406\n",
      "Epoch 52/100\n",
      "16/16 [==============================] - 0s 17ms/step - loss: 1.1161\n",
      "Epoch 53/100\n",
      "16/16 [==============================] - 0s 15ms/step - loss: 1.1044\n",
      "Epoch 54/100\n",
      "16/16 [==============================] - 0s 16ms/step - loss: 1.0931\n",
      "Epoch 55/100\n",
      "16/16 [==============================] - 0s 15ms/step - loss: 1.0907\n",
      "Epoch 56/100\n",
      "16/16 [==============================] - 0s 16ms/step - loss: 1.0789\n",
      "Epoch 57/100\n",
      "16/16 [==============================] - 0s 16ms/step - loss: 1.0769\n",
      "Epoch 58/100\n",
      "16/16 [==============================] - 0s 20ms/step - loss: 1.0595\n",
      "Epoch 59/100\n",
      "16/16 [==============================] - 0s 16ms/step - loss: 1.0532\n",
      "Epoch 60/100\n",
      "16/16 [==============================] - 0s 21ms/step - loss: 1.0421\n",
      "Epoch 61/100\n",
      "16/16 [==============================] - 0s 21ms/step - loss: 1.0411\n",
      "Epoch 62/100\n",
      "16/16 [==============================] - 0s 18ms/step - loss: 1.0325\n",
      "Epoch 63/100\n",
      "16/16 [==============================] - 0s 21ms/step - loss: 1.0245\n",
      "Epoch 64/100\n",
      "16/16 [==============================] - 0s 15ms/step - loss: 1.0065\n",
      "Epoch 65/100\n",
      "16/16 [==============================] - 0s 15ms/step - loss: 1.0047\n",
      "Epoch 66/100\n",
      "16/16 [==============================] - 0s 16ms/step - loss: 0.9832\n",
      "Epoch 67/100\n",
      "16/16 [==============================] - 0s 15ms/step - loss: 0.9811\n",
      "Epoch 68/100\n",
      "16/16 [==============================] - 0s 17ms/step - loss: 0.9705\n",
      "Epoch 69/100\n",
      "16/16 [==============================] - 0s 17ms/step - loss: 0.9611\n",
      "Epoch 70/100\n",
      "16/16 [==============================] - 0s 17ms/step - loss: 0.9415\n",
      "Epoch 71/100\n",
      "16/16 [==============================] - 0s 16ms/step - loss: 0.9398\n",
      "Epoch 72/100\n",
      "16/16 [==============================] - 0s 16ms/step - loss: 0.9269\n",
      "Epoch 73/100\n",
      "16/16 [==============================] - 0s 25ms/step - loss: 0.9170\n",
      "Epoch 74/100\n",
      "16/16 [==============================] - 0s 18ms/step - loss: 0.9004\n",
      "Epoch 75/100\n",
      "16/16 [==============================] - 0s 21ms/step - loss: 0.8896\n",
      "Epoch 76/100\n",
      "16/16 [==============================] - 0s 21ms/step - loss: 0.8862\n",
      "Epoch 77/100\n",
      "16/16 [==============================] - 0s 20ms/step - loss: 0.8782\n",
      "Epoch 78/100\n",
      "16/16 [==============================] - 0s 21ms/step - loss: 0.8711\n",
      "Epoch 79/100\n",
      "16/16 [==============================] - 0s 23ms/step - loss: 0.8617\n",
      "Epoch 80/100\n",
      "16/16 [==============================] - 0s 23ms/step - loss: 0.8451\n",
      "Epoch 81/100\n",
      "16/16 [==============================] - 0s 17ms/step - loss: 0.8451\n",
      "Epoch 82/100\n",
      "16/16 [==============================] - 0s 15ms/step - loss: 0.8275\n",
      "Epoch 83/100\n",
      "16/16 [==============================] - 0s 20ms/step - loss: 0.8299\n",
      "Epoch 84/100\n",
      "16/16 [==============================] - 0s 18ms/step - loss: 0.8161\n",
      "Epoch 85/100\n",
      "16/16 [==============================] - 0s 17ms/step - loss: 0.8218\n",
      "Epoch 86/100\n",
      "16/16 [==============================] - 0s 19ms/step - loss: 0.7974\n",
      "Epoch 87/100\n",
      "16/16 [==============================] - 0s 19ms/step - loss: 0.7948\n",
      "Epoch 88/100\n",
      "16/16 [==============================] - 0s 19ms/step - loss: 0.7756\n",
      "Epoch 89/100\n",
      "16/16 [==============================] - 0s 17ms/step - loss: 0.7851\n",
      "Epoch 90/100\n",
      "16/16 [==============================] - 0s 16ms/step - loss: 0.7690\n",
      "Epoch 91/100\n",
      "16/16 [==============================] - 0s 15ms/step - loss: 0.7733\n",
      "Epoch 92/100\n",
      "16/16 [==============================] - 0s 15ms/step - loss: 0.7618\n",
      "Epoch 93/100\n",
      "16/16 [==============================] - 0s 17ms/step - loss: 0.7557\n",
      "Epoch 94/100\n",
      "16/16 [==============================] - 0s 16ms/step - loss: 0.7398\n",
      "Epoch 95/100\n",
      "16/16 [==============================] - 0s 15ms/step - loss: 0.7245\n",
      "Epoch 96/100\n",
      "16/16 [==============================] - 0s 16ms/step - loss: 0.7178\n",
      "Epoch 97/100\n",
      "16/16 [==============================] - 0s 17ms/step - loss: 0.7304\n",
      "Epoch 98/100\n",
      "16/16 [==============================] - 0s 16ms/step - loss: 0.7113\n",
      "Epoch 99/100\n",
      "16/16 [==============================] - 0s 15ms/step - loss: 0.7040\n",
      "Epoch 100/100\n",
      "16/16 [==============================] - 0s 16ms/step - loss: 0.6874\n"
     ]
    }
   ],
   "source": [
    "from BERTPipeline import BERTPipeline\n",
    "\n",
    "bert = BERTPipeline(config)\n",
    "bert.train(mlm_ds)"
   ]
  },
  {
   "cell_type": "markdown",
   "metadata": {},
   "source": [
    "### Predicting on the masked test set"
   ]
  },
  {
   "cell_type": "code",
   "execution_count": 32,
   "metadata": {},
   "outputs": [
    {
     "name": "stdout",
     "output_type": "stream",
     "text": [
      "2/2 [==============================] - 0s 10ms/step\n",
      "(54, 128)\n"
     ]
    }
   ],
   "source": [
    "pred = bert.predict(x_te)"
   ]
  },
  {
   "cell_type": "code",
   "execution_count": 60,
   "metadata": {},
   "outputs": [
    {
     "name": "stdout",
     "output_type": "stream",
     "text": [
      "(54, 128)\n",
      "pred: [26 25 21 21 21 26 26 21 21 26 25 26 22 22 26 23 26 25 21 11 10 22 22 22\n",
      " 26 26 26 22 22 22 22 20 20 20 22 22 22 22 22 22 26 26 26 10 10 10 10 10\n",
      " 10 22 21 10 10 10 10 10 10 22  4 22 22 22 17  4  4  8  8 10 26 26 10 10\n",
      " 10 10  8 19 10 10 10 10 19 19 19 23 10 10 10 10 26 20 22  8 10 10 10 10\n",
      " 10 22 26 22 10 10 10 10 10 10 22 22 22 22 22 26 26 26 22 22 22 26 10 10\n",
      " 10 22 22 21 22 22 10 10]\n",
      "test: [25 26  2 21 21  2 26 21 21 26 25 22 22 22 26 23 26 25  0  0  0  0  0  0\n",
      "  0  0  0  0  0  0  0  0  0  0  0  0  0  0  0  0  0  0  0  0  0  0  0  0\n",
      "  0  0  0  0  0  0  0  0  0  0  0  0  0  0  0  0  0  0  0  0  0  0  0  0\n",
      "  0  0  0  0  0  0  0  0  0  0  0  0  0  0  0  0  0  0  0  0  0  0  0  0\n",
      "  0  0  0  0  0  0  0  0  0  0  0  0  0  0  0  0  0  0  0  0  0  0  0  0\n",
      "  0  0  0  0  0  0  0  0]\n",
      "[0 0 0 1 1 0 1 1 1 1 1 0 1 1 1 1 1 1 0 0 0 0 0 0 0 0 0 0 0 0 0 0 0 0 0 0 0\n",
      " 0 0 0 0 0 0 0 0 0 0 0 0 0 0 0 0 0 0 0 0 0 0 0 0 0 0 0 0 0 0 0 0 0 0 0 0 0\n",
      " 0 0 0 0 0 0 0 0 0 0 0 0 0 0 0 0 0 0 0 0 0 0 0 0 0 0 0 0 0 0 0 0 0 0 0 0 0\n",
      " 0 0 0 0 0 0 0 0 0 0 0 0 0 0 0 0 0]\n"
     ]
    }
   ],
   "source": [
    "print(pred.shape)\n",
    "print('pred:', pred[19])\n",
    "print('test:', y_te[19])\n",
    "print((pred[19] == y_te[19])*1)"
   ]
  },
  {
   "cell_type": "code",
   "execution_count": 48,
   "metadata": {},
   "outputs": [
    {
     "name": "stdout",
     "output_type": "stream",
     "text": [
      "Accuracy brut:  0.4195601851851852\n",
      "Accuracy brut:  0.4195601851851852\n",
      "Accuracy without taking in acount padding:  0.7827260458839406\n"
     ]
    }
   ],
   "source": [
    "print(\"Accuracy brut: \", np.mean(np.sum(pred == y_te, axis=1) / (y_te.shape[1])))\n",
    "print(\"Accuracy brut: \", np.sum(pred == y_te) / np.size(y_te))\n",
    "print(\"Accuracy without taking in acount padding: \", np.sum((pred == y_te) * (y_te != 0)) / np.sum(y_te != 0))"
   ]
  },
  {
   "cell_type": "code",
   "execution_count": 72,
   "metadata": {},
   "outputs": [
    {
     "name": "stdout",
     "output_type": "stream",
     "text": [
      "Accuracy on masked tokens:  0.8260644243771552\n",
      "(54,)\n",
      "(54,)\n"
     ]
    }
   ],
   "source": [
    "where_equal = (pred == y_te)\n",
    "where_masked = (x_te == config.TOKEN_DICT['[MASK]'])\n",
    "\n",
    "print(\"Accuracy on masked tokens: \", np.mean(np.sum(where_equal * where_masked, axis=1) / np.sum(where_masked, axis=1)))\n",
    "print(np.sum(where_equal * where_masked, axis=1).shape)\n",
    "print(np.sum(x_te == config.TOKEN_DICT['[MASK]'], axis=1).shape)"
   ]
  }
 ],
 "metadata": {
  "kernelspec": {
   "display_name": "ML",
   "language": "python",
   "name": "python3"
  },
  "language_info": {
   "codemirror_mode": {
    "name": "ipython",
    "version": 3
   },
   "file_extension": ".py",
   "mimetype": "text/x-python",
   "name": "python",
   "nbconvert_exporter": "python",
   "pygments_lexer": "ipython3",
   "version": "3.11.5"
  }
 },
 "nbformat": 4,
 "nbformat_minor": 2
}
