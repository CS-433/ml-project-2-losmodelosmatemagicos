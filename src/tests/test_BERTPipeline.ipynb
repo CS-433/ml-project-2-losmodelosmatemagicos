{
 "cells": [
  {
   "cell_type": "markdown",
   "metadata": {},
   "source": [
    "# Testing BertPipeline"
   ]
  },
  {
   "cell_type": "code",
   "execution_count": 2,
   "metadata": {},
   "outputs": [
    {
     "name": "stdout",
     "output_type": "stream",
     "text": [
      "WARNING:tensorflow:From c:\\Users\\yanni\\.conda\\envs\\ML\\Lib\\site-packages\\keras\\src\\losses.py:2976: The name tf.losses.sparse_softmax_cross_entropy is deprecated. Please use tf.compat.v1.losses.sparse_softmax_cross_entropy instead.\n",
      "\n"
     ]
    }
   ],
   "source": [
    "import sys\n",
    "sys.path.append('../ml/BERT')\n",
    "import masking\n",
    "import BERT\n",
    "from Vectorisation import Vectorisation\n",
    "from Config import Config\n",
    "\n",
    "import pickle\n",
    "import tensorflow as tf\n",
    "import numpy as np\n",
    "with open(\"../../data/ml4science_data.pkl\", \"rb\") as fp:\n",
    "    data_dict = pickle.load(fp)\n",
    "\n",
    "config = Config(EPOCH=100)\n",
    "vec = Vectorisation(config=config)"
   ]
  },
  {
   "cell_type": "code",
   "execution_count": 3,
   "metadata": {},
   "outputs": [
    {
     "name": "stdout",
     "output_type": "stream",
     "text": [
      "[0, 0, 0, 1, 0, 0, 0, 0, 0, 7.889]\n",
      "[0.0, 0.0, 0.0, 1.0, 0.0, 0.0, 0.0, 0.0, 75.141, 0.0]\n",
      "[0.0, 0.0, 0.0, 1.0, 0, 0, 0, 0, 0, 3.25]\n",
      "254\n"
     ]
    }
   ],
   "source": [
    "with open('../../data/sequences.pkl', 'rb') as f:\n",
    "    decoded_sequences = pickle.load(f)\n",
    "\n",
    "for i in range(3): print(decoded_sequences[0][i])\n",
    "print(len(decoded_sequences))"
   ]
  },
  {
   "cell_type": "markdown",
   "metadata": {},
   "source": [
    "### Vectorising sequences"
   ]
  },
  {
   "cell_type": "code",
   "execution_count": 4,
   "metadata": {},
   "outputs": [
    {
     "name": "stdout",
     "output_type": "stream",
     "text": [
      "(254, 128)\n",
      "[26  2 26 21 21 26 23 25 21 23  2 21 26 21 21 26 21 25  3  8  3  3  3  3\n",
      "  3  3  3  3  7  8  4  2  8  3 16 20 21 26 21 23 21  3  8  7  8  3  5  8\n",
      "  4  8  2  8  3  8 10  9 10  9  9 15 20 11  9 14 13 11  9 14 13 14 10 11\n",
      "  9  9 13 14 13 14 11  9 10 14 13 10 11  9 14  9 14 15 20 15 15 17 20  0\n",
      "  0  0  0  0  0  0  0  0  0  0  0  0  0  0  0  0  0  0  0  0  0  0  0  0\n",
      "  0  0  0  0  0  0  0  0]\n"
     ]
    }
   ],
   "source": [
    "seps = vec.sep_from_seq(decoded_sequences)\n",
    "encoded_sequences = vec.encode(decoded_sequences, seps)\n",
    "\n",
    "print(encoded_sequences.shape)\n",
    "print(encoded_sequences[0])"
   ]
  },
  {
   "cell_type": "markdown",
   "metadata": {},
   "source": [
    "### Masking sequences, split into train and test\n",
    "x -> masked  \n",
    "y -> unmasked"
   ]
  },
  {
   "cell_type": "code",
   "execution_count": 5,
   "metadata": {},
   "outputs": [
    {
     "name": "stdout",
     "output_type": "stream",
     "text": [
      "full set: (254, 128) (254, 128) (254, 128)\n",
      "train set: (200, 128) (200, 128) (200, 128)\n",
      "test set: (54, 128) (54, 128) (54, 128)\n"
     ]
    }
   ],
   "source": [
    "x_masked_encoded, y_masked_encoded, sample_weights = masking.mask_input_and_labels(encoded_sequences, config.TOKEN_DICT)\n",
    "x_tr, y_tr, w_tr = x_masked_encoded[:200], y_masked_encoded[:200], sample_weights[:200]\n",
    "x_te, y_te, w_te = x_masked_encoded[200:], y_masked_encoded[200:], sample_weights[200:]\n",
    "\n",
    "print('full set:', x_masked_encoded.shape, y_masked_encoded.shape, sample_weights.shape)\n",
    "print('train set:', x_tr.shape, y_tr.shape, w_tr.shape)\n",
    "print('test set:', x_te.shape, y_te.shape, w_te.shape)\n",
    "\n",
    "# this is the dataset that will be used for training\n",
    "mlm_ds = tf.data.Dataset.from_tensor_slices((x_tr, y_tr, w_tr))"
   ]
  },
  {
   "cell_type": "code",
   "execution_count": 6,
   "metadata": {},
   "outputs": [
    {
     "name": "stdout",
     "output_type": "stream",
     "text": [
      "WARNING:tensorflow:From c:\\Users\\yanni\\.conda\\envs\\ML\\Lib\\site-packages\\keras\\src\\backend.py:1398: The name tf.executing_eagerly_outside_functions is deprecated. Please use tf.compat.v1.executing_eagerly_outside_functions instead.\n",
      "\n",
      "Model: \"masked_bert_model\"\n",
      "__________________________________________________________________________________________________\n",
      " Layer (type)                Output Shape                 Param #   Connected to                  \n",
      "==================================================================================================\n",
      " input_1 (InputLayer)        [(None, 128)]                0         []                            \n",
      "                                                                                                  \n",
      " word_embedding (Embedding)  (None, 128, 64)              1728      ['input_1[0][0]']             \n",
      "                                                                                                  \n",
      " tf.__operators__.add (TFOp  (None, 128, 64)              0         ['word_embedding[0][0]']      \n",
      " Lambda)                                                                                          \n",
      "                                                                                                  \n",
      " encoder_0/multiheadattenti  (None, 128, 64)              16640     ['tf.__operators__.add[0][0]',\n",
      " on (MultiHeadAttention)                                             'tf.__operators__.add[0][0]',\n",
      "                                                                     'tf.__operators__.add[0][0]']\n",
      "                                                                                                  \n",
      " encoder_0/att_dropout (Dro  (None, 128, 64)              0         ['encoder_0/multiheadattention\n",
      " pout)                                                              [0][0]']                      \n",
      "                                                                                                  \n",
      " tf.__operators__.add_1 (TF  (None, 128, 64)              0         ['tf.__operators__.add[0][0]',\n",
      " OpLambda)                                                           'encoder_0/att_dropout[0][0]'\n",
      "                                                                    ]                             \n",
      "                                                                                                  \n",
      " encoder_0/att_layernormali  (None, 128, 64)              128       ['tf.__operators__.add_1[0][0]\n",
      " zation (LayerNormalization                                         ']                            \n",
      " )                                                                                                \n",
      "                                                                                                  \n",
      " encoder_0/ffn (Sequential)  (None, 128, 64)              8320      ['encoder_0/att_layernormaliza\n",
      "                                                                    tion[0][0]']                  \n",
      "                                                                                                  \n",
      " encoder_0/ffn_dropout (Dro  (None, 128, 64)              0         ['encoder_0/ffn[0][0]']       \n",
      " pout)                                                                                            \n",
      "                                                                                                  \n",
      " tf.__operators__.add_2 (TF  (None, 128, 64)              0         ['encoder_0/att_layernormaliza\n",
      " OpLambda)                                                          tion[0][0]',                  \n",
      "                                                                     'encoder_0/ffn_dropout[0][0]'\n",
      "                                                                    ]                             \n",
      "                                                                                                  \n",
      " encoder_0/ffn_layernormali  (None, 128, 64)              128       ['tf.__operators__.add_2[0][0]\n",
      " zation (LayerNormalization                                         ']                            \n",
      " )                                                                                                \n",
      "                                                                                                  \n",
      " mlm_cls (Dense)             (None, 128, 27)              1755      ['encoder_0/ffn_layernormaliza\n",
      "                                                                    tion[0][0]']                  \n",
      "                                                                                                  \n",
      "==================================================================================================\n",
      "Total params: 28701 (112.11 KB)\n",
      "Trainable params: 28699 (112.11 KB)\n",
      "Non-trainable params: 2 (8.00 Byte)\n",
      "__________________________________________________________________________________________________\n",
      "Epoch 1/100\n",
      "13/13 [==============================] - 2s 14ms/step - loss: 3.1908\n",
      "Epoch 2/100\n",
      "13/13 [==============================] - 0s 12ms/step - loss: 2.7204\n",
      "Epoch 3/100\n",
      "13/13 [==============================] - 0s 12ms/step - loss: 2.5937\n",
      "Epoch 4/100\n",
      "13/13 [==============================] - 0s 12ms/step - loss: 2.5504\n",
      "Epoch 5/100\n",
      "13/13 [==============================] - 0s 12ms/step - loss: 2.5142\n",
      "Epoch 6/100\n",
      "13/13 [==============================] - 0s 12ms/step - loss: 2.4929\n",
      "Epoch 7/100\n",
      "13/13 [==============================] - 0s 12ms/step - loss: 2.4640\n",
      "Epoch 8/100\n",
      "13/13 [==============================] - 0s 12ms/step - loss: 2.4321\n",
      "Epoch 9/100\n",
      "13/13 [==============================] - 0s 12ms/step - loss: 2.3948\n",
      "Epoch 10/100\n",
      "13/13 [==============================] - 0s 12ms/step - loss: 2.3360\n",
      "Epoch 11/100\n",
      "13/13 [==============================] - 0s 12ms/step - loss: 2.2318\n",
      "Epoch 12/100\n",
      "13/13 [==============================] - 0s 12ms/step - loss: 2.1274\n",
      "Epoch 13/100\n",
      "13/13 [==============================] - 0s 12ms/step - loss: 2.0605\n",
      "Epoch 14/100\n",
      "13/13 [==============================] - 0s 12ms/step - loss: 2.0130\n",
      "Epoch 15/100\n",
      "13/13 [==============================] - 0s 12ms/step - loss: 1.9684\n",
      "Epoch 16/100\n",
      "13/13 [==============================] - 0s 12ms/step - loss: 1.9366\n",
      "Epoch 17/100\n",
      "13/13 [==============================] - 0s 12ms/step - loss: 1.9157\n",
      "Epoch 18/100\n",
      "13/13 [==============================] - 0s 12ms/step - loss: 1.8685\n",
      "Epoch 19/100\n",
      "13/13 [==============================] - 0s 12ms/step - loss: 1.8204\n",
      "Epoch 20/100\n",
      "13/13 [==============================] - 0s 11ms/step - loss: 1.7657\n",
      "Epoch 21/100\n",
      "13/13 [==============================] - 0s 12ms/step - loss: 1.7325\n",
      "Epoch 22/100\n",
      "13/13 [==============================] - 0s 13ms/step - loss: 1.6861\n",
      "Epoch 23/100\n",
      "13/13 [==============================] - 0s 11ms/step - loss: 1.6523\n",
      "Epoch 24/100\n",
      "13/13 [==============================] - 0s 11ms/step - loss: 1.6268\n",
      "Epoch 25/100\n",
      "13/13 [==============================] - 0s 11ms/step - loss: 1.6048\n",
      "Epoch 26/100\n",
      "13/13 [==============================] - 0s 11ms/step - loss: 1.5908\n",
      "Epoch 27/100\n",
      "13/13 [==============================] - 0s 11ms/step - loss: 1.5595\n",
      "Epoch 28/100\n",
      "13/13 [==============================] - 0s 11ms/step - loss: 1.5412\n",
      "Epoch 29/100\n",
      "13/13 [==============================] - 0s 11ms/step - loss: 1.5148\n",
      "Epoch 30/100\n",
      "13/13 [==============================] - 0s 12ms/step - loss: 1.5009\n",
      "Epoch 31/100\n",
      "13/13 [==============================] - 0s 12ms/step - loss: 1.4782\n",
      "Epoch 32/100\n",
      "13/13 [==============================] - 0s 12ms/step - loss: 1.4553\n",
      "Epoch 33/100\n",
      "13/13 [==============================] - 0s 11ms/step - loss: 1.4320\n",
      "Epoch 34/100\n",
      "13/13 [==============================] - 0s 11ms/step - loss: 1.4103\n",
      "Epoch 35/100\n",
      "13/13 [==============================] - 0s 11ms/step - loss: 1.4015\n",
      "Epoch 36/100\n",
      "13/13 [==============================] - 0s 11ms/step - loss: 1.3913\n",
      "Epoch 37/100\n",
      "13/13 [==============================] - 0s 11ms/step - loss: 1.3625\n",
      "Epoch 38/100\n",
      "13/13 [==============================] - 0s 11ms/step - loss: 1.3517\n",
      "Epoch 39/100\n",
      "13/13 [==============================] - 0s 11ms/step - loss: 1.3291\n",
      "Epoch 40/100\n",
      "13/13 [==============================] - 0s 11ms/step - loss: 1.3152\n",
      "Epoch 41/100\n",
      "13/13 [==============================] - 0s 11ms/step - loss: 1.3004\n",
      "Epoch 42/100\n",
      "13/13 [==============================] - 0s 11ms/step - loss: 1.2915\n",
      "Epoch 43/100\n",
      "13/13 [==============================] - 0s 11ms/step - loss: 1.2671\n",
      "Epoch 44/100\n",
      "13/13 [==============================] - 0s 12ms/step - loss: 1.2487\n",
      "Epoch 45/100\n",
      "13/13 [==============================] - 0s 12ms/step - loss: 1.2371\n",
      "Epoch 46/100\n",
      "13/13 [==============================] - 0s 11ms/step - loss: 1.2348\n",
      "Epoch 47/100\n",
      "13/13 [==============================] - 0s 12ms/step - loss: 1.2162\n",
      "Epoch 48/100\n",
      "13/13 [==============================] - 0s 11ms/step - loss: 1.1950\n",
      "Epoch 49/100\n",
      "13/13 [==============================] - 0s 11ms/step - loss: 1.1950\n",
      "Epoch 50/100\n",
      "13/13 [==============================] - 0s 12ms/step - loss: 1.1943\n",
      "Epoch 51/100\n",
      "13/13 [==============================] - 0s 13ms/step - loss: 1.1925\n",
      "Epoch 52/100\n",
      "13/13 [==============================] - 0s 11ms/step - loss: 1.1696\n",
      "Epoch 53/100\n",
      "13/13 [==============================] - 0s 11ms/step - loss: 1.1673\n",
      "Epoch 54/100\n",
      "13/13 [==============================] - 0s 12ms/step - loss: 1.1412\n",
      "Epoch 55/100\n",
      "13/13 [==============================] - 0s 11ms/step - loss: 1.1238\n",
      "Epoch 56/100\n",
      "13/13 [==============================] - 0s 11ms/step - loss: 1.1019\n",
      "Epoch 57/100\n",
      "13/13 [==============================] - 0s 12ms/step - loss: 1.0938\n",
      "Epoch 58/100\n",
      "13/13 [==============================] - 0s 11ms/step - loss: 1.0896\n",
      "Epoch 59/100\n",
      "13/13 [==============================] - 0s 11ms/step - loss: 1.0725\n",
      "Epoch 60/100\n",
      "13/13 [==============================] - 0s 11ms/step - loss: 1.0624\n",
      "Epoch 61/100\n",
      "13/13 [==============================] - 0s 11ms/step - loss: 1.0580\n",
      "Epoch 62/100\n",
      "13/13 [==============================] - 0s 11ms/step - loss: 1.0398\n",
      "Epoch 63/100\n",
      "13/13 [==============================] - 0s 11ms/step - loss: 1.0203\n",
      "Epoch 64/100\n",
      "13/13 [==============================] - 0s 11ms/step - loss: 1.0149\n",
      "Epoch 65/100\n",
      "13/13 [==============================] - 0s 11ms/step - loss: 1.0178\n",
      "Epoch 66/100\n",
      "13/13 [==============================] - 0s 11ms/step - loss: 1.0062\n",
      "Epoch 67/100\n",
      "13/13 [==============================] - 0s 11ms/step - loss: 0.9947\n",
      "Epoch 68/100\n",
      "13/13 [==============================] - 0s 11ms/step - loss: 0.9701\n",
      "Epoch 69/100\n",
      "13/13 [==============================] - 0s 12ms/step - loss: 0.9730\n",
      "Epoch 70/100\n",
      "13/13 [==============================] - 0s 12ms/step - loss: 0.9531\n",
      "Epoch 71/100\n",
      "13/13 [==============================] - 0s 11ms/step - loss: 0.9517\n",
      "Epoch 72/100\n",
      "13/13 [==============================] - 0s 11ms/step - loss: 0.9469\n",
      "Epoch 73/100\n",
      "13/13 [==============================] - 0s 11ms/step - loss: 0.9128\n",
      "Epoch 74/100\n",
      "13/13 [==============================] - 0s 12ms/step - loss: 0.9212\n",
      "Epoch 75/100\n",
      "13/13 [==============================] - 0s 11ms/step - loss: 0.9138\n",
      "Epoch 76/100\n",
      "13/13 [==============================] - 0s 12ms/step - loss: 0.8848\n",
      "Epoch 77/100\n",
      "13/13 [==============================] - 0s 11ms/step - loss: 0.8859\n",
      "Epoch 78/100\n",
      "13/13 [==============================] - 0s 11ms/step - loss: 0.8764\n",
      "Epoch 79/100\n",
      "13/13 [==============================] - 0s 11ms/step - loss: 0.8636\n",
      "Epoch 80/100\n",
      "13/13 [==============================] - 0s 11ms/step - loss: 0.8581\n",
      "Epoch 81/100\n",
      "13/13 [==============================] - 0s 12ms/step - loss: 0.8533\n",
      "Epoch 82/100\n",
      "13/13 [==============================] - 0s 12ms/step - loss: 0.8546\n",
      "Epoch 83/100\n",
      "13/13 [==============================] - 0s 12ms/step - loss: 0.8351\n",
      "Epoch 84/100\n",
      "13/13 [==============================] - 0s 12ms/step - loss: 0.8214\n",
      "Epoch 85/100\n",
      "13/13 [==============================] - 0s 11ms/step - loss: 0.8156\n",
      "Epoch 86/100\n",
      "13/13 [==============================] - 0s 12ms/step - loss: 0.8057\n",
      "Epoch 87/100\n",
      "13/13 [==============================] - 0s 11ms/step - loss: 0.7793\n",
      "Epoch 88/100\n",
      "13/13 [==============================] - 0s 11ms/step - loss: 0.7772\n",
      "Epoch 89/100\n",
      "13/13 [==============================] - 0s 11ms/step - loss: 0.7679\n",
      "Epoch 90/100\n",
      "13/13 [==============================] - 0s 11ms/step - loss: 0.7668\n",
      "Epoch 91/100\n",
      "13/13 [==============================] - 0s 11ms/step - loss: 0.7768\n",
      "Epoch 92/100\n",
      "13/13 [==============================] - 0s 12ms/step - loss: 0.7564\n",
      "Epoch 93/100\n",
      "13/13 [==============================] - 0s 11ms/step - loss: 0.7456\n",
      "Epoch 94/100\n",
      "13/13 [==============================] - 0s 11ms/step - loss: 0.7372\n",
      "Epoch 95/100\n",
      "13/13 [==============================] - 0s 12ms/step - loss: 0.7250\n",
      "Epoch 96/100\n",
      "13/13 [==============================] - 0s 12ms/step - loss: 0.7212\n",
      "Epoch 97/100\n",
      "13/13 [==============================] - 0s 11ms/step - loss: 0.7132\n",
      "Epoch 98/100\n",
      "13/13 [==============================] - 0s 12ms/step - loss: 0.6980\n",
      "Epoch 99/100\n",
      "13/13 [==============================] - 0s 12ms/step - loss: 0.6872\n",
      "Epoch 100/100\n",
      "13/13 [==============================] - 0s 13ms/step - loss: 0.6938\n"
     ]
    }
   ],
   "source": [
    "from BERTPipeline import BERTPipeline\n",
    "\n",
    "bert = BERTPipeline(config)\n",
    "bert.train(mlm_ds)"
   ]
  },
  {
   "cell_type": "markdown",
   "metadata": {},
   "source": [
    "### Predicting on the masked test set"
   ]
  },
  {
   "cell_type": "code",
   "execution_count": 7,
   "metadata": {},
   "outputs": [
    {
     "name": "stdout",
     "output_type": "stream",
     "text": [
      "2/2 [==============================] - 0s 7ms/step\n"
     ]
    }
   ],
   "source": [
    "pred = bert.predict(x_te)"
   ]
  },
  {
   "cell_type": "code",
   "execution_count": 8,
   "metadata": {},
   "outputs": [
    {
     "name": "stdout",
     "output_type": "stream",
     "text": [
      "(54, 128)\n",
      "pred: [25 26 23 21 21 22 26 21 21 26 22 22 22 22 26 23 26 26 26 26 26 19 19 19\n",
      " 19 16 16 19 17 17 19 19 19 19 19 19 19 16  7  7  7 17 17 17 17  7  7  7\n",
      " 16 16 16 16 16 16  7  7  7  7 16 16 16  5  7  7  7  7 20 20  7  7 16 15\n",
      " 15 15 15 15  4  4  4  8  8  9  9 15 14 14  4  4 17 20 20 15  4  4  4  4\n",
      "  4  4  4  4  4  4  4  4  4  4  5  5  5  5  4  4  4  9  9  9  9 11  4  4\n",
      "  4  4  4  4  4  4  4  4]\n",
      "test: [25 26  2 21 21  2 26 21 21 26 25 22 22 22 26 23 26 25  0  0  0  0  0  0\n",
      "  0  0  0  0  0  0  0  0  0  0  0  0  0  0  0  0  0  0  0  0  0  0  0  0\n",
      "  0  0  0  0  0  0  0  0  0  0  0  0  0  0  0  0  0  0  0  0  0  0  0  0\n",
      "  0  0  0  0  0  0  0  0  0  0  0  0  0  0  0  0  0  0  0  0  0  0  0  0\n",
      "  0  0  0  0  0  0  0  0  0  0  0  0  0  0  0  0  0  0  0  0  0  0  0  0\n",
      "  0  0  0  0  0  0  0  0]\n",
      "[1 1 0 1 1 0 1 1 1 1 0 1 1 1 1 1 1 0 0 0 0 0 0 0 0 0 0 0 0 0 0 0 0 0 0 0 0\n",
      " 0 0 0 0 0 0 0 0 0 0 0 0 0 0 0 0 0 0 0 0 0 0 0 0 0 0 0 0 0 0 0 0 0 0 0 0 0\n",
      " 0 0 0 0 0 0 0 0 0 0 0 0 0 0 0 0 0 0 0 0 0 0 0 0 0 0 0 0 0 0 0 0 0 0 0 0 0\n",
      " 0 0 0 0 0 0 0 0 0 0 0 0 0 0 0 0 0]\n"
     ]
    }
   ],
   "source": [
    "print(pred.shape)\n",
    "print('pred:', pred[19])\n",
    "print('test:', y_te[19])\n",
    "print((pred[19] == y_te[19])*1)"
   ]
  },
  {
   "cell_type": "code",
   "execution_count": 9,
   "metadata": {},
   "outputs": [
    {
     "name": "stdout",
     "output_type": "stream",
     "text": [
      "Accuracy brut (per student mean):  0.4017650462962963\n",
      "Accuracy brut (per student mean):  0.4017650462962963\n",
      "Accuracy without padding (per student mean):  0.747873078073344\n",
      "Accuracy on masked tokens (per student mean):  nan\n"
     ]
    },
    {
     "name": "stderr",
     "output_type": "stream",
     "text": [
      "C:\\Users\\yanni\\AppData\\Local\\Temp\\ipykernel_22284\\566778706.py:7: RuntimeWarning: invalid value encountered in divide\n",
      "  print(\"Accuracy on masked tokens (per student mean): \", np.mean(np.sum(where_equal * where_masked, axis=1) / np.sum(where_masked, axis=1)))\n"
     ]
    }
   ],
   "source": [
    "where_equal = (pred == y_te)\n",
    "where_masked = (x_te == config.TOKEN_DICT['[MASK]'])\n",
    "\n",
    "print(\"Accuracy brut (per student mean): \", np.mean(np.sum(pred == y_te, axis=1) / (y_te.shape[1])))\n",
    "print(\"Accuracy brut (per student mean): \", np.sum(pred == y_te) / np.size(y_te))\n",
    "print(\"Accuracy without padding (per student mean): \", np.mean(np.sum((pred == y_te) * (y_te != 0), axis=1) / np.sum(y_te != 0, axis=1)))\n",
    "print(\"Accuracy on masked tokens (per student mean): \", np.mean(np.sum(where_equal * where_masked, axis=1) / np.sum(where_masked, axis=1)))"
   ]
  },
  {
   "cell_type": "code",
   "execution_count": 11,
   "metadata": {},
   "outputs": [
    {
     "name": "stdout",
     "output_type": "stream",
     "text": [
      "Accuracy brut (per total):  0.4017650462962963\n",
      "Accuracy without padding (per total):  0.749527665317139\n",
      "Accuracy on masked tokens:  0.38155136268343814\n"
     ]
    }
   ],
   "source": [
    "print(\"Accuracy brut (per total): \", np.sum(pred == y_te) / np.size(y_te))\n",
    "print(\"Accuracy without padding (per total): \", np.sum((pred == y_te) * (y_te != 0)) / np.sum(y_te != 0))\n",
    "print(\"Accuracy on masked tokens: \", np.sum(where_equal * where_masked) / np.sum(where_masked))"
   ]
  }
 ],
 "metadata": {
  "kernelspec": {
   "display_name": "ML",
   "language": "python",
   "name": "python3"
  },
  "language_info": {
   "codemirror_mode": {
    "name": "ipython",
    "version": 3
   },
   "file_extension": ".py",
   "mimetype": "text/x-python",
   "name": "python",
   "nbconvert_exporter": "python",
   "pygments_lexer": "ipython3",
   "version": "3.11.5"
  }
 },
 "nbformat": 4,
 "nbformat_minor": 2
}
