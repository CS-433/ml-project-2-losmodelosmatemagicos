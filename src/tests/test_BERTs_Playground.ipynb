{
 "cells": [
  {
   "cell_type": "markdown",
   "metadata": {},
   "source": [
    "# BERT's playground \n",
    "Hello there! Welcome on BERT's playground. You may play with BERT here and see what he can do but always make sure he feels respected and admired."
   ]
  },
  {
   "cell_type": "markdown",
   "metadata": {},
   "source": [
    "## Setups\n"
   ]
  },
  {
   "cell_type": "code",
   "execution_count": 1,
   "metadata": {},
   "outputs": [
    {
     "name": "stdout",
     "output_type": "stream",
     "text": [
      "WARNING:tensorflow:From d:\\Users\\Adrien\\miniconda3\\envs\\ml\\Lib\\site-packages\\keras\\src\\losses.py:2976: The name tf.losses.sparse_softmax_cross_entropy is deprecated. Please use tf.compat.v1.losses.sparse_softmax_cross_entropy instead.\n",
      "\n"
     ]
    }
   ],
   "source": [
    "import sys\n",
    "sys.path.append('../ml/BERT')\n",
    "import masking\n",
    "import BERT\n",
    "from Vectorisation import Vectorisation\n",
    "from Config import Config\n",
    "from MaskedTextGenerator import MaskedTextGenerator\n",
    "\n",
    "import pickle\n",
    "import tensorflow as tf\n",
    "import numpy as np\n",
    "from tensorflow import keras\n",
    "from sklearn.model_selection import train_test_split\n",
    "\n",
    "with open(\"../../data/ml4science_data.pkl\", \"rb\") as fp:\n",
    "    data_dict = pickle.load(fp)\n",
    "\n",
    "config = Config()\n",
    "vec = Vectorisation(config=config)"
   ]
  },
  {
   "cell_type": "markdown",
   "metadata": {},
   "source": [
    "# Testing BERT"
   ]
  },
  {
   "cell_type": "code",
   "execution_count": 2,
   "metadata": {},
   "outputs": [
    {
     "name": "stdout",
     "output_type": "stream",
     "text": [
      "(203, 128) (203, 128) (203, 128)\n",
      "(51, 128) (51, 128)\n",
      "<_BatchDataset element_spec=(TensorSpec(shape=(None, 128), dtype=tf.int32, name=None), TensorSpec(shape=(None, 128), dtype=tf.int32, name=None), TensorSpec(shape=(None, 128), dtype=tf.float64, name=None))>\n"
     ]
    }
   ],
   "source": [
    "# Prepare data for masked language model\n",
    "encoded = vec.encode_dict(data_dict)\n",
    "encoded_train, encoded_test = train_test_split(encoded, test_size=0.2, random_state=42)\n",
    "x_masked_encoded, y_masked_encoded, sample_weights = masking.mask_input_and_labels(encoded_train, config.TOKEN_DICT, seed=32)\n",
    "x_test, y_test, _ = masking.mask_input_and_labels(encoded_test, config.TOKEN_DICT, seed=32)\n",
    "print(x_masked_encoded.shape, y_masked_encoded.shape, sample_weights.shape)\n",
    "print(x_test.shape, y_test.shape)\n",
    "\n",
    "mlm_ds = tf.data.Dataset.from_tensor_slices((x_masked_encoded, y_masked_encoded, sample_weights))\n",
    "mlm_ds = mlm_ds.shuffle(1000).batch(config.BATCH_SIZE)\n",
    "\n",
    "print(mlm_ds)"
   ]
  },
  {
   "cell_type": "code",
   "execution_count": 3,
   "metadata": {},
   "outputs": [
    {
     "data": {
      "text/plain": [
       "array([[26,  2, 26, ...,  0,  0,  0],\n",
       "       [26, 21, 26, ..., 14, 11, 14],\n",
       "       [25, 26, 21, ...,  0,  0,  0],\n",
       "       ...,\n",
       "       [26,  2, 26, ...,  0,  0,  0],\n",
       "       [26, 25, 26, ...,  0,  0,  0],\n",
       "       [26,  2, 26, ..., 22, 26, 21]])"
      ]
     },
     "execution_count": 3,
     "metadata": {},
     "output_type": "execute_result"
    }
   ],
   "source": [
    "encoded"
   ]
  },
  {
   "cell_type": "code",
   "execution_count": 4,
   "metadata": {},
   "outputs": [
    {
     "name": "stdout",
     "output_type": "stream",
     "text": [
      "[26  2 26 21 26 21 26 23 26 21 26 23 26 21 26 21 26 21 26 21 26 21 26 21\n",
      " 26  2 26 23 26 21 26  9 14 11 14  9 14 13 14 10 14 10 14 10 14 10 14 10\n",
      " 14 10 14 10 14 10 14 10 14 10 14 10 14 10 14 10 14 10 14 10 10 10 10 10\n",
      " 14 10 10 10 10 10 14 10 10 10 10 10 10 10 10 10 10 10 10 10 14 11 14  9\n",
      " 14  9 14 10 14  2 14  9 14 10 10 10 10 10 10 10 10 10 10 10 10 10 10 10\n",
      " 10 10 10 10 10 10 14 10]\n"
     ]
    }
   ],
   "source": [
    "sample_tokens = x_masked_encoded[0:1]\n",
    "print(y_masked_encoded[0])"
   ]
  },
  {
   "cell_type": "code",
   "execution_count": 5,
   "metadata": {},
   "outputs": [
    {
     "name": "stdout",
     "output_type": "stream",
     "text": [
      "[26  2 26 21 26 21  1 23 26 21  1 23 26 21 26 21 26  1 26 21 26  1 26 21\n",
      " 26  2 26 23 26 21  1  9 14 11  1  9 14 13 14 10 14 10 14 10 14 10 14 10\n",
      " 14  1 14 10 14  1 14 10 14 10 14 10  1 10 14  1  1 10 14 10 10 10 10  1\n",
      " 14 10 10 10 10 10 14 10 10 10 10 10 10  1 10 10  1 10 10 10 14 11 14  9\n",
      " 14  9 14 10 14  2 14  9 14 10 10 10  1  1 10 10 10 10 10 10 10 10 10 10\n",
      " 10 10  1 10 10 10 14 10]\n"
     ]
    }
   ],
   "source": [
    "print(x_masked_encoded[0])"
   ]
  },
  {
   "cell_type": "code",
   "execution_count": 6,
   "metadata": {},
   "outputs": [
    {
     "name": "stdout",
     "output_type": "stream",
     "text": [
      "WARNING:tensorflow:From d:\\Users\\Adrien\\miniconda3\\envs\\ml\\Lib\\site-packages\\keras\\src\\backend.py:1398: The name tf.executing_eagerly_outside_functions is deprecated. Please use tf.compat.v1.executing_eagerly_outside_functions instead.\n",
      "\n",
      "Model: \"masked_bert_model\"\n",
      "__________________________________________________________________________________________________\n",
      " Layer (type)                Output Shape                 Param #   Connected to                  \n",
      "==================================================================================================\n",
      " input_1 (InputLayer)        [(None, 128)]                0         []                            \n",
      "                                                                                                  \n",
      " word_embedding (Embedding)  (None, 128, 64)              1728      ['input_1[0][0]']             \n",
      "                                                                                                  \n",
      " tf.__operators__.add (TFOp  (None, 128, 64)              0         ['word_embedding[0][0]']      \n",
      " Lambda)                                                                                          \n",
      "                                                                                                  \n",
      " encoder_0/multiheadattenti  (None, 128, 64)              16640     ['tf.__operators__.add[0][0]',\n",
      " on (MultiHeadAttention)                                             'tf.__operators__.add[0][0]',\n",
      "                                                                     'tf.__operators__.add[0][0]']\n",
      "                                                                                                  \n",
      " encoder_0/att_dropout (Dro  (None, 128, 64)              0         ['encoder_0/multiheadattention\n",
      " pout)                                                              [0][0]']                      \n",
      "                                                                                                  \n",
      " tf.__operators__.add_1 (TF  (None, 128, 64)              0         ['tf.__operators__.add[0][0]',\n",
      " OpLambda)                                                           'encoder_0/att_dropout[0][0]'\n",
      "                                                                    ]                             \n",
      "                                                                                                  \n",
      " encoder_0/att_layernormali  (None, 128, 64)              128       ['tf.__operators__.add_1[0][0]\n",
      " zation (LayerNormalization                                         ']                            \n",
      " )                                                                                                \n",
      "                                                                                                  \n",
      " encoder_0/ffn (Sequential)  (None, 128, 64)              8320      ['encoder_0/att_layernormaliza\n",
      "                                                                    tion[0][0]']                  \n",
      "                                                                                                  \n",
      " encoder_0/ffn_dropout (Dro  (None, 128, 64)              0         ['encoder_0/ffn[0][0]']       \n",
      " pout)                                                                                            \n",
      "                                                                                                  \n",
      " tf.__operators__.add_2 (TF  (None, 128, 64)              0         ['encoder_0/att_layernormaliza\n",
      " OpLambda)                                                          tion[0][0]',                  \n",
      "                                                                     'encoder_0/ffn_dropout[0][0]'\n",
      "                                                                    ]                             \n",
      "                                                                                                  \n",
      " encoder_0/ffn_layernormali  (None, 128, 64)              128       ['tf.__operators__.add_2[0][0]\n",
      " zation (LayerNormalization                                         ']                            \n",
      " )                                                                                                \n",
      "                                                                                                  \n",
      " mlm_cls (Dense)             (None, 128, 27)              1755      ['encoder_0/ffn_layernormaliza\n",
      "                                                                    tion[0][0]']                  \n",
      "                                                                                                  \n",
      "==================================================================================================\n",
      "Total params: 28701 (112.11 KB)\n",
      "Trainable params: 28699 (112.11 KB)\n",
      "Non-trainable params: 2 (8.00 Byte)\n",
      "__________________________________________________________________________________________________\n"
     ]
    }
   ],
   "source": [
    "generator_callback = MaskedTextGenerator(sample_tokens, config.TOKEN_DICT['[MASK]'])\n",
    "\n",
    "bert_masked_model = BERT.create_masked_language_bert_model(config)\n",
    "bert_masked_model.summary()"
   ]
  },
  {
   "cell_type": "code",
   "execution_count": 7,
   "metadata": {},
   "outputs": [
    {
     "name": "stdout",
     "output_type": "stream",
     "text": [
      "Epoch 1/100\n"
     ]
    },
    {
     "name": "stdout",
     "output_type": "stream",
     "text": [
      "13/13 [==============================] - 2s 11ms/step - loss: 3.2831\n",
      "Epoch 2/100\n",
      "13/13 [==============================] - 0s 11ms/step - loss: 2.7629\n",
      "Epoch 3/100\n",
      "13/13 [==============================] - 0s 12ms/step - loss: 2.5998\n",
      "Epoch 4/100\n",
      "13/13 [==============================] - 0s 11ms/step - loss: 2.5309\n",
      "Epoch 5/100\n",
      "13/13 [==============================] - 0s 10ms/step - loss: 2.4706\n",
      "Epoch 6/100\n",
      "13/13 [==============================] - 0s 10ms/step - loss: 2.4478\n",
      "Epoch 7/100\n",
      "13/13 [==============================] - 0s 10ms/step - loss: 2.4206\n",
      "Epoch 8/100\n",
      "13/13 [==============================] - 0s 10ms/step - loss: 2.4049\n",
      "Epoch 9/100\n",
      "13/13 [==============================] - 0s 10ms/step - loss: 2.3730\n",
      "Epoch 10/100\n",
      "13/13 [==============================] - 0s 10ms/step - loss: 2.3281\n",
      "Epoch 11/100\n",
      "13/13 [==============================] - 0s 10ms/step - loss: 2.2749\n",
      "Epoch 12/100\n",
      "13/13 [==============================] - 0s 10ms/step - loss: 2.1975\n",
      "Epoch 13/100\n",
      "13/13 [==============================] - 0s 10ms/step - loss: 2.0964\n",
      "Epoch 14/100\n",
      "13/13 [==============================] - 0s 10ms/step - loss: 1.9784\n",
      "Epoch 15/100\n",
      "13/13 [==============================] - 0s 10ms/step - loss: 1.9058\n",
      "Epoch 16/100\n",
      "13/13 [==============================] - 0s 10ms/step - loss: 1.8640\n",
      "Epoch 17/100\n",
      "13/13 [==============================] - 0s 10ms/step - loss: 1.7904\n",
      "Epoch 18/100\n",
      "13/13 [==============================] - 0s 11ms/step - loss: 1.7453\n",
      "Epoch 19/100\n",
      "13/13 [==============================] - 0s 10ms/step - loss: 1.6951\n",
      "Epoch 20/100\n",
      "13/13 [==============================] - 0s 11ms/step - loss: 1.6831\n",
      "Epoch 21/100\n",
      "13/13 [==============================] - 0s 10ms/step - loss: 1.6375\n",
      "Epoch 22/100\n",
      "13/13 [==============================] - 0s 10ms/step - loss: 1.6101\n",
      "Epoch 23/100\n",
      "13/13 [==============================] - 0s 10ms/step - loss: 1.5896\n",
      "Epoch 24/100\n",
      "13/13 [==============================] - 0s 11ms/step - loss: 1.5653\n",
      "Epoch 25/100\n",
      "13/13 [==============================] - 0s 10ms/step - loss: 1.5260\n",
      "Epoch 26/100\n",
      "13/13 [==============================] - 0s 10ms/step - loss: 1.5071\n",
      "Epoch 27/100\n",
      "13/13 [==============================] - 0s 10ms/step - loss: 1.4850\n",
      "Epoch 28/100\n",
      "13/13 [==============================] - 0s 10ms/step - loss: 1.4441\n",
      "Epoch 29/100\n",
      "13/13 [==============================] - 0s 12ms/step - loss: 1.4252\n",
      "Epoch 30/100\n",
      "13/13 [==============================] - 0s 10ms/step - loss: 1.4023\n",
      "Epoch 31/100\n",
      "13/13 [==============================] - 0s 10ms/step - loss: 1.3854\n",
      "Epoch 32/100\n",
      "13/13 [==============================] - 0s 10ms/step - loss: 1.3610\n",
      "Epoch 33/100\n",
      "13/13 [==============================] - 0s 10ms/step - loss: 1.3409\n",
      "Epoch 34/100\n",
      "13/13 [==============================] - 0s 11ms/step - loss: 1.3194\n",
      "Epoch 35/100\n",
      "13/13 [==============================] - 0s 10ms/step - loss: 1.2775\n",
      "Epoch 36/100\n",
      "13/13 [==============================] - 0s 10ms/step - loss: 1.2791\n",
      "Epoch 37/100\n",
      "13/13 [==============================] - 0s 10ms/step - loss: 1.2573\n",
      "Epoch 38/100\n",
      "13/13 [==============================] - 0s 10ms/step - loss: 1.2276\n",
      "Epoch 39/100\n",
      "13/13 [==============================] - 0s 10ms/step - loss: 1.2283\n",
      "Epoch 40/100\n",
      "13/13 [==============================] - 0s 11ms/step - loss: 1.2140\n",
      "Epoch 41/100\n",
      "13/13 [==============================] - 0s 10ms/step - loss: 1.1975\n",
      "Epoch 42/100\n",
      "13/13 [==============================] - 0s 10ms/step - loss: 1.1651\n",
      "Epoch 43/100\n",
      "13/13 [==============================] - 0s 10ms/step - loss: 1.1621\n",
      "Epoch 44/100\n",
      "13/13 [==============================] - 0s 10ms/step - loss: 1.1419\n",
      "Epoch 45/100\n",
      "13/13 [==============================] - 0s 10ms/step - loss: 1.1339\n",
      "Epoch 46/100\n",
      "13/13 [==============================] - 0s 10ms/step - loss: 1.1229\n",
      "Epoch 47/100\n",
      "13/13 [==============================] - 0s 10ms/step - loss: 1.1098\n",
      "Epoch 48/100\n",
      "13/13 [==============================] - 0s 10ms/step - loss: 1.0981\n",
      "Epoch 49/100\n",
      "13/13 [==============================] - 0s 10ms/step - loss: 1.0807\n",
      "Epoch 50/100\n",
      "13/13 [==============================] - 0s 10ms/step - loss: 1.0790\n",
      "Epoch 51/100\n",
      "13/13 [==============================] - 0s 10ms/step - loss: 1.0670\n",
      "Epoch 52/100\n",
      "13/13 [==============================] - 0s 10ms/step - loss: 1.0418\n",
      "Epoch 53/100\n",
      "13/13 [==============================] - 0s 10ms/step - loss: 1.0282\n",
      "Epoch 54/100\n",
      "13/13 [==============================] - 0s 10ms/step - loss: 1.0301\n",
      "Epoch 55/100\n",
      "13/13 [==============================] - 0s 10ms/step - loss: 1.0096\n",
      "Epoch 56/100\n",
      "13/13 [==============================] - 0s 10ms/step - loss: 0.9946\n",
      "Epoch 57/100\n",
      "13/13 [==============================] - 0s 10ms/step - loss: 0.9898\n",
      "Epoch 58/100\n",
      "13/13 [==============================] - 0s 10ms/step - loss: 0.9754\n",
      "Epoch 59/100\n",
      "13/13 [==============================] - 0s 10ms/step - loss: 0.9719\n",
      "Epoch 60/100\n",
      "13/13 [==============================] - 0s 10ms/step - loss: 0.9729\n",
      "Epoch 61/100\n",
      "13/13 [==============================] - 0s 10ms/step - loss: 0.9578\n",
      "Epoch 62/100\n",
      "13/13 [==============================] - 0s 10ms/step - loss: 0.9577\n",
      "Epoch 63/100\n",
      "13/13 [==============================] - 0s 11ms/step - loss: 0.9331\n",
      "Epoch 64/100\n",
      "13/13 [==============================] - 0s 10ms/step - loss: 0.9162\n",
      "Epoch 65/100\n",
      "13/13 [==============================] - 0s 10ms/step - loss: 0.9107\n",
      "Epoch 66/100\n",
      "13/13 [==============================] - 0s 10ms/step - loss: 0.9045\n",
      "Epoch 67/100\n",
      "13/13 [==============================] - 0s 11ms/step - loss: 0.8881\n",
      "Epoch 68/100\n",
      "13/13 [==============================] - 0s 10ms/step - loss: 0.8710\n",
      "Epoch 69/100\n",
      "13/13 [==============================] - 0s 10ms/step - loss: 0.8738\n",
      "Epoch 70/100\n",
      "13/13 [==============================] - 0s 11ms/step - loss: 0.8710\n",
      "Epoch 71/100\n",
      "13/13 [==============================] - 0s 10ms/step - loss: 0.8516\n",
      "Epoch 72/100\n",
      "13/13 [==============================] - 0s 10ms/step - loss: 0.8430\n",
      "Epoch 73/100\n",
      "13/13 [==============================] - 0s 10ms/step - loss: 0.8333\n",
      "Epoch 74/100\n",
      "13/13 [==============================] - 0s 10ms/step - loss: 0.8226\n",
      "Epoch 75/100\n",
      "13/13 [==============================] - 0s 11ms/step - loss: 0.8178\n",
      "Epoch 76/100\n",
      "13/13 [==============================] - 0s 10ms/step - loss: 0.8039\n",
      "Epoch 77/100\n",
      "13/13 [==============================] - 0s 11ms/step - loss: 0.7937\n",
      "Epoch 78/100\n",
      "13/13 [==============================] - 0s 10ms/step - loss: 0.7794\n",
      "Epoch 79/100\n",
      "13/13 [==============================] - 0s 10ms/step - loss: 0.7707\n",
      "Epoch 80/100\n",
      "13/13 [==============================] - 0s 10ms/step - loss: 0.7855\n",
      "Epoch 81/100\n",
      "13/13 [==============================] - 0s 11ms/step - loss: 0.7652\n",
      "Epoch 82/100\n",
      "13/13 [==============================] - 0s 11ms/step - loss: 0.7602\n",
      "Epoch 83/100\n",
      "13/13 [==============================] - 0s 11ms/step - loss: 0.7472\n",
      "Epoch 84/100\n",
      "13/13 [==============================] - 0s 12ms/step - loss: 0.7284\n",
      "Epoch 85/100\n",
      "13/13 [==============================] - 0s 12ms/step - loss: 0.7237\n",
      "Epoch 86/100\n",
      "13/13 [==============================] - 0s 10ms/step - loss: 0.7459\n",
      "Epoch 87/100\n",
      "13/13 [==============================] - 0s 11ms/step - loss: 0.7250\n",
      "Epoch 88/100\n",
      "13/13 [==============================] - 0s 11ms/step - loss: 0.7100\n",
      "Epoch 89/100\n",
      "13/13 [==============================] - 0s 10ms/step - loss: 0.7078\n",
      "Epoch 90/100\n",
      "13/13 [==============================] - 0s 10ms/step - loss: 0.6921\n",
      "Epoch 91/100\n",
      "13/13 [==============================] - 0s 10ms/step - loss: 0.6602\n",
      "Epoch 92/100\n",
      "13/13 [==============================] - 0s 11ms/step - loss: 0.6658\n",
      "Epoch 93/100\n",
      "13/13 [==============================] - 0s 11ms/step - loss: 0.6560\n",
      "Epoch 94/100\n",
      "13/13 [==============================] - 0s 10ms/step - loss: 0.6495\n",
      "Epoch 95/100\n",
      "13/13 [==============================] - 0s 11ms/step - loss: 0.6323\n",
      "Epoch 96/100\n",
      "13/13 [==============================] - 0s 11ms/step - loss: 0.6327\n",
      "Epoch 97/100\n",
      "13/13 [==============================] - 0s 11ms/step - loss: 0.6226\n",
      "Epoch 98/100\n",
      "13/13 [==============================] - 0s 10ms/step - loss: 0.6076\n",
      "Epoch 99/100\n",
      "13/13 [==============================] - 0s 11ms/step - loss: 0.6091\n",
      "Epoch 100/100\n",
      "13/13 [==============================] - 0s 11ms/step - loss: 0.6020\n"
     ]
    },
    {
     "data": {
      "text/plain": [
       "<keras.src.callbacks.History at 0x26b6e716c50>"
      ]
     },
     "execution_count": 7,
     "metadata": {},
     "output_type": "execute_result"
    }
   ],
   "source": [
    "# A callback in Keras is a function that is called at certain points during the training process. -> Here is called after each epoch during the training\n",
    "# Here we use to see the \"performance\" at each epoch while predicting on a \"test set\" aka the sample_tokens\n",
    "\n",
    "bert_masked_model.fit(mlm_ds, epochs=100)#, callbacks=[generator_callback]) "
   ]
  },
  {
   "cell_type": "code",
   "execution_count": 9,
   "metadata": {},
   "outputs": [
    {
     "name": "stdout",
     "output_type": "stream",
     "text": [
      "7/7 [==============================] - 0s 8ms/step\n",
      "Predictions:\n",
      " [26 26 26 21 26 21 26 26 26 21 26 23 26 21 26 21 26 26 26 21 26 21 26 21\n",
      " 26 26 26 26 26 21 26  9 14 14 14 14 14 13 14 10 14 10 14 10 14 10 14 10\n",
      " 14 10 14 10 14 10 14 10 14 10 14 10 10 10 14 10 10 10 14 10 10 10 10 10\n",
      " 14 10 10 10 10 10 14 10 10 10 10 10 10 10 10 10 10 10 10 10 14 11 14 10\n",
      " 14 10 14 10 14 10 14  9 14 10 10 10 10 10 10 10 10 10 10 10 10 10 10 10\n",
      " 10 10 10 10 10 10 14 10]\n",
      "Original:\n",
      " [26  2 26 21 26 21 26 23 26 21 26 23 26 21 26 21 26 21 26 21 26 21 26 21\n",
      " 26  2 26 23 26 21 26  9 14 11 14  9 14 13 14 10 14 10 14 10 14 10 14 10\n",
      " 14 10 14 10 14 10 14 10 14 10 14 10 14 10 14 10 14 10 14 10 10 10 10 10\n",
      " 14 10 10 10 10 10 14 10 10 10 10 10 10 10 10 10 10 10 10 10 14 11 14  9\n",
      " 14  9 14 10 14  2 14  9 14 10 10 10 10 10 10 10 10 10 10 10 10 10 10 10\n",
      " 10 10 10 10 10 10 14 10]\n",
      "Masked:\n",
      " [26  2 26 21 26 21  1 23 26 21  1 23 26 21 26 21 26  1 26 21 26  1 26 21\n",
      " 26  2 26 23 26 21  1  9 14 11  1  9 14 13 14 10 14 10 14 10 14 10 14 10\n",
      " 14  1 14 10 14  1 14 10 14 10 14 10  1 10 14  1  1 10 14 10 10 10 10  1\n",
      " 14 10 10 10 10 10 14 10 10 10 10 10 10  1 10 10  1 10 10 10 14 11 14  9\n",
      " 14  9 14 10 14  2 14  9 14 10 10 10  1  1 10 10 10 10 10 10 10 10 10 10\n",
      " 10 10  1 10 10 10 14 10]\n"
     ]
    }
   ],
   "source": [
    "predictions = bert_masked_model.predict(x_masked_encoded)\n",
    "\n",
    "predictions_max = np.argmax(predictions, axis=2)\n",
    "print(\"Predictions:\\n\",predictions_max[0])\n",
    "print(\"Original:\\n\", y_masked_encoded[0])\n",
    "print(\"Masked:\\n\", x_masked_encoded[0])"
   ]
  },
  {
   "cell_type": "code",
   "execution_count": 10,
   "metadata": {},
   "outputs": [
    {
     "name": "stdout",
     "output_type": "stream",
     "text": [
      "[ True False  True  True  True  True  True False  True  True  True  True\n",
      "  True  True  True  True  True False  True  True  True  True  True  True\n",
      "  True False  True False  True  True  True  True  True False  True False\n",
      "  True  True  True  True  True  True  True  True  True  True  True  True\n",
      "  True  True  True  True  True  True  True  True  True  True  True  True\n",
      " False  True  True  True False  True  True  True  True  True  True  True\n",
      "  True  True  True  True  True  True  True  True  True  True  True  True\n",
      "  True  True  True  True  True  True  True  True  True  True  True False\n",
      "  True False  True  True  True False  True  True  True  True  True  True\n",
      "  True  True  True  True  True  True  True  True  True  True  True  True\n",
      "  True  True  True  True  True  True  True  True]\n",
      "Accuracy brut:  0.6125615763546798\n",
      "Accuracy without taking in acount padding:  0.8138621637541724\n",
      "Accuracy on masked tokens:  0.7917647058823529\n"
     ]
    }
   ],
   "source": [
    "print(predictions_max[0] == y_masked_encoded[0])\n",
    "# print accuracy\n",
    "print(\"Accuracy brut: \", np.sum(predictions_max == y_masked_encoded) / (100*len(y_masked_encoded)))\n",
    "# print accuracy without padding\n",
    "print(\"Accuracy without taking in acount padding: \", np.sum((predictions_max == y_masked_encoded) * (y_masked_encoded!= 0)) / np.sum(y_masked_encoded != 0))\n",
    "print(\"Accuracy on masked tokens: \", np.sum((predictions_max == y_masked_encoded) * (x_masked_encoded == config.TOKEN_DICT['[MASK]'])) / np.sum(x_masked_encoded == config.TOKEN_DICT['[MASK]']))"
   ]
  },
  {
   "cell_type": "code",
   "execution_count": 11,
   "metadata": {},
   "outputs": [
    {
     "name": "stdout",
     "output_type": "stream",
     "text": [
      "2/2 [==============================] - 0s 8ms/step\n",
      "Predictions:\n",
      " [26 26 26 21 26 26 26 26 26 21 26 26 26 26 23 26 26 26 21 26 21 26 21 26\n",
      " 21 26 21 26 26 26 26 22 22 22 21 22 22 22 22 22 22 22 22 22 22 22 22 22\n",
      " 22 22 22 22 22 22 22 22 22 22 22 22 22 22 22 22 22 22 22 22 22 22 22 22\n",
      " 22 22 22 22 22 22 22 22 22 22 22 22 22 26 26 22 22 22 26 23 26 22 22 22\n",
      " 22 22 22 22 22 22 22 22 22 22 22 22 22 22 26 22 21  4  4 22 22 22 21 22\n",
      " 21  8 21  8  8  8  8  8]\n",
      "Original:\n",
      " [26  2 26 21 26 21 26 21 26 21 23 26 22 26 23 26  2 26 21 26 21 26 21 26\n",
      "  2 26 21 26 22 26 22 22 22 22 22 22 22 22 22 22 22 22 22 22 22 22 22 22\n",
      " 22 22 22 22 22 22 22 22 22 22 22 22 22 22 22 22 22 22 22 22 22 22 22 22\n",
      " 22 22 22 22 22 22 22 22 22 22 22 22 22 22 26 23 26 23 26 23 26 22 22 22\n",
      " 22 22 22 22 22 22 26  3  8  5  8  4  8 21 26  3  8  4  4  8  3  8  5  8\n",
      "  5  8  5  8  4  8  3  8]\n",
      "Masked:\n",
      " [26  2 26 21 26 21  1 21 26 21  1 26 22 26 23 26  2  1 21 26 21  1 21 26\n",
      "  2 26 21 26 22 26  1 22 22 22 21 22 22 22 22 22 22 22 22 22 22 22 22 22\n",
      " 22  1 22 22 22  1 22 22 22 22 22 22  6 22 22  1  1 22 22 22 22 22 22  1\n",
      " 22 22 22 22 22 22 22 22 22 22 22 22 22  1 26 23  1 23 26 23 26 22 22 22\n",
      " 22 22 22 22 22 22  1  3  8  5  8  4  1  1 26  3  8  4  4  8  3  8  5  8\n",
      "  5  8  1  8  4  8  3  8]\n"
     ]
    }
   ],
   "source": [
    "predictions = bert_masked_model.predict(x_test)\n",
    "\n",
    "predictions_max = np.argmax(predictions, axis=2)\n",
    "print(\"Predictions:\\n\",predictions_max[0])\n",
    "print(\"Original:\\n\", y_test[0])\n",
    "print(\"Masked:\\n\", x_test[0])"
   ]
  },
  {
   "cell_type": "code",
   "execution_count": 12,
   "metadata": {},
   "outputs": [
    {
     "name": "stdout",
     "output_type": "stream",
     "text": [
      "[ True False  True  True  True False  True False  True  True False  True\n",
      " False  True  True  True False  True  True  True  True  True  True  True\n",
      " False  True  True  True False  True False  True  True  True False  True\n",
      "  True  True  True  True  True  True  True  True  True  True  True  True\n",
      "  True  True  True  True  True  True  True  True  True  True  True  True\n",
      "  True  True  True  True  True  True  True  True  True  True  True  True\n",
      "  True  True  True  True  True  True  True  True  True  True  True  True\n",
      "  True False  True False False False  True  True  True  True  True  True\n",
      "  True  True  True  True  True  True False False False False False False\n",
      " False False  True False False  True  True False False False False False\n",
      " False  True False  True False  True False  True]\n",
      "Accuracy brut:  0.49470588235294116\n",
      "Accuracy without taking in acount padding:  0.7285590528443546\n",
      "Accuracy on masked tokens:  0.34782608695652173\n"
     ]
    }
   ],
   "source": [
    "print(predictions_max[0] == y_test[0])\n",
    "# print accuracy\n",
    "print(\"Accuracy brut: \", np.sum(predictions_max == y_test) / (100*len(y_test)))\n",
    "# print accuracy without padding\n",
    "print(\"Accuracy without taking in acount padding: \", np.sum((predictions_max == y_test) * (y_test!= 0)) / np.sum(y_test != 0))\n",
    "print(\"Accuracy on masked tokens: \", np.sum((predictions_max == y_test) * (x_test == config.TOKEN_DICT['[MASK]'])) / np.sum(x_test == config.TOKEN_DICT['[MASK]']))"
   ]
  },
  {
   "cell_type": "code",
   "execution_count": 10,
   "metadata": {},
   "outputs": [
    {
     "data": {
      "text/plain": [
       "'def get_end_to_end(model):\\n    inputs = keras.Input(shape=(None,))\\n    outputs = model(inputs)\\n    reshaped_outputs = keras.layers.Lambda(lambda x: keras.backend.argmax(x, axis=-1))(outputs)\\n    end_to_end_model = keras.Model(inputs, reshaped_outputs, name=\"end_to_end_model\")\\n    optimizer = keras.optimizers.Adam(learning_rate=config.bert.LR)\\n    end_to_end_model.compile(\\n        optimizer=optimizer, loss=\"sparse_categorical_crossentropy\", metrics=[\"accuracy\"]\\n    )\\n    return end_to_end_model\\n\\nend_to_end_classification_model = get_end_to_end(bert_masked_model)\\n\\n# Build dataset for end to end model input (will be used at the end)\\ntest_raw_classifier_ds = tf.data.Dataset.from_tensor_slices((x_masked_encoded, y_masked_encoded)).batch(config.BATCH_SIZE)\\n\\nend_to_end_classification_model.evaluate(test_raw_classifier_ds)'"
      ]
     },
     "execution_count": 10,
     "metadata": {},
     "output_type": "execute_result"
    }
   ],
   "source": [
    "# This how we can load a Keras model\n",
    "\"\"\"# Load OUR pretrained bert model\n",
    "mlm_model = keras.models.load_model(\n",
    "    \"bert_mlm_imdb.keras\", custom_objects={\"MaskedLanguageModel\": MaskedLanguageModel}\n",
    ")\"\"\"\n",
    "\n",
    "# Kinda failed attempt to create a end to end model (we don't really need it) -> But it's a good example of how to create a model with a custom loss function and reshape the output\n",
    "\"\"\"def get_end_to_end(model):\n",
    "    inputs = keras.Input(shape=(None,))\n",
    "    outputs = model(inputs)\n",
    "    reshaped_outputs = keras.layers.Lambda(lambda x: keras.backend.argmax(x, axis=-1))(outputs)\n",
    "    end_to_end_model = keras.Model(inputs, reshaped_outputs, name=\"end_to_end_model\")\n",
    "    optimizer = keras.optimizers.Adam(learning_rate=config.bert.LR)\n",
    "    end_to_end_model.compile(\n",
    "        optimizer=optimizer, loss=\"sparse_categorical_crossentropy\", metrics=[\"accuracy\"]\n",
    "    )\n",
    "    return end_to_end_model\n",
    "\n",
    "end_to_end_classification_model = get_end_to_end(bert_masked_model)\n",
    "\n",
    "# Build dataset for end to end model input (will be used at the end)\n",
    "test_raw_classifier_ds = tf.data.Dataset.from_tensor_slices((x_masked_encoded, y_masked_encoded)).batch(config.BATCH_SIZE)\n",
    "\n",
    "end_to_end_classification_model.evaluate(test_raw_classifier_ds)\"\"\""
   ]
  },
  {
   "cell_type": "code",
   "execution_count": null,
   "metadata": {},
   "outputs": [],
   "source": []
  }
 ],
 "metadata": {
  "kernelspec": {
   "display_name": "ML",
   "language": "python",
   "name": "python3"
  },
  "language_info": {
   "codemirror_mode": {
    "name": "ipython",
    "version": 3
   },
   "file_extension": ".py",
   "mimetype": "text/x-python",
   "name": "python",
   "nbconvert_exporter": "python",
   "pygments_lexer": "ipython3",
   "version": "3.11.5"
  }
 },
 "nbformat": 4,
 "nbformat_minor": 2
}
