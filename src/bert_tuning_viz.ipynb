{
 "cells": [
  {
   "cell_type": "code",
   "execution_count": 1,
   "metadata": {},
   "outputs": [],
   "source": [
    "import numpy as np\n",
    "import re"
   ]
  },
  {
   "cell_type": "code",
   "execution_count": 21,
   "metadata": {},
   "outputs": [],
   "source": [
    "# Function to extract hyperparameters and accuracy from a block\n",
    "def extract_info(block):\n",
    "    # Remove the first line (header)\n",
    "    block_lines = block.strip().split('\\n')[1:]\n",
    "\n",
    "    # Define the pattern for extracting hyperparameters\n",
    "    pattern = r\"(\\w+):\\s+(\\S+)\"\n",
    "    matches = re.findall(pattern, '\\n'.join(block_lines))\n",
    "\n",
    "    # Extract accuracy for the mask\n",
    "    accuracy_pattern = r\"Accuracy for the mask: (\\S+)\"\n",
    "    accuracy_mask = re.search(accuracy_pattern, block).group(1)\n",
    "\n",
    "    hyperparameters = tuple(value for key, value in matches if key != 'sequence' and key != 'mask')\n",
    "\n",
    "    return hyperparameters, float(accuracy_mask)"
   ]
  },
  {
   "cell_type": "code",
   "execution_count": 22,
   "metadata": {},
   "outputs": [],
   "source": [
    "# Read the file\n",
    "file_path = './ml/BERT/hyperparameters_combinations'\n",
    "with open(file_path, 'r') as file:\n",
    "    content = file.read()\n",
    "\n",
    "# Split the content into blocks\n",
    "blocks = re.split(r\"\\n\\n\", content)"
   ]
  },
  {
   "cell_type": "code",
   "execution_count": 23,
   "metadata": {},
   "outputs": [],
   "source": [
    "combinations = []\n",
    "accuracies = []\n",
    "for block in blocks:\n",
    "    if \"Hyperparameters combinations:\" in block:\n",
    "        hyperparameters, accuracy_mask = extract_info(block)\n",
    "        combinations.append(hyperparameters)\n",
    "        accuracies.append(accuracy_mask)"
   ]
  },
  {
   "cell_type": "code",
   "execution_count": 49,
   "metadata": {},
   "outputs": [
    {
     "name": "stdout",
     "output_type": "stream",
     "text": [
      "Best combination: ('32', '2', '32', '1', '0.01', '100') with accuracy: 0.4968499686666731\n"
     ]
    }
   ],
   "source": [
    "best_combination = combinations[np.argmax(accuracies)]\n",
    "print(\"Best combination:\", best_combination, \"with accuracy:\", np.max(accuracies))"
   ]
  },
  {
   "cell_type": "code",
   "execution_count": 50,
   "metadata": {},
   "outputs": [
    {
     "name": "stdout",
     "output_type": "stream",
     "text": [
      "5 best combinations:\n",
      "('32', '2', '32', '1', '0.01', '100') with accuracy: 0.4968499686666731\n",
      "('32', '2', '32', '1', '0.01', '50') with accuracy: 0.4678021735578361\n",
      "('32', '2', '128', '1', '0.01', '100') with accuracy: 0.4544552429435231\n",
      "('32', '2', '128', '1', '0.01', '50') with accuracy: 0.43934982882139195\n",
      "('32', '2', '256', '1', '0.01', '100') with accuracy: 0.4355149466200393\n"
     ]
    }
   ],
   "source": [
    "best_5_combinations = np.argsort(accuracies)[-5:][::-1]\n",
    "print(\"5 best combinations:\")\n",
    "for i in best_5_combinations:\n",
    "    print(combinations[i], \"with accuracy:\", accuracies[i])"
   ]
  },
  {
   "cell_type": "code",
   "execution_count": 51,
   "metadata": {},
   "outputs": [
    {
     "name": "stdout",
     "output_type": "stream",
     "text": [
      "5 worst combinations:\n",
      "('32', '4', '32', '1', '0.0001', '10') with accuracy: 0.09693371390482537\n",
      "('32', '2', '32', '1', '0.0001', '10') with accuracy: 0.10512123894553611\n",
      "('32', '8', '32', '1', '0.0001', '10') with accuracy: 0.10575870403953769\n",
      "('32', '2', '128', '1', '0.0001', '10') with accuracy: 0.11945416106513644\n",
      "('32', '8', '128', '1', '0.0001', '10') with accuracy: 0.12726312848075633\n"
     ]
    }
   ],
   "source": [
    "worst_5_combinations = np.argsort(accuracies)[:5]\n",
    "print(\"5 worst combinations:\")\n",
    "for i in worst_5_combinations:\n",
    "    print(combinations[i], \"with accuracy:\", accuracies[i])"
   ]
  },
  {
   "cell_type": "code",
   "execution_count": null,
   "metadata": {},
   "outputs": [],
   "source": []
  }
 ],
 "metadata": {
  "kernelspec": {
   "display_name": "ml",
   "language": "python",
   "name": "python3"
  },
  "language_info": {
   "codemirror_mode": {
    "name": "ipython",
    "version": 3
   },
   "file_extension": ".py",
   "mimetype": "text/x-python",
   "name": "python",
   "nbconvert_exporter": "python",
   "pygments_lexer": "ipython3",
   "version": "3.11.5"
  }
 },
 "nbformat": 4,
 "nbformat_minor": 2
}
