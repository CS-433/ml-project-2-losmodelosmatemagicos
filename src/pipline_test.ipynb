{
 "cells": [
  {
   "cell_type": "code",
   "execution_count": 2,
   "metadata": {},
   "outputs": [],
   "source": [
    "import pickle\n",
    "\n",
    "# Load the variables\n",
    "with open('sequences.pkl', 'rb') as f:\n",
    "    sequences = pickle.load(f)\n",
    "\n",
    "with open('labels.pkl', 'rb') as f:\n",
    "    labels = pickle.load(f)\n",
    "\n",
    "with open('demographics.pkl', 'rb') as f:\n",
    "    demographics = pickle.load(f)"
   ]
  },
  {
   "cell_type": "code",
   "execution_count": 3,
   "metadata": {},
   "outputs": [
    {
     "data": {
      "text/plain": [
       "(list,\n",
       " 254,\n",
       " [[0, 0, 0, 1, 0, 0, 0, 0, 0, 1],\n",
       "  [0, 0, 0, 1, 0, 0, 0, 0, 1, 0],\n",
       "  [0, 0, 0, 1, 0, 0, 0, 0, 0, 1]])"
      ]
     },
     "execution_count": 3,
     "metadata": {},
     "output_type": "execute_result"
    }
   ],
   "source": [
    "type(sequences), len(sequences) ,sequences[0][0:3] # number student and senquences"
   ]
  },
  {
   "cell_type": "code",
   "execution_count": 4,
   "metadata": {},
   "outputs": [
    {
     "data": {
      "text/plain": [
       "(254, [1, 1, 1, 1, 1, 1, 0])"
      ]
     },
     "execution_count": 4,
     "metadata": {},
     "output_type": "execute_result"
    }
   ],
   "source": [
    "len(labels) , labels[0:7]"
   ]
  },
  {
   "cell_type": "code",
   "execution_count": 17,
   "metadata": {},
   "outputs": [
    {
     "data": {
      "text/plain": [
       "(dict,\n",
       " 6,\n",
       " dict_keys(['gender', 'year', 'language', 'label', 'stratifier_col', 'oversampler_col']))"
      ]
     },
     "execution_count": 17,
     "metadata": {},
     "output_type": "execute_result"
    }
   ],
   "source": [
    "type(demographics), len(demographics) , demographics.keys()"
   ]
  },
  {
   "cell_type": "code",
   "execution_count": 10,
   "metadata": {},
   "outputs": [
    {
     "name": "stdout",
     "output_type": "stream",
     "text": [
      "gender\n",
      "year\n",
      "language\n",
      "label\n",
      "stratifier_col\n",
      "oversampler_col\n"
     ]
    }
   ],
   "source": [
    "# line 83 form nonested_cv.py used in ml_pipline.py\n",
    "\"\"\"demographics_train = {}\n",
    "for demo in demographics:\n",
    "    demographics_train[demo] = [\n",
    "        demographics[demo][idx] for idx in train_index\n",
    "    ]\"\"\"\n",
    "\n",
    "for demo in demographics:\n",
    "    print(demo)"
   ]
  },
  {
   "cell_type": "code",
   "execution_count": 8,
   "metadata": {},
   "outputs": [
    {
     "data": {
      "text/plain": [
       "(254,\n",
       " ['Deutsch',\n",
       "  'Deutsch',\n",
       "  'Deutsch',\n",
       "  'Deutsch',\n",
       "  'Deutsch',\n",
       "  'Français',\n",
       "  'Deutsch',\n",
       "  'Français',\n",
       "  'Deutsch',\n",
       "  'Deutsch',\n",
       "  'Deutsch',\n",
       "  'Deutsch',\n",
       "  'Deutsch',\n",
       "  'Français',\n",
       "  'Français',\n",
       "  'Français'])"
      ]
     },
     "execution_count": 8,
     "metadata": {},
     "output_type": "execute_result"
    }
   ],
   "source": [
    "len(demographics[\"language\"]), demographics[\"language\"][0:16]"
   ]
  },
  {
   "cell_type": "code",
   "execution_count": 9,
   "metadata": {},
   "outputs": [
    {
     "data": {
      "text/plain": [
       "(254,\n",
       " ['0Français',\n",
       "  '0Deutsch',\n",
       "  '1Deutsch',\n",
       "  '1Deutsch',\n",
       "  '0Deutsch',\n",
       "  '0Deutsch',\n",
       "  '0Français',\n",
       "  '1Français',\n",
       "  '0Français'])"
      ]
     },
     "execution_count": 9,
     "metadata": {},
     "output_type": "execute_result"
    }
   ],
   "source": [
    "len(demographics[\"oversampler_col\"]), demographics[\"oversampler_col\"][7:16]"
   ]
  },
  {
   "cell_type": "code",
   "execution_count": null,
   "metadata": {},
   "outputs": [],
   "source": []
  }
 ],
 "metadata": {
  "kernelspec": {
   "display_name": "Jade",
   "language": "python",
   "name": "python3"
  },
  "language_info": {
   "codemirror_mode": {
    "name": "ipython",
    "version": 3
   },
   "file_extension": ".py",
   "mimetype": "text/x-python",
   "name": "python",
   "nbconvert_exporter": "python",
   "pygments_lexer": "ipython3",
   "version": "3.11.5"
  }
 },
 "nbformat": 4,
 "nbformat_minor": 2
}
