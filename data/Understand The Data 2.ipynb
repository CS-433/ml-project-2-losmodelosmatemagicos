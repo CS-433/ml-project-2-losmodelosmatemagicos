{
 "cells": [
  {
   "cell_type": "markdown",
   "metadata": {},
   "source": [
    "# Understanding the data we are given"
   ]
  },
  {
   "cell_type": "code",
   "execution_count": 1,
   "metadata": {},
   "outputs": [],
   "source": [
    "import pickle\n",
    "import numpy as np"
   ]
  },
  {
   "cell_type": "code",
   "execution_count": 52,
   "metadata": {},
   "outputs": [],
   "source": [
    "# Load the variables\n",
    "with open('nonnested_cval_mltsatt_l819_monday.pkl', 'rb') as f:\n",
    "    results = pickle.load(f)"
   ]
  },
  {
   "cell_type": "code",
   "execution_count": 53,
   "metadata": {},
   "outputs": [],
   "source": [
    "# Load the variables\n",
    "with open('config.yaml', 'rb') as f:\n",
    "    config_info = pickle.load(f)"
   ]
  },
  {
   "cell_type": "code",
   "execution_count": 54,
   "metadata": {},
   "outputs": [
    {
     "data": {
      "text/plain": [
       "{'experiment': {'root_name': 'augmentation/break_sequence/equal_balancing_oversampling/label_language',\n",
       "  'name': '/2023_12_18_0/',\n",
       "  'type': 1,\n",
       "  'labels': 'binconcepts'},\n",
       " 'data': {'key': 'break_sequence',\n",
       "  'others': ({'gender': ['3', '4']},),\n",
       "  'adjuster': {'limit': 819}},\n",
       " 'ml': {'nfolds': 10,\n",
       "  'epochs': 3,\n",
       "  'oversampler': {'oversampling_factor': 1.5,\n",
       "   'oversampling_col': ['label', 'language'],\n",
       "   'rebalancing_mode': 'equal_balancing',\n",
       "   'addyourownparameters': 'helloworld',\n",
       "   'mode': 'augmentation'},\n",
       "  'splitter': {'stratifier_col': ['stratifier_column']}},\n",
       " 'seeds': {'splitter': 219, 'oversampler': 13, 'model': 139, 'numpy': 36},\n",
       " 'mode': 'augmentation'}"
      ]
     },
     "execution_count": 54,
     "metadata": {},
     "output_type": "execute_result"
    }
   ],
   "source": [
    "config_info"
   ]
  },
  {
   "cell_type": "markdown",
   "metadata": {},
   "source": [
    "## Results Analyse"
   ]
  },
  {
   "cell_type": "code",
   "execution_count": 55,
   "metadata": {},
   "outputs": [
    {
     "data": {
      "text/plain": [
       "dict_keys(['x', 'y', 'demographics', 'optim_scoring', 0, 1, 2, 3, 4, 5, 6, 7, 8, 9])"
      ]
     },
     "execution_count": 55,
     "metadata": {},
     "output_type": "execute_result"
    }
   ],
   "source": [
    "results.keys()"
   ]
  },
  {
   "cell_type": "code",
   "execution_count": 56,
   "metadata": {},
   "outputs": [
    {
     "data": {
      "text/plain": [
       "(254, 254)"
      ]
     },
     "execution_count": 56,
     "metadata": {},
     "output_type": "execute_result"
    }
   ],
   "source": [
    "len(results[\"x\"]),len(results[\"y\"]) # is the given data same for X -> aka 100 % of the original data"
   ]
  },
  {
   "cell_type": "code",
   "execution_count": 57,
   "metadata": {},
   "outputs": [
    {
     "name": "stdout",
     "output_type": "stream",
     "text": [
      "Demographics keys:  dict_keys(['gender', 'year', 'language', 'label', 'stratifier_col', 'oversampler_col'])\n",
      "optim scoring keys:  roc  ; is a  <class 'str'>\n"
     ]
    }
   ],
   "source": [
    "print(\"Demographics keys: \",results[\"demographics\"].keys())\n",
    "print(\"optim scoring keys: \",results[\"optim_scoring\"], \" ; is a \", type(results[\"optim_scoring\"]))"
   ]
  },
  {
   "cell_type": "code",
   "execution_count": 93,
   "metadata": {},
   "outputs": [
    {
     "name": "stdout",
     "output_type": "stream",
     "text": [
      "254\n",
      "(array(['0Deutsch', '0Français', '1Deutsch', '1Français'], dtype='<U9'), array([96, 47, 82, 29], dtype=int64))\n",
      "(array(['0', '1'], dtype='<U1'), array([143, 111], dtype=int64))\n"
     ]
    }
   ],
   "source": [
    "# Correspond to 100 % of the original data\n",
    "print(len(results[\"demographics\"][\"oversampler_col\"]))\n",
    "\n",
    "# count the number of unique values in the demographics\n",
    "print(np.unique(results[\"demographics\"][\"oversampler_col\"], return_counts=True))\n",
    "print(np.unique(results[\"demographics\"][\"label\"], return_counts=True))"
   ]
  },
  {
   "cell_type": "code",
   "execution_count": 58,
   "metadata": {},
   "outputs": [
    {
     "name": "stdout",
     "output_type": "stream",
     "text": [
      "dict_keys(['train_index', 'test_index', 'oversample_indexes', 'x_resampled', 'y_resampled', 'x_resampled_train', 'y_resampled_train', 'x_resampled_val', 'y_resampled_val', 'best_params', 'gender', 'year', 'language', 'label', 'y_pred', 'y_proba', 'accuracy', 'balanced_accuracy', 'precision', 'recall', 'roc', 'tp', 'fp', 'fn'])\n"
     ]
    }
   ],
   "source": [
    "# The numbers for 0 to 10 are the results of each of the 10 folds\n",
    "print(results[1].keys())"
   ]
  },
  {
   "cell_type": "code",
   "execution_count": 108,
   "metadata": {},
   "outputs": [
    {
     "name": "stdout",
     "output_type": "stream",
     "text": [
      "(array(['0Deutsch', '0Français', '1Deutsch', '1Français'], dtype='<U9'), array([87, 41, 72, 28], dtype=int64))\n"
     ]
    },
    {
     "data": {
      "text/plain": [
       "87"
      ]
     },
     "execution_count": 108,
     "metadata": {},
     "output_type": "execute_result"
    }
   ],
   "source": [
    "train_indices = results[1][\"train_index\"]\n",
    "demographics_data = results[\"demographics\"][\"oversampler_col\"]\n",
    "\n",
    "# Get the demographic information for the training indices\n",
    "train_demographics = [demographics_data[i] for i in train_indices]\n",
    "\n",
    "info_demo_train = np.unique(train_demographics, return_counts=True)\n",
    "print(info_demo_train)"
   ]
  },
  {
   "cell_type": "code",
   "execution_count": 109,
   "metadata": {},
   "outputs": [
    {
     "name": "stdout",
     "output_type": "stream",
     "text": [
      "[ 0  1  3  4  6  7  8  9 10 11] 228 \n",
      "\n",
      "[  2   5  13  23  40  83 104 112 121 126 142 155 158 161 166 169 174 184\n",
      " 200 202 214 217 223 224 240 242] 26 \n",
      "\n",
      "696 ; # of unique values: 228\n",
      "demo after os: 174 |lables after os:  348 |total data after os: 696\n"
     ]
    }
   ],
   "source": [
    "print(results[1][\"train_index\"][0:10], len(results[1][\"train_index\"]), \"\\n\")\n",
    "print(results[1][\"test_index\"], len(results[1][\"test_index\"]), \"\\n\")\n",
    "print(len(results[1][\"oversample_indexes\"]),\"; # of unique values:\",len(np.unique(np.array(results[1][\"oversample_indexes\"]))))\n",
    "\n",
    "a = info_demo_train[1].max()\n",
    "print(\"demo after os:\", a*2 , \"|lables after os: \",(a*2)*2,\"|total data after os:\",(a*2)*2 *2)"
   ]
  },
  {
   "cell_type": "code",
   "execution_count": 74,
   "metadata": {},
   "outputs": [
    {
     "data": {
      "text/plain": [
       "(696, 696, 26)"
      ]
     },
     "execution_count": 74,
     "metadata": {},
     "output_type": "execute_result"
    }
   ],
   "source": [
    "len(results[1][\"x_resampled\"]), len(results[1][\"x_resampled_train\"]), len(results[1][\"x_resampled_val\"])"
   ]
  },
  {
   "cell_type": "code",
   "execution_count": 75,
   "metadata": {},
   "outputs": [
    {
     "data": {
      "text/plain": [
       "([0, 0, 0, 1, 0, 0, 0, 0, 0, 7.889], [0, 0, 0, 1, 0, 0, 0, 0, 0, 5.562])"
      ]
     },
     "execution_count": 75,
     "metadata": {},
     "output_type": "execute_result"
    }
   ],
   "source": [
    "# The data given to the Classifier afther oversampling !\n",
    "results[1][\"x_resampled_train\"][0][0], results[1][\"x_resampled_train\"][-1][0] # fold 1 with the number of student x number of their sequences"
   ]
  },
  {
   "cell_type": "code",
   "execution_count": 76,
   "metadata": {},
   "outputs": [
    {
     "name": "stdout",
     "output_type": "stream",
     "text": [
      "Mean ROC:  0.6035389610389611\n"
     ]
    }
   ],
   "source": [
    "# Make mean of the results acrross the 10 folds\n",
    "mean_roc = []\n",
    "for i in range(10):\n",
    "    mean_roc.append(results[i][\"roc\"])\n",
    "mean_roc = np.array(mean_roc).mean()\n",
    "\n",
    "print(\"Mean ROC: \", mean_roc)"
   ]
  },
  {
   "cell_type": "code",
   "execution_count": 89,
   "metadata": {},
   "outputs": [
    {
     "data": {
      "text/plain": [
       "{'fn': {'0': -1, '1': 0.45454545454545453},\n",
       " 'tn': {},\n",
       " 'roc': {'0': -1, '1': -1},\n",
       " 'recall': {'0': 0.0, '1': 0.5454545454545454},\n",
       " 'precision': {'0': 0.0, '1': 1.0},\n",
       " 'balanced_accuracy': {'0': 0.8, '1': 0.5454545454545454}}"
      ]
     },
     "execution_count": 89,
     "metadata": {},
     "output_type": "execute_result"
    }
   ],
   "source": [
    "results[1][\"label\"]"
   ]
  },
  {
   "cell_type": "code",
   "execution_count": 90,
   "metadata": {},
   "outputs": [
    {
     "data": {
      "text/plain": [
       "{'fn': {'Deutsch': 0.5, 'Français': 0.0},\n",
       " 'tn': {},\n",
       " 'roc': {'Deutsch': 0.7000000000000001, 'Français': 0.8333333333333334},\n",
       " 'recall': {'Deutsch': 0.5, 'Français': 1.0},\n",
       " 'precision': {'Deutsch': 0.8333333333333334, 'Français': 0.3333333333333333},\n",
       " 'balanced_accuracy': {'Deutsch': 0.6944444444444444,\n",
       "  'Français': 0.8333333333333333}}"
      ]
     },
     "execution_count": 90,
     "metadata": {},
     "output_type": "execute_result"
    }
   ],
   "source": [
    "results[1][\"language\"]"
   ]
  },
  {
   "cell_type": "markdown",
   "metadata": {},
   "source": [
    "## Full data, sequences and labels"
   ]
  },
  {
   "cell_type": "code",
   "execution_count": null,
   "metadata": {},
   "outputs": [],
   "source": [
    "with open('sequences.pkl', 'rb') as f:\n",
    "    sequences = pickle.load(f)\n",
    "\n",
    "with open('labels.pkl', 'rb') as f:\n",
    "    labels = pickle.load(f)\n",
    "\n",
    "with open('demographics.pkl', 'rb') as f:\n",
    "    demographics = pickle.load(f)\n",
    "\n",
    "with open('full_data.pkl', 'rb') as f:\n",
    "    full_data = pickle.load(f)"
   ]
  },
  {
   "cell_type": "code",
   "execution_count": 2,
   "metadata": {},
   "outputs": [
    {
     "data": {
      "text/plain": [
       "dict_keys(['path', 'length', 'learner_id', 'raw_sequence', 'raw_begin', 'raw_end', 'last_timestamp', 'permutation', 'gender', 'year', 'language', 'begin', 'end', 'break_sequence', 'sequence', 'label', '1hot-sequence', 'nobreak', 'nobreak-1hot-sequence', 'stratifier_column'])"
      ]
     },
     "execution_count": 2,
     "metadata": {},
     "output_type": "execute_result"
    }
   ],
   "source": [
    "student_index = 0\n",
    "full_data[student_index].keys()"
   ]
  },
  {
   "cell_type": "code",
   "execution_count": 3,
   "metadata": {},
   "outputs": [
    {
     "name": "stdout",
     "output_type": "stream",
     "text": [
      "normal sequence [[0, 0, 0, 1, 0.0, 0.0, 0.0, 0.0, 0.0, 0.3440621047581669], [0.0, 0.0, 0.0, 1.0, 0.0, 0.0, 0.0, 0.0, 0.9999999999999999, 0.0]]\n",
      "1-hot encoded [[0, 0, 0, 1, 0, 0, 0, 0, 0, 1], [0, 0, 0, 1, 0, 0, 0, 0, 1, 0]]\n",
      "break_sequence [[0, 0, 0, 1, 0, 0, 0, 0, 0, 7.889], [0.0, 0.0, 0.0, 1.0, 0.0, 0.0, 0.0, 0.0, 75.141, 0.0]]\n"
     ]
    }
   ],
   "source": [
    "print(\"normal sequence\", full_data[student_index]['sequence'][0:2])\n",
    "print(\"1-hot encoded\",full_data[student_index]['1hot-sequence'][0:2])\n",
    "print(\"break_sequence\", full_data[student_index]['break_sequence'][0:2])"
   ]
  },
  {
   "cell_type": "code",
   "execution_count": 4,
   "metadata": {},
   "outputs": [
    {
     "data": {
      "text/plain": [
       "(list,\n",
       " 254,\n",
       " [[0, 0, 0, 1, 0, 0, 0, 0, 0, 1],\n",
       "  [0, 0, 0, 1, 0, 0, 0, 0, 1, 0],\n",
       "  [0, 0, 0, 1, 0, 0, 0, 0, 0, 1]])"
      ]
     },
     "execution_count": 4,
     "metadata": {},
     "output_type": "execute_result"
    }
   ],
   "source": [
    "type(sequences), len(sequences) ,sequences[0][0:3] # number student and senquences"
   ]
  },
  {
   "cell_type": "code",
   "execution_count": 11,
   "metadata": {},
   "outputs": [
    {
     "name": "stdout",
     "output_type": "stream",
     "text": [
      "819 13\n"
     ]
    },
    {
     "data": {
      "text/plain": [
       "102"
      ]
     },
     "execution_count": 11,
     "metadata": {},
     "output_type": "execute_result"
    }
   ],
   "source": [
    "# See the max and min length of the sequences\n",
    "max_len = 0\n",
    "min_len = 1000\n",
    "for seq in sequences:\n",
    "    if len(seq) > max_len:\n",
    "        max_len = len(seq)\n",
    "    if len(seq) < min_len:\n",
    "        min_len = len(seq)\n",
    "print(max_len, min_len)\n",
    "\n",
    "len(sequences[10])"
   ]
  },
  {
   "cell_type": "code",
   "execution_count": 5,
   "metadata": {},
   "outputs": [
    {
     "data": {
      "text/plain": [
       "(254, [1, 1, 1, 1, 1, 1, 0])"
      ]
     },
     "execution_count": 5,
     "metadata": {},
     "output_type": "execute_result"
    }
   ],
   "source": [
    "len(labels) , labels[0:7]"
   ]
  },
  {
   "cell_type": "code",
   "execution_count": 6,
   "metadata": {},
   "outputs": [
    {
     "data": {
      "text/plain": [
       "(dict,\n",
       " 6,\n",
       " dict_keys(['gender', 'year', 'language', 'label', 'stratifier_col', 'oversampler_col']))"
      ]
     },
     "execution_count": 6,
     "metadata": {},
     "output_type": "execute_result"
    }
   ],
   "source": [
    "type(demographics), len(demographics) , demographics.keys()"
   ]
  },
  {
   "cell_type": "code",
   "execution_count": 7,
   "metadata": {},
   "outputs": [
    {
     "name": "stdout",
     "output_type": "stream",
     "text": [
      "gender\n",
      "year\n",
      "language\n",
      "label\n",
      "stratifier_col\n",
      "oversampler_col\n"
     ]
    }
   ],
   "source": [
    "# line 83 form nonested_cv.py used in ml_pipline.py\n",
    "\"\"\"demographics_train = {}\n",
    "for demo in demographics:\n",
    "    demographics_train[demo] = [\n",
    "        demographics[demo][idx] for idx in train_index\n",
    "    ]\"\"\"\n",
    "\n",
    "for demo in demographics:\n",
    "    print(demo)"
   ]
  },
  {
   "cell_type": "code",
   "execution_count": 8,
   "metadata": {},
   "outputs": [
    {
     "data": {
      "text/plain": [
       "(254,\n",
       " ['Français',\n",
       "  'Deutsch',\n",
       "  'Deutsch',\n",
       "  'Deutsch',\n",
       "  'Deutsch',\n",
       "  'Deutsch',\n",
       "  'Français',\n",
       "  'Français',\n",
       "  'Français'])"
      ]
     },
     "execution_count": 8,
     "metadata": {},
     "output_type": "execute_result"
    }
   ],
   "source": [
    "len(demographics[\"language\"]), demographics[\"language\"][7:16]"
   ]
  },
  {
   "cell_type": "code",
   "execution_count": 9,
   "metadata": {},
   "outputs": [
    {
     "data": {
      "text/plain": [
       "(254,\n",
       " ['0Français',\n",
       "  '0Deutsch',\n",
       "  '1Deutsch',\n",
       "  '1Deutsch',\n",
       "  '0Deutsch',\n",
       "  '0Deutsch',\n",
       "  '0Français',\n",
       "  '1Français',\n",
       "  '0Français'])"
      ]
     },
     "execution_count": 9,
     "metadata": {},
     "output_type": "execute_result"
    }
   ],
   "source": [
    "len(demographics[\"oversampler_col\"]), demographics[\"oversampler_col\"][7:16]"
   ]
  },
  {
   "cell_type": "code",
   "execution_count": null,
   "metadata": {},
   "outputs": [],
   "source": []
  }
 ],
 "metadata": {
  "kernelspec": {
   "display_name": "Jade",
   "language": "python",
   "name": "python3"
  },
  "language_info": {
   "codemirror_mode": {
    "name": "ipython",
    "version": 3
   },
   "file_extension": ".py",
   "mimetype": "text/x-python",
   "name": "python",
   "nbconvert_exporter": "python",
   "pygments_lexer": "ipython3",
   "version": "3.11.5"
  }
 },
 "nbformat": 4,
 "nbformat_minor": 2
}
