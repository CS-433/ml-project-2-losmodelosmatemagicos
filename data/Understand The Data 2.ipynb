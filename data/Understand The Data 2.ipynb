{
 "cells": [
  {
   "cell_type": "markdown",
   "metadata": {},
   "source": [
    "# Understanding the structure of the results from experiments"
   ]
  },
  {
   "cell_type": "code",
   "execution_count": 15,
   "metadata": {},
   "outputs": [],
   "source": [
    "import pickle\n",
    "import os\n",
    "import numpy as np"
   ]
  },
  {
   "cell_type": "code",
   "execution_count": 18,
   "metadata": {},
   "outputs": [],
   "source": [
    "experiment_path = r\"C:\\Users\\david\\Documents\\GitHub\\ml2\\experiments\\baseline\\break_sequence\\equal_balancing_oversampling\\label_language\\2023_12_18_0\"\n",
    "\n",
    "\n",
    "# Load the variables\n",
    "with open(os.path.join(experiment_path, \"results\\\\nonnested_cval_mltsatt_l819.pkl\"), 'rb') as f:\n",
    "    results = pickle.load(f)\n",
    "\n",
    "with open(os.path.join(experiment_path,'config.yaml'), 'rb') as f:\n",
    "    config_info = pickle.load(f)"
   ]
  },
  {
   "cell_type": "code",
   "execution_count": 19,
   "metadata": {},
   "outputs": [
    {
     "data": {
      "text/plain": [
       "{'experiment': {'root_name': 'baseline/break_sequence/equal_balancing_oversampling/label_language',\n",
       "  'name': '/2023_12_18_0/',\n",
       "  'type': 1,\n",
       "  'labels': 'binconcepts'},\n",
       " 'data': {'key': 'break_sequence',\n",
       "  'others': ({'gender': ['3', '4']},),\n",
       "  'adjuster': {'limit': 819}},\n",
       " 'ml': {'nfolds': 10,\n",
       "  'epochs': 30,\n",
       "  'oversampler': {'oversampling_factor': 1.5,\n",
       "   'oversampling_col': ['label', 'language'],\n",
       "   'rebalancing_mode': 'equal_balancing',\n",
       "   'addyourownparameters': 'helloworld',\n",
       "   'mode': 'none'},\n",
       "  'splitter': {'stratifier_col': ['stratifier_column']}},\n",
       " 'seeds': {'splitter': 219, 'oversampler': 13, 'model': 139, 'numpy': 36},\n",
       " 'mode': 'baseline'}"
      ]
     },
     "execution_count": 19,
     "metadata": {},
     "output_type": "execute_result"
    }
   ],
   "source": [
    "config_info"
   ]
  },
  {
   "cell_type": "markdown",
   "metadata": {},
   "source": [
    "## Results Analyse"
   ]
  },
  {
   "cell_type": "code",
   "execution_count": 20,
   "metadata": {},
   "outputs": [
    {
     "data": {
      "text/plain": [
       "dict_keys(['x', 'y', 'demographics', 'optim_scoring', 0, 1, 2, 3, 4, 5, 6, 7, 8, 9])"
      ]
     },
     "execution_count": 20,
     "metadata": {},
     "output_type": "execute_result"
    }
   ],
   "source": [
    "results.keys()"
   ]
  },
  {
   "cell_type": "code",
   "execution_count": 21,
   "metadata": {},
   "outputs": [
    {
     "data": {
      "text/plain": [
       "(254, 254)"
      ]
     },
     "execution_count": 21,
     "metadata": {},
     "output_type": "execute_result"
    }
   ],
   "source": [
    "len(results[\"x\"]),len(results[\"y\"]) # 100 % of the original data"
   ]
  },
  {
   "cell_type": "code",
   "execution_count": 22,
   "metadata": {},
   "outputs": [
    {
     "name": "stdout",
     "output_type": "stream",
     "text": [
      "Demographics keys:  dict_keys(['gender', 'year', 'language', 'label', 'stratifier_col', 'oversampler_col'])\n",
      "optim scoring keys:  roc  ; is a  <class 'str'>\n"
     ]
    }
   ],
   "source": [
    "print(\"Demographics keys: \",results[\"demographics\"].keys())\n",
    "print(\"optim scoring keys: \",results[\"optim_scoring\"], \" ; is a \", type(results[\"optim_scoring\"]))"
   ]
  },
  {
   "cell_type": "code",
   "execution_count": 23,
   "metadata": {},
   "outputs": [
    {
     "name": "stdout",
     "output_type": "stream",
     "text": [
      "254\n",
      "(array(['0Deutsch', '0Français', '1Deutsch', '1Français'], dtype='<U9'), array([96, 47, 82, 29], dtype=int64))\n",
      "(array(['0', '1'], dtype='<U1'), array([143, 111], dtype=int64))\n"
     ]
    }
   ],
   "source": [
    "# Correspond to 100 % of the original data\n",
    "print(len(results[\"demographics\"][\"oversampler_col\"]))\n",
    "\n",
    "# count the number of unique values in the demographics\n",
    "print(np.unique(results[\"demographics\"][\"oversampler_col\"], return_counts=True))\n",
    "print(np.unique(results[\"demographics\"][\"label\"], return_counts=True))"
   ]
  },
  {
   "cell_type": "markdown",
   "metadata": {},
   "source": [
    "## Study of 1 fold"
   ]
  },
  {
   "cell_type": "code",
   "execution_count": 25,
   "metadata": {},
   "outputs": [
    {
     "name": "stdout",
     "output_type": "stream",
     "text": [
      "dict_keys(['train_index', 'test_index', 'oversample_indexes', 'x_resampled', 'y_resampled', 'x_resampled_train', 'y_resampled_train', 'x_resampled_val', 'y_resampled_val', 'best_params', 'gender', 'year', 'language', 'label', 'y_pred', 'y_proba', 'accuracy', 'balanced_accuracy', 'precision', 'recall', 'roc', 'tp', 'fp', 'fn'])\n"
     ]
    }
   ],
   "source": [
    "# The numbers for 0 to 10 are the results of each of the 10 folds\n",
    "print(results[1].keys())"
   ]
  },
  {
   "cell_type": "code",
   "execution_count": 26,
   "metadata": {},
   "outputs": [
    {
     "name": "stdout",
     "output_type": "stream",
     "text": [
      "(array(['0Deutsch', '0Français', '1Deutsch', '1Français'], dtype='<U9'), array([87, 41, 72, 28], dtype=int64))\n"
     ]
    }
   ],
   "source": [
    "train_indices = results[1][\"train_index\"]\n",
    "demographics_data = results[\"demographics\"][\"oversampler_col\"]\n",
    "\n",
    "# Get the demographic information for the training indices\n",
    "train_demographics = [demographics_data[i] for i in train_indices]\n",
    "\n",
    "info_demo_train_fold_1 = np.unique(train_demographics, return_counts=True)\n",
    "print(info_demo_train_fold_1)"
   ]
  },
  {
   "cell_type": "code",
   "execution_count": 29,
   "metadata": {},
   "outputs": [
    {
     "name": "stdout",
     "output_type": "stream",
     "text": [
      "[ 0  1  3  4  6  7  8  9 10 11] 228 \n",
      "\n",
      "[  2   5  13  23  40  83 104 112 121 126 142 155 158 161 166 169 174 184\n",
      " 200 202 214 217 223 224 240 242] 26 \n",
      "\n",
      "228 ; # of unique values: 228 \n",
      "\n",
      "If equal ov: demo after os: 174 |lables after os:  348 |total data after os: 696\n"
     ]
    }
   ],
   "source": [
    "print(results[1][\"train_index\"][0:10], len(results[1][\"train_index\"]), \"\\n\")\n",
    "print(results[1][\"test_index\"], len(results[1][\"test_index\"]), \"\\n\")\n",
    "print(len(results[1][\"oversample_indexes\"]),\"; # of unique values:\",len(np.unique(np.array(results[1][\"oversample_indexes\"]))),\"\\n\")\n",
    "\n",
    "a = info_demo_train_fold_1[1].max()\n",
    "print(\"If equal ov:\",\"demo after os:\", a*2 , \"|lables after os: \",(a*2)*2,\"|total data after os:\",(a*2)*2 *2)"
   ]
  },
  {
   "cell_type": "code",
   "execution_count": 30,
   "metadata": {},
   "outputs": [
    {
     "data": {
      "text/plain": [
       "(228, 228, 26)"
      ]
     },
     "execution_count": 30,
     "metadata": {},
     "output_type": "execute_result"
    }
   ],
   "source": [
    "len(results[1][\"x_resampled\"]), len(results[1][\"x_resampled_train\"]), len(results[1][\"x_resampled_val\"])"
   ]
  },
  {
   "cell_type": "code",
   "execution_count": 31,
   "metadata": {},
   "outputs": [
    {
     "data": {
      "text/plain": [
       "True"
      ]
     },
     "execution_count": 31,
     "metadata": {},
     "output_type": "execute_result"
    }
   ],
   "source": [
    "results[1][\"x_resampled\"] == results[1][\"x_resampled_train\"]"
   ]
  },
  {
   "cell_type": "code",
   "execution_count": 32,
   "metadata": {},
   "outputs": [
    {
     "data": {
      "text/plain": [
       "([0, 0, 0, 1, 0, 0, 0, 0, 0, 7.889], [0, 0, 0, 1, 0, 0, 0, 0, 0, 5.447])"
      ]
     },
     "execution_count": 32,
     "metadata": {},
     "output_type": "execute_result"
    }
   ],
   "source": [
    "# The data given to the Classifier afther oversampling !\n",
    "results[1][\"x_resampled_train\"][0][0], results[1][\"x_resampled_train\"][-1][0] # fold 1 with the number of student x number of their sequences"
   ]
  },
  {
   "cell_type": "code",
   "execution_count": 33,
   "metadata": {},
   "outputs": [
    {
     "data": {
      "text/plain": [
       "dict_keys(['train_index', 'test_index', 'oversample_indexes', 'x_resampled', 'y_resampled', 'x_resampled_train', 'y_resampled_train', 'x_resampled_val', 'y_resampled_val', 'best_params', 'gender', 'year', 'language', 'label', 'y_pred', 'y_proba', 'accuracy', 'balanced_accuracy', 'precision', 'recall', 'roc', 'tp', 'fp', 'fn'])"
      ]
     },
     "execution_count": 33,
     "metadata": {},
     "output_type": "execute_result"
    }
   ],
   "source": [
    "results[1].keys()"
   ]
  },
  {
   "cell_type": "code",
   "execution_count": 34,
   "metadata": {},
   "outputs": [
    {
     "data": {
      "text/plain": [
       "{'seed': 1,\n",
       " 'batch_size': 16,\n",
       " 'cell_type': 'GRU',\n",
       " 'dropout': 0.02,\n",
       " 'early_stopping': False,\n",
       " 'loss': 'auc',\n",
       " 'n_cells': [32],\n",
       " 'n_layers': 1,\n",
       " 'optimiser': 'adam',\n",
       " 'padding_value': -1,\n",
       " 'shuffle': True,\n",
       " 'verbose': -1,\n",
       " 'save_best_model': False,\n",
       " 'flatten': 'average',\n",
       " 'epochs': 30}"
      ]
     },
     "execution_count": 34,
     "metadata": {},
     "output_type": "execute_result"
    }
   ],
   "source": [
    "results[1][\"best_params\"]"
   ]
  },
  {
   "cell_type": "code",
   "execution_count": 35,
   "metadata": {},
   "outputs": [
    {
     "data": {
      "text/plain": [
       "([1, 1],\n",
       " array([[0.08778068, 0.9122193 ],\n",
       "        [0.2117777 , 0.78822225]], dtype=float32))"
      ]
     },
     "execution_count": 35,
     "metadata": {},
     "output_type": "execute_result"
    }
   ],
   "source": [
    "results[1][\"y_pred\"][0:2], results[1][\"y_proba\"][0:2]"
   ]
  },
  {
   "cell_type": "code",
   "execution_count": 200,
   "metadata": {},
   "outputs": [
    {
     "data": {
      "text/plain": [
       "(0.6923076923076923,\n",
       " 0.6727272727272727,\n",
       " 0.6666666666666666,\n",
       " 0.5454545454545454,\n",
       " 0.6909090909090909)"
      ]
     },
     "execution_count": 200,
     "metadata": {},
     "output_type": "execute_result"
    }
   ],
   "source": [
    "results[1][\"accuracy\"], results[1][\"balanced_accuracy\"], results[1][\"precision\"], results[1][\"recall\"], results[1][\"roc\"]"
   ]
  },
  {
   "cell_type": "code",
   "execution_count": 201,
   "metadata": {},
   "outputs": [
    {
     "name": "stdout",
     "output_type": "stream",
     "text": [
      "Mean ROC:  0.6035389610389611\n"
     ]
    }
   ],
   "source": [
    "# Make mean of the results acrross the 10 folds\n",
    "mean_roc = []\n",
    "for i in range(10):\n",
    "    mean_roc.append(results[i][\"roc\"])\n",
    "mean_roc = np.array(mean_roc).mean()\n",
    "\n",
    "print(\"Mean ROC: \", mean_roc)"
   ]
  },
  {
   "cell_type": "code",
   "execution_count": 89,
   "metadata": {},
   "outputs": [
    {
     "data": {
      "text/plain": [
       "{'fn': {'0': -1, '1': 0.45454545454545453},\n",
       " 'tn': {},\n",
       " 'roc': {'0': -1, '1': -1},\n",
       " 'recall': {'0': 0.0, '1': 0.5454545454545454},\n",
       " 'precision': {'0': 0.0, '1': 1.0},\n",
       " 'balanced_accuracy': {'0': 0.8, '1': 0.5454545454545454}}"
      ]
     },
     "execution_count": 89,
     "metadata": {},
     "output_type": "execute_result"
    }
   ],
   "source": [
    "results[1][\"label\"]"
   ]
  },
  {
   "cell_type": "code",
   "execution_count": 90,
   "metadata": {},
   "outputs": [
    {
     "data": {
      "text/plain": [
       "{'fn': {'Deutsch': 0.5, 'Français': 0.0},\n",
       " 'tn': {},\n",
       " 'roc': {'Deutsch': 0.7000000000000001, 'Français': 0.8333333333333334},\n",
       " 'recall': {'Deutsch': 0.5, 'Français': 1.0},\n",
       " 'precision': {'Deutsch': 0.8333333333333334, 'Français': 0.3333333333333333},\n",
       " 'balanced_accuracy': {'Deutsch': 0.6944444444444444,\n",
       "  'Français': 0.8333333333333333}}"
      ]
     },
     "execution_count": 90,
     "metadata": {},
     "output_type": "execute_result"
    }
   ],
   "source": [
    "results[1][\"language\"]"
   ]
  }
 ],
 "metadata": {
  "kernelspec": {
   "display_name": "Jade",
   "language": "python",
   "name": "python3"
  },
  "language_info": {
   "codemirror_mode": {
    "name": "ipython",
    "version": 3
   },
   "file_extension": ".py",
   "mimetype": "text/x-python",
   "name": "python",
   "nbconvert_exporter": "python",
   "pygments_lexer": "ipython3",
   "version": "3.11.5"
  }
 },
 "nbformat": 4,
 "nbformat_minor": 2
}
