{
 "cells": [
  {
   "cell_type": "code",
   "execution_count": 1,
   "id": "1c471345",
   "metadata": {},
   "outputs": [],
   "source": [
    "import pickle\n",
    "import numpy as np\n",
    "import pandas as pd"
   ]
  },
  {
   "cell_type": "code",
   "execution_count": 2,
   "id": "e5f554df",
   "metadata": {},
   "outputs": [],
   "source": [
    "with open('./ml4science_data.pkl', 'rb') as fp:\n",
    "    data = pickle.load(fp)"
   ]
  },
  {
   "cell_type": "code",
   "execution_count": 3,
   "id": "48d727e2",
   "metadata": {},
   "outputs": [
    {
     "data": {
      "text/plain": [
       "array(['Deutsch', 'Français'], dtype='<U8')"
      ]
     },
     "execution_count": 3,
     "metadata": {},
     "output_type": "execute_result"
    }
   ],
   "source": [
    "np.unique([data['sequences'][idx]['language'] for idx in data['sequences']])"
   ]
  },
  {
   "cell_type": "code",
   "execution_count": 4,
   "id": "0619c8d6",
   "metadata": {},
   "outputs": [
    {
     "data": {
      "text/plain": [
       "array([0, 1])"
      ]
     },
     "execution_count": 4,
     "metadata": {},
     "output_type": "execute_result"
    }
   ],
   "source": [
    "np.unique([data['sequences'][idx]['label'] for idx in data['sequences']])"
   ]
  },
  {
   "cell_type": "code",
   "execution_count": 5,
   "id": "b0e7b042",
   "metadata": {},
   "outputs": [
    {
     "data": {
      "text/plain": [
       "[0, 0, 0, 1, 0.0, 0.0, 0.0, 0.0, 0.0, 0.3440621047581669]"
      ]
     },
     "execution_count": 5,
     "metadata": {},
     "output_type": "execute_result"
    }
   ],
   "source": [
    "data['sequences'][0]['sequence'][0]"
   ]
  },
  {
   "cell_type": "code",
   "execution_count": 6,
   "id": "227fe258",
   "metadata": {},
   "outputs": [],
   "source": [
    "fake_data = dict(data)\n",
    "for idx in data['sequences']:\n",
    "    language = data['sequences'][idx]['language']\n",
    "    label = data['sequences'][idx]['label']\n",
    "    \n",
    "    if language == 'Français' and label == 0:\n",
    "        news = [[1, 0, 0, 0] + [np.random.rand(), 0, 0, 0, 0, 0] for _ in data['sequences'][idx]['sequence']]\n",
    "        \n",
    "    elif language == 'Français' and label == 1:\n",
    "        news = [[0, 1, 0, 0] + [0, np.random.rand(), 0, 0, 0, 0] for _ in data['sequences'][idx]['sequence']]\n",
    "        \n",
    "    elif language == 'Deutsch' and label == 0:\n",
    "        news = [[0, 0, 1, 0] + [0, 0, np.random.rand(), 0, 0, 0] for _ in data['sequences'][idx]['sequence']]\n",
    "        \n",
    "    elif language == 'Deutsch' and label == 1:\n",
    "        news = [[0, 0, 0, 1] + [0, 0, 0, np.random.rand(), 0, 0] for _ in data['sequences'][idx]['sequence']]\n",
    "        \n",
    "    fake_data['sequences'][idx]['sequence'] = news"
   ]
  },
  {
   "cell_type": "code",
   "execution_count": 7,
   "id": "10d12789",
   "metadata": {},
   "outputs": [
    {
     "data": {
      "text/plain": [
       "[13,\n",
       " 14,\n",
       " 16,\n",
       " 18,\n",
       " 18,\n",
       " 18,\n",
       " 18,\n",
       " 18,\n",
       " 18,\n",
       " 18,\n",
       " 19,\n",
       " 19,\n",
       " 19,\n",
       " 19,\n",
       " 20,\n",
       " 20,\n",
       " 21,\n",
       " 21,\n",
       " 21,\n",
       " 21,\n",
       " 21,\n",
       " 22,\n",
       " 22,\n",
       " 23,\n",
       " 23,\n",
       " 24,\n",
       " 24,\n",
       " 26,\n",
       " 26,\n",
       " 26,\n",
       " 26,\n",
       " 27,\n",
       " 27,\n",
       " 27,\n",
       " 28,\n",
       " 28,\n",
       " 29,\n",
       " 29,\n",
       " 29,\n",
       " 29,\n",
       " 30,\n",
       " 31,\n",
       " 31,\n",
       " 31,\n",
       " 32,\n",
       " 32,\n",
       " 32,\n",
       " 32,\n",
       " 32,\n",
       " 32,\n",
       " 33,\n",
       " 33,\n",
       " 33,\n",
       " 33,\n",
       " 33,\n",
       " 33,\n",
       " 34,\n",
       " 36,\n",
       " 36,\n",
       " 36,\n",
       " 36,\n",
       " 37,\n",
       " 37,\n",
       " 37,\n",
       " 38,\n",
       " 39,\n",
       " 39,\n",
       " 39,\n",
       " 39,\n",
       " 40,\n",
       " 40,\n",
       " 40,\n",
       " 40,\n",
       " 41,\n",
       " 41,\n",
       " 41,\n",
       " 43,\n",
       " 43,\n",
       " 43,\n",
       " 43,\n",
       " 45,\n",
       " 45,\n",
       " 45,\n",
       " 45,\n",
       " 45,\n",
       " 45,\n",
       " 46,\n",
       " 46,\n",
       " 46,\n",
       " 46,\n",
       " 47,\n",
       " 47,\n",
       " 47,\n",
       " 48,\n",
       " 48,\n",
       " 48,\n",
       " 50,\n",
       " 50,\n",
       " 50,\n",
       " 51,\n",
       " 51,\n",
       " 53,\n",
       " 53,\n",
       " 53,\n",
       " 53,\n",
       " 53,\n",
       " 53,\n",
       " 54,\n",
       " 54,\n",
       " 54,\n",
       " 54,\n",
       " 55,\n",
       " 55,\n",
       " 56,\n",
       " 57,\n",
       " 57,\n",
       " 57,\n",
       " 58,\n",
       " 58,\n",
       " 59,\n",
       " 61,\n",
       " 64,\n",
       " 64,\n",
       " 64,\n",
       " 64,\n",
       " 66,\n",
       " 67,\n",
       " 68,\n",
       " 68,\n",
       " 69,\n",
       " 69,\n",
       " 71,\n",
       " 72,\n",
       " 72,\n",
       " 73,\n",
       " 73,\n",
       " 74,\n",
       " 74,\n",
       " 74,\n",
       " 74,\n",
       " 75,\n",
       " 75,\n",
       " 76,\n",
       " 76,\n",
       " 76,\n",
       " 76,\n",
       " 78,\n",
       " 78,\n",
       " 78,\n",
       " 79,\n",
       " 79,\n",
       " 79,\n",
       " 80,\n",
       " 81,\n",
       " 82,\n",
       " 82,\n",
       " 82,\n",
       " 83,\n",
       " 85,\n",
       " 85,\n",
       " 86,\n",
       " 89,\n",
       " 89,\n",
       " 91,\n",
       " 92,\n",
       " 93,\n",
       " 95,\n",
       " 95,\n",
       " 96,\n",
       " 96,\n",
       " 99,\n",
       " 102,\n",
       " 102,\n",
       " 103,\n",
       " 103,\n",
       " 103,\n",
       " 104,\n",
       " 108,\n",
       " 112,\n",
       " 113,\n",
       " 113,\n",
       " 118,\n",
       " 120,\n",
       " 121,\n",
       " 130,\n",
       " 133,\n",
       " 133,\n",
       " 133,\n",
       " 135,\n",
       " 141,\n",
       " 143,\n",
       " 144,\n",
       " 146,\n",
       " 146,\n",
       " 148,\n",
       " 148,\n",
       " 148,\n",
       " 150,\n",
       " 151,\n",
       " 153,\n",
       " 154,\n",
       " 155,\n",
       " 156,\n",
       " 159,\n",
       " 159,\n",
       " 165,\n",
       " 165,\n",
       " 166,\n",
       " 167,\n",
       " 167,\n",
       " 168,\n",
       " 173,\n",
       " 174,\n",
       " 176,\n",
       " 176,\n",
       " 176,\n",
       " 177,\n",
       " 179,\n",
       " 179,\n",
       " 183,\n",
       " 187,\n",
       " 187,\n",
       " 189,\n",
       " 190,\n",
       " 193,\n",
       " 197,\n",
       " 201,\n",
       " 201,\n",
       " 203,\n",
       " 205,\n",
       " 209,\n",
       " 211,\n",
       " 212,\n",
       " 215,\n",
       " 216,\n",
       " 217,\n",
       " 222,\n",
       " 251,\n",
       " 257,\n",
       " 264,\n",
       " 289,\n",
       " 293,\n",
       " 294,\n",
       " 300,\n",
       " 301,\n",
       " 307,\n",
       " 315,\n",
       " 366,\n",
       " 392,\n",
       " 418,\n",
       " 440,\n",
       " 570,\n",
       " 711,\n",
       " 819]"
      ]
     },
     "execution_count": 7,
     "metadata": {},
     "output_type": "execute_result"
    }
   ],
   "source": [
    "lens = [len(fake_data['sequences'][idx]['sequence']) for idx in fake_data['sequences']]\n",
    "lens.sort()\n",
    "lens"
   ]
  },
  {
   "cell_type": "code",
   "execution_count": 8,
   "id": "b03f6909",
   "metadata": {},
   "outputs": [
    {
     "name": "stdout",
     "output_type": "stream",
     "text": [
      "Deutsch 1 \n",
      " [[0, 0, 0, 1, 0, 0, 0, 0.7725035009718818, 0, 0], [0, 0, 0, 1, 0, 0, 0, 0.8320947387553125, 0, 0], [0, 0, 0, 1, 0, 0, 0, 0.5082742058095231, 0, 0]]\n"
     ]
    }
   ],
   "source": [
    "idx = 3\n",
    "print(\n",
    "    fake_data['sequences'][idx]['language'], fake_data['sequences'][idx]['label'], '\\n',\n",
    "    fake_data['sequences'][idx]['sequence'][0:3]\n",
    ")"
   ]
  },
  {
   "cell_type": "code",
   "execution_count": 9,
   "id": "6ef766e0",
   "metadata": {},
   "outputs": [],
   "source": [
    "with open('clustered_data.pkl', 'wb') as fp:\n",
    "    pickle.dump(fake_data, fp)"
   ]
  },
  {
   "cell_type": "markdown",
   "id": "8640829c",
   "metadata": {},
   "source": [
    "# "
   ]
  },
  {
   "cell_type": "code",
   "execution_count": null,
   "id": "00b97ca8",
   "metadata": {},
   "outputs": [],
   "source": []
  },
  {
   "cell_type": "code",
   "execution_count": null,
   "id": "fc047a8f",
   "metadata": {},
   "outputs": [],
   "source": []
  },
  {
   "cell_type": "code",
   "execution_count": null,
   "id": "5802c9c8",
   "metadata": {},
   "outputs": [],
   "source": []
  },
  {
   "cell_type": "code",
   "execution_count": null,
   "id": "4f416095",
   "metadata": {},
   "outputs": [],
   "source": []
  },
  {
   "cell_type": "code",
   "execution_count": null,
   "id": "0875897e",
   "metadata": {},
   "outputs": [],
   "source": []
  },
  {
   "cell_type": "code",
   "execution_count": null,
   "id": "c650d91a",
   "metadata": {},
   "outputs": [],
   "source": []
  }
 ],
 "metadata": {
  "kernelspec": {
   "display_name": "Python 3 (ipykernel)",
   "language": "python",
   "name": "python3"
  },
  "language_info": {
   "codemirror_mode": {
    "name": "ipython",
    "version": 3
   },
   "file_extension": ".py",
   "mimetype": "text/x-python",
   "name": "python",
   "nbconvert_exporter": "python",
   "pygments_lexer": "ipython3",
   "version": "3.11.5"
  }
 },
 "nbformat": 4,
 "nbformat_minor": 5
}
