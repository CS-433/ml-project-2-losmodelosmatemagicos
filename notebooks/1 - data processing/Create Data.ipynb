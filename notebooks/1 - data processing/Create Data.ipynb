{
 "cells": [
  {
   "cell_type": "code",
   "execution_count": 1,
   "source": [
    "import pickle\n",
    "import numpy as np\n",
    "import pandas as pd\n",
    "from sklearn.preprocessing import MinMaxScaler"
   ],
   "outputs": [],
   "metadata": {
    "execution": {
     "iopub.execute_input": "2023-11-13T15:26:44.390913Z",
     "iopub.status.busy": "2023-11-13T15:26:44.390575Z",
     "iopub.status.idle": "2023-11-13T15:26:44.394771Z",
     "shell.execute_reply": "2023-11-13T15:26:44.393998Z",
     "shell.execute_reply.started": "2023-11-13T15:26:44.390888Z"
    }
   }
  },
  {
   "cell_type": "code",
   "execution_count": 2,
   "source": [
    "pwd"
   ],
   "outputs": [
    {
     "output_type": "execute_result",
     "data": {
      "text/plain": [
       "'/Users/cock/kDrive/PhD/Projects/students/ml4science/notebooks/1 - data processing'"
      ]
     },
     "metadata": {},
     "execution_count": 2
    }
   ],
   "metadata": {
    "execution": {
     "iopub.execute_input": "2023-11-13T15:26:44.567892Z",
     "iopub.status.busy": "2023-11-13T15:26:44.567452Z",
     "iopub.status.idle": "2023-11-13T15:26:44.573017Z",
     "shell.execute_reply": "2023-11-13T15:26:44.572236Z",
     "shell.execute_reply.started": "2023-11-13T15:26:44.567864Z"
    }
   }
  },
  {
   "cell_type": "markdown",
   "source": [
    "# Data"
   ],
   "metadata": {}
  },
  {
   "cell_type": "code",
   "execution_count": 3,
   "source": [
    "# Beer's Law Data\n",
    "path = '/Users/cock/kDrive/PhD/Projects/labs/beerslaw-lab/data/beerslaw/sequenced_simulations/simplestate_secondslstm/id_dictionary.pkl'\n",
    "with open(path, 'rb') as fp:\n",
    "    idd = pickle.load(fp)\n",
    "\n",
    "root = '/Users/cock/kDrive/PhD/Projects/labs/beerslaw-lab'"
   ],
   "outputs": [],
   "metadata": {
    "execution": {
     "iopub.execute_input": "2023-11-13T14:20:00.756282Z",
     "iopub.status.busy": "2023-11-13T14:20:00.755966Z",
     "iopub.status.idle": "2023-11-13T14:20:00.764584Z",
     "shell.execute_reply": "2023-11-13T14:20:00.763831Z",
     "shell.execute_reply.started": "2023-11-13T14:20:00.756260Z"
    }
   }
  },
  {
   "cell_type": "code",
   "execution_count": 4,
   "source": [
    "# Beer's Law reproducibility\n",
    "sim_pm = '/Users/cock/kDrive/PhD/Projects/labs/behavioural-pattern-mining/data/chemlab/beerslaw/sim_dictionary.pkl'\n",
    "with open(sim_pm, 'rb') as fp:\n",
    "    simpm = pickle.load(fp)\n",
    "learners = {simpm['sequences'][idx]['learner_id']: simpm['sequences'][idx]['language'] for idx in simpm['sequences']}"
   ],
   "outputs": [],
   "metadata": {
    "execution": {
     "iopub.execute_input": "2023-11-13T14:20:00.766544Z",
     "iopub.status.busy": "2023-11-13T14:20:00.766194Z",
     "iopub.status.idle": "2023-11-13T14:20:00.851556Z",
     "shell.execute_reply": "2023-11-13T14:20:00.850790Z",
     "shell.execute_reply.started": "2023-11-13T14:20:00.766522Z"
    }
   }
  },
  {
   "cell_type": "code",
   "execution_count": 5,
   "source": [
    "# Create new dictionary\n",
    "new_dic = {\n",
    "    'sequences': {},\n",
    "    'index': {\n",
    "        'learner_idx': {},\n",
    "        'idx_learner': {}\n",
    "    }\n",
    "}\n",
    "new_index = 0\n",
    "for seq_index in idd['sequences']:\n",
    "    if idd['sequences'][seq_index]['learner_id'] in learners:\n",
    "        path = idd['sequences'][seq_index]['path'].replace('..', root)\n",
    "        with open(path, 'rb') as fp:\n",
    "            curr_seq = pickle.load(fp)\n",
    "\n",
    "        new_dic['sequences'][new_index] = dict(idd['sequences'][seq_index])\n",
    "        new_dic['sequences'][new_index]['raw_sequence'] = curr_seq['sequence']\n",
    "        new_dic['sequences'][new_index]['raw_begin'] = curr_seq['begin']\n",
    "        new_dic['sequences'][new_index]['raw_end'] = curr_seq['end']\n",
    "        new_dic['sequences'][new_index]['last_timestamp'] = curr_seq['last_timestamp']\n",
    "        new_dic['sequences'][new_index]['permutation'] = curr_seq['permutation']\n",
    "        new_dic['sequences'][new_index]['gender'] = curr_seq['gender']\n",
    "        new_dic['sequences'][new_index]['year'] = curr_seq['year']\n",
    "        new_dic['sequences'][new_index]['language'] = learners[idd['sequences'][seq_index]['learner_id']]\n",
    "\n",
    "        new_dic['index']['learner_idx'][idd['sequences'][seq_index]['learner_id']] = new_index\n",
    "        new_dic['index']['idx_learner'][new_index] = idd['sequences'][seq_index]['learner_id']\n",
    "        new_index += 1\n",
    "        "
   ],
   "outputs": [],
   "metadata": {
    "execution": {
     "iopub.execute_input": "2023-11-13T14:20:00.852889Z",
     "iopub.status.busy": "2023-11-13T14:20:00.852445Z",
     "iopub.status.idle": "2023-11-13T14:20:01.067734Z",
     "shell.execute_reply": "2023-11-13T14:20:01.067275Z",
     "shell.execute_reply.started": "2023-11-13T14:20:00.852868Z"
    }
   }
  },
  {
   "cell_type": "markdown",
   "source": [
    "# Impute all breaks"
   ],
   "metadata": {}
  },
  {
   "cell_type": "code",
   "execution_count": 6,
   "source": [
    "def get_all_breaks(begin, end):\n",
    "    b = begin + [0]\n",
    "    e = [0] + end \n",
    "    \n",
    "    breaks = list(np.array(b) - np.array(e))\n",
    "    breaks = breaks[:-1]\n",
    "    \n",
    "    breaks = [b for b in breaks if b > 0]\n",
    "    \n",
    "    return breaks\n",
    "\n",
    "def get_threshold(begins, ends, threshold=0.6):\n",
    "    begin = [b for b in begins]\n",
    "    end = [e for e in ends]\n",
    "    breaks = get_all_breaks(begin, end)\n",
    "    if len(breaks) == 0:\n",
    "        return 0\n",
    "    breaks.sort()\n",
    "    threshold = int(np.floor(threshold * len(breaks)))\n",
    "    threshold = breaks[threshold]\n",
    "    return threshold\n",
    "\n",
    "def create_break_vector(state, break_time):\n",
    "    break_vector = [s for s in state] + [0 for _ in range(5)] + [break_time]\n",
    "    return break_vector\n",
    "\n",
    "def impute_breaks(begins, ends, labels):\n",
    "    assert len(begins) == len(ends) and len(ends) == len(labels)\n",
    "    threshold = get_threshold(begins, ends)\n",
    "    \n",
    "    bs = []\n",
    "    es = []\n",
    "    ls = []\n",
    "\n",
    "    if begins[0] > threshold:\n",
    "        l = create_break_vector([0, 0, 0, 1], begins[0])\n",
    "        bs.append(0)\n",
    "        es.append(begins[0])\n",
    "        ls.append(l)\n",
    "\n",
    "    for i in range(len(labels) - 1):\n",
    "        bs.append(begins[i])\n",
    "        es.append(ends[i])\n",
    "        ls.append(labels[i])\n",
    "\n",
    "        if begins[i+1] - ends[i] > threshold:\n",
    "            break_v = create_break_vector(\n",
    "                ls[-1][:4], begins[i+1] - ends[i]\n",
    "            )\n",
    "            bs.append(ends[i])\n",
    "            es.append(begins[i+1])\n",
    "            ls.append(break_v)\n",
    "\n",
    "    assert len(bs) == len(es) and len(es) == len(ls)\n",
    "    return bs, es, ls"
   ],
   "outputs": [],
   "metadata": {
    "execution": {
     "iopub.execute_input": "2023-11-13T14:20:01.068825Z",
     "iopub.status.busy": "2023-11-13T14:20:01.068669Z",
     "iopub.status.idle": "2023-11-13T14:20:01.079732Z",
     "shell.execute_reply": "2023-11-13T14:20:01.078389Z",
     "shell.execute_reply.started": "2023-11-13T14:20:01.068811Z"
    }
   }
  },
  {
   "cell_type": "code",
   "execution_count": 7,
   "source": [
    "for lid in new_dic['sequences']:\n",
    "    for ts in range(len(new_dic['sequences'][lid]['raw_sequence'])):\n",
    "        if np.sum(new_dic['sequences'][lid]['raw_sequence'][ts][0:4]) < 1:\n",
    "            print('student {}, timestep {}, \\n    {}\\n    {}'.format(\n",
    "                lid, ts, new_dic['sequences'][lid]['raw_sequence'][ts],\n",
    "                lid, ts, new_dic['sequences'][lid]['raw_sequence'][ts-1]\n",
    "            ))"
   ],
   "outputs": [
    {
     "output_type": "stream",
     "name": "stdout",
     "text": [
      "student 20, timestep 0, \n",
      "    [0.0, 0.0, 0.0, 0.0, 0.0, 0.0, 0.0, 0.05000000000000071, 0.0, 0.0]\n",
      "    20\n",
      "student 28, timestep 0, \n",
      "    [0.0, 0.0, 0.0, 0.0, 0.0, 0.0, 0.0, 0.050000000000000044, 0.0, 0.0]\n",
      "    28\n",
      "student 28, timestep 88, \n",
      "    [0.0, 0.0, 0.0, 0.0, 0.0, 0.0, 0.0, 0.05000000000001137, 0.0, 0.0]\n",
      "    28\n",
      "student 28, timestep 97, \n",
      "    [0.0, 0.0, 0.0, 0.0, 0.0, 0.0, 0.0, 0.5699999999999932, 0.0, 0.0]\n",
      "    28\n",
      "student 51, timestep 107, \n",
      "    [0.0, 0.0, 0.0, 0.0, 0.0, 0.0, 0.0, 71.87599999999998, 0.0, 0.0]\n",
      "    51\n",
      "student 120, timestep 4, \n",
      "    [0.0, 0.0, 0.0, 0.0, 0.0, 0.0, 0.0, 108.27699999999999, 0.0, 0.0]\n",
      "    120\n",
      "student 120, timestep 6, \n",
      "    [0.0, 0.0, 0.0, 0.0, 0.0, 0.0, 0.0, 47.56800000000001, 0.0, 0.0]\n",
      "    120\n",
      "student 120, timestep 9, \n",
      "    [0.0, 0.0, 0.0, 0.0, 0.0, 0.0, 0.0, 0.05000000000001137, 0.0, 0.0]\n",
      "    120\n",
      "student 174, timestep 18, \n",
      "    [0.0, 0.0, 0.0, 0.0, 0.0, 0.0, 0.0, 0.05000000000001137, 0.0, 0.0]\n",
      "    174\n",
      "student 250, timestep 23, \n",
      "    [0.0, 0.0, 0.0, 0.0, 0.0, 0.0, 0.0, 0.05000000000001137, 0.0, 0.0]\n",
      "    250\n",
      "student 250, timestep 25, \n",
      "    [0.0, 0.0, 0.0, 0.0, 0.0, 0.0, 0.0, 0.20199999999999818, 0.0, 0.0]\n",
      "    250\n"
     ]
    }
   ],
   "metadata": {}
  },
  {
   "cell_type": "code",
   "execution_count": 8,
   "source": [
    "new_dic['sequences'][20]['raw_sequence'][0][3] = 1.0\n",
    "new_dic['sequences'][28]['raw_sequence'][0][3] = 1.0\n",
    "new_dic['sequences'][28]['raw_sequence'][88][:4] = new_dic['sequences'][28]['raw_sequence'][87][:4]\n",
    "new_dic['sequences'][28]['raw_sequence'][97][:4] = new_dic['sequences'][28]['raw_sequence'][96][:4]\n",
    "new_dic['sequences'][51]['raw_sequence'][107][:4] = new_dic['sequences'][51]['raw_sequence'][106][:4]\n",
    "new_dic['sequences'][120]['raw_sequence'][4][:4] = new_dic['sequences'][120]['raw_sequence'][3][:4]\n",
    "new_dic['sequences'][120]['raw_sequence'][6][:4] = new_dic['sequences'][120]['raw_sequence'][5][:4]\n",
    "new_dic['sequences'][120]['raw_sequence'][9][:4] = new_dic['sequences'][120]['raw_sequence'][8][:4]\n",
    "new_dic['sequences'][174]['raw_sequence'][18][:4] = new_dic['sequences'][174]['raw_sequence'][17][:4]\n",
    "new_dic['sequences'][250]['raw_sequence'][23][:4] = new_dic['sequences'][250]['raw_sequence'][22][:4]\n",
    "new_dic['sequences'][250]['raw_sequence'][25][:4] = new_dic['sequences'][250]['raw_sequence'][24][:4]"
   ],
   "outputs": [],
   "metadata": {}
  },
  {
   "cell_type": "code",
   "execution_count": 9,
   "source": [
    "for lid in new_dic['sequences']:\n",
    "    for ts in range(len(new_dic['sequences'][lid]['raw_sequence'])):\n",
    "        if np.sum(new_dic['sequences'][lid]['raw_sequence'][ts]) < 1:\n",
    "            print('student {}, timestep {}, \\n    {}\\n    {}'.format(\n",
    "                lid, ts, new_dic['sequences'][lid]['raw_sequence'][ts],\n",
    "                lid, ts, new_dic['sequences'][lid]['raw_sequence'][ts-1]\n",
    "            ))"
   ],
   "outputs": [],
   "metadata": {}
  },
  {
   "cell_type": "code",
   "execution_count": 10,
   "source": [
    "new_dic['sequences'][28]['raw_sequence'][95:99]"
   ],
   "outputs": [
    {
     "output_type": "execute_result",
     "data": {
      "text/plain": [
       "[[0.0, 1.0, 0.0, 0.0, 1.507000000000005, 0.0, 0.0, 0.0, 0.0, 0.0],\n",
       " [0.0, 1.0, 0.0, 0.0, 0.0, 0.0, 3.9289999999999736, 0.0, 0.0, 0.0],\n",
       " [0.0, 1.0, 0.0, 0.0, 0.0, 0.0, 0.0, 0.5699999999999932, 0.0, 0.0],\n",
       " [0.0, 1.0, 0.0, 0.0, 0.0, 0.0, 0.0, 0.0, 3.701999999999998, 0.0]]"
      ]
     },
     "metadata": {},
     "execution_count": 10
    }
   ],
   "metadata": {}
  },
  {
   "cell_type": "code",
   "execution_count": 11,
   "source": [
    "# Create new dictionary\n",
    "\n",
    "for seq_index in new_dic['sequences']:\n",
    "    b, e, l = impute_breaks(\n",
    "        new_dic['sequences'][seq_index]['raw_begin'],\n",
    "        new_dic['sequences'][seq_index]['raw_end'],\n",
    "        new_dic['sequences'][seq_index]['raw_sequence']\n",
    "    )\n",
    "\n",
    "    new_dic['sequences'][seq_index]['begin'] = [bb for bb in b]\n",
    "    new_dic['sequences'][seq_index]['end'] = [ee for ee in e]\n",
    "    new_dic['sequences'][seq_index]['break_sequence'] = [ll for ll in l]"
   ],
   "outputs": [],
   "metadata": {
    "execution": {
     "iopub.execute_input": "2023-11-13T14:20:01.083347Z",
     "iopub.status.busy": "2023-11-13T14:20:01.082995Z",
     "iopub.status.idle": "2023-11-13T14:20:01.122237Z",
     "shell.execute_reply": "2023-11-13T14:20:01.121594Z",
     "shell.execute_reply.started": "2023-11-13T14:20:01.083312Z"
    }
   }
  },
  {
   "cell_type": "code",
   "execution_count": 12,
   "source": [
    "def scale_sequence(sequence):\n",
    "    scaler = MinMaxScaler()\n",
    "    scaler.fit(\n",
    "        [sequence[i][4:] for i in range(len(sequence))]\n",
    "    )\n",
    "    scaled = scaler.transform(\n",
    "        [sequence[i][4:] for i in range(len(sequence))]\n",
    "    )\n",
    "\n",
    "    scaled_sequence = [\n",
    "        [st for st in sequence[i][:4]] + [sc for sc in scaled[i]] for i in range(len(sequence))\n",
    "    ]\n",
    "    assert len(scaled_sequence) == len(sequence)\n",
    "    for scs in scaled_sequence:\n",
    "        assert len(scs) == 10\n",
    "    return scaled_sequence"
   ],
   "outputs": [],
   "metadata": {
    "execution": {
     "iopub.execute_input": "2023-11-13T14:20:01.123165Z",
     "iopub.status.busy": "2023-11-13T14:20:01.123002Z",
     "iopub.status.idle": "2023-11-13T14:20:01.128887Z",
     "shell.execute_reply": "2023-11-13T14:20:01.127495Z",
     "shell.execute_reply.started": "2023-11-13T14:20:01.123149Z"
    }
   }
  },
  {
   "cell_type": "code",
   "execution_count": 13,
   "source": [
    "# Create new dictionary\n",
    "for seq_index in new_dic['sequences']:\n",
    "    scaled_seq = scale_sequence(\n",
    "        new_dic['sequences'][seq_index]['break_sequence']\n",
    "    )\n",
    "    new_dic['sequences'][seq_index]['sequence'] = [scs for scs in scaled_seq]"
   ],
   "outputs": [],
   "metadata": {
    "execution": {
     "iopub.execute_input": "2023-11-13T14:20:01.130051Z",
     "iopub.status.busy": "2023-11-13T14:20:01.129838Z",
     "iopub.status.idle": "2023-11-13T14:20:01.310245Z",
     "shell.execute_reply": "2023-11-13T14:20:01.309627Z",
     "shell.execute_reply.started": "2023-11-13T14:20:01.130035Z"
    }
   }
  },
  {
   "cell_type": "code",
   "execution_count": 14,
   "source": [
    "for lid in new_dic['sequences']:\n",
    "    for ts in range(len(new_dic['sequences'][lid]['sequence'])):\n",
    "        if np.sum(new_dic['sequences'][lid]['sequence'][ts]) < 1:\n",
    "            print('student {}, timestep {}, \\n    {}\\n    {}'.format(\n",
    "                lid, ts, new_dic['sequences'][lid]['sequence'][ts],\n",
    "                lid, ts, new_dic['sequences'][lid]['sequence'][ts-1]\n",
    "            ))"
   ],
   "outputs": [],
   "metadata": {}
  },
  {
   "cell_type": "code",
   "execution_count": 15,
   "source": [
    "new_dic['sequences'][51]['sequence'][150:155]"
   ],
   "outputs": [
    {
     "output_type": "execute_result",
     "data": {
      "text/plain": [
       "[[0.0, 0.0, 0.0, 1.0, 0.003124218945260839, 0.0, 0.0, 0.0, 0.0, 0.0],\n",
       " [0.0, 0.0, 0.0, 1.0, 0.0, 0.0, 0.0, 0.0, 0.0, 0.10440966212657436],\n",
       " [0.0, 0.0, 0.0, 1.0, 0.0, 0.0, 0.0, 1.0, 0.0, 0.0],\n",
       " [0.0, 0.0, 0.0, 1.0, 0.0, 0.0, 0.0, 0.0, 0.0, 0.1184814508239899],\n",
       " [0.0, 0.0, 0.0, 1.0, 0.003124218945260839, 0.0, 0.0, 0.0, 0.0, 0.0]]"
      ]
     },
     "metadata": {},
     "execution_count": 15
    }
   ],
   "metadata": {}
  },
  {
   "cell_type": "markdown",
   "source": [],
   "metadata": {}
  },
  {
   "cell_type": "markdown",
   "source": [
    "# Labels"
   ],
   "metadata": {}
  },
  {
   "cell_type": "code",
   "execution_count": 16,
   "source": [
    "label_map = {\n",
    "      '3012': 0,\n",
    "      '2130': 0,\n",
    "      '0231': 1,\n",
    "      '0213': 0,\n",
    "      '3210': 1,\n",
    "      '3120': 1,\n",
    "      '2013': 1,\n",
    "      '2031': 1,\n",
    "      '1302': 0,\n",
    "      '0123': 0,\n",
    "      '1320': 0,\n",
    "      '2103': 0,\n",
    "      '0132': 0,\n",
    "      '1023': 0,\n",
    "      '1032': 0,\n",
    "      '3201': 0,\n",
    "      '2310': 0,\n",
    "      '2301': 0,\n",
    "      '0312': 0,\n",
    "      '3102': 0,\n",
    "      '0321': 0,\n",
    "      '1203': 0,\n",
    "      '1230': 0,\n",
    "      '3021': 0\n",
    "}\n",
    "# Create new dictionary\n",
    "for seq_index in new_dic['sequences']:\n",
    "    new_dic['sequences'][seq_index]['label'] = label_map[new_dic['sequences'][seq_index]['permutation']]"
   ],
   "outputs": [],
   "metadata": {
    "execution": {
     "iopub.execute_input": "2023-11-13T14:20:01.312406Z",
     "iopub.status.busy": "2023-11-13T14:20:01.311897Z",
     "iopub.status.idle": "2023-11-13T14:20:01.319206Z",
     "shell.execute_reply": "2023-11-13T14:20:01.318085Z",
     "shell.execute_reply.started": "2023-11-13T14:20:01.312387Z"
    }
   }
  },
  {
   "cell_type": "code",
   "execution_count": 17,
   "source": [
    "new_dic['available_demographics'] = [\n",
    "    'gender', 'year', 'language', 'label'\n",
    "]"
   ],
   "outputs": [],
   "metadata": {
    "execution": {
     "iopub.execute_input": "2023-11-13T14:20:01.321196Z",
     "iopub.status.busy": "2023-11-13T14:20:01.320767Z",
     "iopub.status.idle": "2023-11-13T14:20:01.325927Z",
     "shell.execute_reply": "2023-11-13T14:20:01.324792Z",
     "shell.execute_reply.started": "2023-11-13T14:20:01.321179Z"
    }
   }
  },
  {
   "cell_type": "markdown",
   "source": [
    "# Save Sequence"
   ],
   "metadata": {}
  },
  {
   "cell_type": "code",
   "execution_count": 18,
   "source": [
    "with open('../../data/ml4science_data.pkl', 'wb') as fp:\n",
    "    pickle.dump(new_dic, fp)"
   ],
   "outputs": [],
   "metadata": {
    "execution": {
     "iopub.execute_input": "2023-11-13T14:20:01.327691Z",
     "iopub.status.busy": "2023-11-13T14:20:01.327306Z",
     "iopub.status.idle": "2023-11-13T14:20:02.198704Z",
     "shell.execute_reply": "2023-11-13T14:20:02.198084Z",
     "shell.execute_reply.started": "2023-11-13T14:20:01.327656Z"
    }
   }
  },
  {
   "cell_type": "code",
   "execution_count": 19,
   "source": [
    "for i in range(len(new_dic['sequences'])):\n",
    "    for j in range(len(new_dic['sequences'][i]['sequence'])):\n",
    "        non_zero_count = np.count_nonzero(new_dic['sequences'][i]['sequence'][j])\n",
    "        if non_zero_count != 2:\n",
    "            print(f\"Vector at student {i}, sequence{j} has {non_zero_count} nonzero values\")\n",
    "            non_zero_positions = np.nonzero(new_dic['sequences'][i]['sequence'][j])[0]\n",
    "            print(f\"Positions of non-zero values: {non_zero_positions}\")"
   ],
   "outputs": [],
   "metadata": {}
  },
  {
   "cell_type": "code",
   "execution_count": 19,
   "source": [
    "new_dic['sequences'][0].keys()"
   ],
   "outputs": [
    {
     "output_type": "execute_result",
     "data": {
      "text/plain": [
       "dict_keys(['path', 'length', 'learner_id', 'raw_sequence', 'raw_begin', 'raw_end', 'last_timestamp', 'permutation', 'gender', 'year', 'language', 'begin', 'end', 'break_sequence', 'sequence', 'label'])"
      ]
     },
     "metadata": {},
     "execution_count": 19
    }
   ],
   "metadata": {
    "execution": {
     "iopub.execute_input": "2023-11-13T14:20:02.201678Z",
     "iopub.status.busy": "2023-11-13T14:20:02.200818Z",
     "iopub.status.idle": "2023-11-13T14:20:02.210155Z",
     "shell.execute_reply": "2023-11-13T14:20:02.209216Z",
     "shell.execute_reply.started": "2023-11-13T14:20:02.201658Z"
    }
   }
  },
  {
   "cell_type": "code",
   "execution_count": 20,
   "source": [
    "sizes = []\n",
    "for i in range(len(new_dic['sequences'])):\n",
    "    sizes.append(len(new_dic['sequences'][i]['sequence']))"
   ],
   "outputs": [],
   "metadata": {
    "execution": {
     "iopub.execute_input": "2023-11-13T14:20:02.211618Z",
     "iopub.status.busy": "2023-11-13T14:20:02.211322Z",
     "iopub.status.idle": "2023-11-13T14:20:02.215686Z",
     "shell.execute_reply": "2023-11-13T14:20:02.214779Z",
     "shell.execute_reply.started": "2023-11-13T14:20:02.211597Z"
    }
   }
  },
  {
   "cell_type": "code",
   "execution_count": 21,
   "source": [
    "max(sizes)"
   ],
   "outputs": [
    {
     "output_type": "execute_result",
     "data": {
      "text/plain": [
       "819"
      ]
     },
     "metadata": {},
     "execution_count": 21
    }
   ],
   "metadata": {
    "execution": {
     "iopub.execute_input": "2023-11-13T14:20:02.217093Z",
     "iopub.status.busy": "2023-11-13T14:20:02.216770Z",
     "iopub.status.idle": "2023-11-13T14:20:02.221839Z",
     "shell.execute_reply": "2023-11-13T14:20:02.221091Z",
     "shell.execute_reply.started": "2023-11-13T14:20:02.217072Z"
    }
   }
  },
  {
   "cell_type": "markdown",
   "source": [
    "# Demo"
   ],
   "metadata": {}
  },
  {
   "cell_type": "code",
   "execution_count": 22,
   "source": [
    "with open('./ml4science_data.pkl', 'rb') as fp:\n",
    "    new_dic = pickle.load(fp)"
   ],
   "outputs": [],
   "metadata": {
    "execution": {
     "iopub.execute_input": "2023-11-13T15:27:04.903624Z",
     "iopub.status.busy": "2023-11-13T15:27:04.903294Z",
     "iopub.status.idle": "2023-11-13T15:27:05.121870Z",
     "shell.execute_reply": "2023-11-13T15:27:05.121148Z",
     "shell.execute_reply.started": "2023-11-13T15:27:04.903599Z"
    }
   }
  },
  {
   "cell_type": "code",
   "execution_count": 23,
   "source": [
    "new_dic.keys()"
   ],
   "outputs": [
    {
     "output_type": "execute_result",
     "data": {
      "text/plain": [
       "dict_keys(['sequences', 'index', 'available_demographics'])"
      ]
     },
     "metadata": {},
     "execution_count": 23
    }
   ],
   "metadata": {
    "execution": {
     "iopub.execute_input": "2023-11-13T15:27:09.321572Z",
     "iopub.status.busy": "2023-11-13T15:27:09.321220Z",
     "iopub.status.idle": "2023-11-13T15:27:09.326419Z",
     "shell.execute_reply": "2023-11-13T15:27:09.325601Z",
     "shell.execute_reply.started": "2023-11-13T15:27:09.321547Z"
    }
   }
  },
  {
   "cell_type": "code",
   "execution_count": 24,
   "source": [
    "new_dic['available_demographics']"
   ],
   "outputs": [
    {
     "output_type": "execute_result",
     "data": {
      "text/plain": [
       "['gender', 'year', 'language', 'label']"
      ]
     },
     "metadata": {},
     "execution_count": 24
    }
   ],
   "metadata": {
    "execution": {
     "iopub.execute_input": "2023-11-13T15:27:15.587495Z",
     "iopub.status.busy": "2023-11-13T15:27:15.587168Z",
     "iopub.status.idle": "2023-11-13T15:27:15.592220Z",
     "shell.execute_reply": "2023-11-13T15:27:15.591514Z",
     "shell.execute_reply.started": "2023-11-13T15:27:15.587473Z"
    }
   }
  },
  {
   "cell_type": "code",
   "execution_count": 25,
   "source": [
    "new_dic['index']"
   ],
   "outputs": [
    {
     "output_type": "execute_result",
     "data": {
      "text/plain": [
       "{'learner_idx': {'svdphyjs': 0,\n",
       "  '2ae6q3hw': 1,\n",
       "  '8jp62suc': 2,\n",
       "  'e93na59g': 3,\n",
       "  'chm4sr6j': 4,\n",
       "  'gc663sap': 5,\n",
       "  '8nh4zvcp': 6,\n",
       "  '7t9zwtmr': 7,\n",
       "  'wvxkvhne': 8,\n",
       "  '43e33t3h': 9,\n",
       "  'a3vdjxy9': 10,\n",
       "  'mkw5afyy': 11,\n",
       "  'dq4zzkyt': 12,\n",
       "  '5f4q4ng5': 13,\n",
       "  'temu2736': 14,\n",
       "  'f54jkrsw': 15,\n",
       "  'ujpk3gf4': 16,\n",
       "  'jkbx6axr': 17,\n",
       "  'vwfpuqaz': 18,\n",
       "  'w7asnymz': 19,\n",
       "  '2hr6mkdc': 20,\n",
       "  'nrxpa2ac': 21,\n",
       "  '5zrt4f8z': 22,\n",
       "  'm3d89p29': 23,\n",
       "  'vjr7tshm': 24,\n",
       "  'egg8756y': 25,\n",
       "  'uhbpoog9': 26,\n",
       "  'bg7x3db2': 27,\n",
       "  'xz56yha8': 28,\n",
       "  'rrykpeqz': 29,\n",
       "  '55yavcue': 30,\n",
       "  'p44vw7td': 31,\n",
       "  'fu6nsdhs': 32,\n",
       "  '2ejxq2u8': 33,\n",
       "  'ky8kttpv': 34,\n",
       "  'rdbqasqa': 35,\n",
       "  'zgyc948n': 36,\n",
       "  'c9dj36r7': 37,\n",
       "  'xvsgn53d': 38,\n",
       "  'qsd9cb5e': 39,\n",
       "  '9pjrsbth': 40,\n",
       "  'cp7mfn24': 41,\n",
       "  'j9qgkaej': 42,\n",
       "  '982cf4dn': 43,\n",
       "  '4zsmj6s3': 44,\n",
       "  '85pdk9mq': 45,\n",
       "  'hf8uz5t3': 46,\n",
       "  'k7p5eryf': 47,\n",
       "  'x844md8u': 48,\n",
       "  'baqyfz2h': 49,\n",
       "  'jwntt96k': 50,\n",
       "  'wktpsvp8': 51,\n",
       "  'h75kp27p': 52,\n",
       "  '26z3wbqz': 53,\n",
       "  'x5sm9pfu': 54,\n",
       "  'mnhmyuhb': 55,\n",
       "  'tsrnkj8w': 56,\n",
       "  'uenn9vgu': 57,\n",
       "  '6h5vmwys': 58,\n",
       "  'ybxahrra': 59,\n",
       "  'u25vrfyy': 60,\n",
       "  'rgeb7wr9': 61,\n",
       "  'favvtnnf': 62,\n",
       "  'ntqpqkpq': 63,\n",
       "  'nj859xxh': 64,\n",
       "  'fh76v5qx': 65,\n",
       "  't6rjyw6s': 66,\n",
       "  'vhsgf3xa': 67,\n",
       "  'g6z8qykr': 68,\n",
       "  'rve4n5nv': 69,\n",
       "  '5h9umyr6': 70,\n",
       "  'v5w2e3zw': 71,\n",
       "  'nw65tu6j': 72,\n",
       "  'mhek2323': 73,\n",
       "  'rdy7sx9b': 74,\n",
       "  'tvtbbfhg': 75,\n",
       "  'caq55qe8': 76,\n",
       "  'drccqhk4': 77,\n",
       "  'tcnba4ca': 78,\n",
       "  'fs32fqe3': 79,\n",
       "  'r74r26kt': 80,\n",
       "  'e3b96acv': 81,\n",
       "  'ur9sxzx7': 82,\n",
       "  'uqven68r': 83,\n",
       "  'm35ub35g': 84,\n",
       "  'jx3yyy26': 85,\n",
       "  '5es5yqs8': 86,\n",
       "  'ydws5xx9': 87,\n",
       "  'wxz98urt': 88,\n",
       "  'qdp9ant4': 89,\n",
       "  '63xqh9t5': 90,\n",
       "  'beypwbck': 91,\n",
       "  'p6mkaa4e': 92,\n",
       "  'mwwddfvg': 93,\n",
       "  'uqw5vh3j': 94,\n",
       "  'uhq3p7yr': 95,\n",
       "  'p6269reg': 96,\n",
       "  'wnurkn96': 97,\n",
       "  'upp6pqmx': 98,\n",
       "  'bebyve9b': 99,\n",
       "  '3vsn2h9f': 100,\n",
       "  'v5gwycag': 101,\n",
       "  'uswb2jez': 102,\n",
       "  'nsj6k2rg': 103,\n",
       "  'w25mph3c': 104,\n",
       "  'upkt7qb4': 105,\n",
       "  'wbdyh5vk': 106,\n",
       "  'mp2aa258': 107,\n",
       "  'wpszzhxa': 108,\n",
       "  'uqzxsym7': 109,\n",
       "  'xw9qt6r4': 110,\n",
       "  'e22ppyf7': 111,\n",
       "  'xsxkdf7k': 112,\n",
       "  'yc3vmnuf': 113,\n",
       "  '84nmc3df': 114,\n",
       "  'unkrat9w': 115,\n",
       "  'ecy9k833': 116,\n",
       "  'urwu33jd': 117,\n",
       "  '4k4kc2k6': 118,\n",
       "  'r2q9q35x': 119,\n",
       "  'fryxwskq': 120,\n",
       "  '892r4czm': 121,\n",
       "  'aurjfgnn': 122,\n",
       "  'cdq4drkk': 123,\n",
       "  'p5t7d3sb': 124,\n",
       "  '4rhnvke9': 125,\n",
       "  'xpyjyx4m': 126,\n",
       "  'mzjq6z9t': 127,\n",
       "  'o9ffsiwt': 128,\n",
       "  'jydsy777': 129,\n",
       "  'xj86wyup': 130,\n",
       "  'edmrufua': 131,\n",
       "  '7xhcecye': 132,\n",
       "  '5m3ka2m2': 133,\n",
       "  'sx3vqc32': 134,\n",
       "  '4jchqv4d': 135,\n",
       "  'tsvcrpeg': 136,\n",
       "  '9p9gwu88': 137,\n",
       "  '6j6u2yct': 138,\n",
       "  'zs35fg8g': 139,\n",
       "  'h9t9mxtx': 140,\n",
       "  'bqmcqxyx': 141,\n",
       "  'ht865nws': 142,\n",
       "  'qk6q49f4': 143,\n",
       "  '39htvmt5': 144,\n",
       "  'mwfdr4ys': 145,\n",
       "  'xdxyjh8j': 146,\n",
       "  'jhrkm85q': 147,\n",
       "  '6tg95rzr': 148,\n",
       "  'sgsxmkfm': 149,\n",
       "  'fj5tdybn': 150,\n",
       "  'bezdgyya': 151,\n",
       "  'jwajupwj': 152,\n",
       "  '6z7nfy2j': 153,\n",
       "  'eb9iv6v2': 154,\n",
       "  '4bu2rkv3': 155,\n",
       "  'j6nndaxp': 156,\n",
       "  'nba9d6t2': 157,\n",
       "  's8w65sm5': 158,\n",
       "  'hkvk9vt9': 159,\n",
       "  'dubyutqd': 160,\n",
       "  'sgdgynxy': 161,\n",
       "  '3st3y5gc': 162,\n",
       "  'araav4jr': 163,\n",
       "  'sz8qvgyv': 164,\n",
       "  'suyrrcqe': 165,\n",
       "  '2xjmtbvz': 166,\n",
       "  'ytrbygud': 167,\n",
       "  '6fkbh35u': 168,\n",
       "  'v2cxb3a5': 169,\n",
       "  'ay2erc3c': 170,\n",
       "  '9bp6yz7m': 171,\n",
       "  'fm5rcvdy': 172,\n",
       "  'r29wzm6f': 173,\n",
       "  'y7p64n6z': 174,\n",
       "  '9aagpn4d': 175,\n",
       "  'sjz2rptd': 176,\n",
       "  'mcjaj2aj': 177,\n",
       "  'ujp9fgpn': 178,\n",
       "  'b72hbgvw': 179,\n",
       "  'evqzjs5p': 180,\n",
       "  'smqjhu44': 181,\n",
       "  'fyf6ag5v': 182,\n",
       "  'gvqh7qr2': 183,\n",
       "  'wger3sfa': 184,\n",
       "  '4k4dk9pu': 185,\n",
       "  'dbt5na3s': 186,\n",
       "  '2crhmbq7': 187,\n",
       "  'h543nsc8': 188,\n",
       "  'qkeyp2rg': 189,\n",
       "  'qsx2cc4b': 190,\n",
       "  '6uakv8nx': 191,\n",
       "  'b2q8ay65': 192,\n",
       "  'u6c3cp6c': 193,\n",
       "  '4vuc8rr3': 194,\n",
       "  '6bq62prp': 195,\n",
       "  'r78kg7d3': 196,\n",
       "  '47ce49e4': 197,\n",
       "  'qjfn2j8z': 198,\n",
       "  't3dwkezr': 199,\n",
       "  'q4z45p85': 200,\n",
       "  'szvqb37f': 201,\n",
       "  '9wdm7zue': 202,\n",
       "  'hrhu4yph': 203,\n",
       "  'g4xpwwac': 204,\n",
       "  '5y535ct3': 205,\n",
       "  'djnysnd6': 206,\n",
       "  's78drqcg': 207,\n",
       "  'fzagvhvf': 208,\n",
       "  's7mdq5tk': 209,\n",
       "  'sm8sfpcg': 210,\n",
       "  '5j7hdews': 211,\n",
       "  'zkrr45y5': 212,\n",
       "  '88kjzd8b': 213,\n",
       "  '4e438nww': 214,\n",
       "  '26mtbtye': 215,\n",
       "  'oikzz9af': 216,\n",
       "  'm749z8u9': 217,\n",
       "  'm4zvafhs': 218,\n",
       "  'd7777ske': 219,\n",
       "  'dmdc53tx': 220,\n",
       "  'gpq26qq9': 221,\n",
       "  '5a69aw4h': 222,\n",
       "  '4vtjgtja': 223,\n",
       "  'ryfqnvfh': 224,\n",
       "  '9sgu2tbg': 225,\n",
       "  'dk43m2pe': 226,\n",
       "  '9xc2v9vu': 227,\n",
       "  'jvxejtp9': 228,\n",
       "  'zgs84jfy': 229,\n",
       "  '8ethqmkd': 230,\n",
       "  '76wvaew4': 231,\n",
       "  'uthx49rq': 232,\n",
       "  'eau7bsmq': 233,\n",
       "  'cb6wcvyn': 234,\n",
       "  'e8zdytr2': 235,\n",
       "  'gyerx2d9': 236,\n",
       "  'ew6cfr37': 237,\n",
       "  'yez72a8b': 238,\n",
       "  '4rjjdez9': 239,\n",
       "  'm9u6p93a': 240,\n",
       "  'tt5n8d2r': 241,\n",
       "  'tzpqpfaa': 242,\n",
       "  'ke6msbfr': 243,\n",
       "  'fddsxudu': 244,\n",
       "  '22wyn9xy': 245,\n",
       "  'vqebanqv': 246,\n",
       "  'zxp438xr': 247,\n",
       "  'rjx9d3gf': 248,\n",
       "  '2xh9zuvc': 249,\n",
       "  '7fj2vydr': 250,\n",
       "  'xngb9hff': 251,\n",
       "  'sh6tu9g2': 252,\n",
       "  's2up6gmm': 253},\n",
       " 'idx_learner': {0: 'svdphyjs',\n",
       "  1: '2ae6q3hw',\n",
       "  2: '8jp62suc',\n",
       "  3: 'e93na59g',\n",
       "  4: 'chm4sr6j',\n",
       "  5: 'gc663sap',\n",
       "  6: '8nh4zvcp',\n",
       "  7: '7t9zwtmr',\n",
       "  8: 'wvxkvhne',\n",
       "  9: '43e33t3h',\n",
       "  10: 'a3vdjxy9',\n",
       "  11: 'mkw5afyy',\n",
       "  12: 'dq4zzkyt',\n",
       "  13: '5f4q4ng5',\n",
       "  14: 'temu2736',\n",
       "  15: 'f54jkrsw',\n",
       "  16: 'ujpk3gf4',\n",
       "  17: 'jkbx6axr',\n",
       "  18: 'vwfpuqaz',\n",
       "  19: 'w7asnymz',\n",
       "  20: '2hr6mkdc',\n",
       "  21: 'nrxpa2ac',\n",
       "  22: '5zrt4f8z',\n",
       "  23: 'm3d89p29',\n",
       "  24: 'vjr7tshm',\n",
       "  25: 'egg8756y',\n",
       "  26: 'uhbpoog9',\n",
       "  27: 'bg7x3db2',\n",
       "  28: 'xz56yha8',\n",
       "  29: 'rrykpeqz',\n",
       "  30: '55yavcue',\n",
       "  31: 'p44vw7td',\n",
       "  32: 'fu6nsdhs',\n",
       "  33: '2ejxq2u8',\n",
       "  34: 'ky8kttpv',\n",
       "  35: 'rdbqasqa',\n",
       "  36: 'zgyc948n',\n",
       "  37: 'c9dj36r7',\n",
       "  38: 'xvsgn53d',\n",
       "  39: 'qsd9cb5e',\n",
       "  40: '9pjrsbth',\n",
       "  41: 'cp7mfn24',\n",
       "  42: 'j9qgkaej',\n",
       "  43: '982cf4dn',\n",
       "  44: '4zsmj6s3',\n",
       "  45: '85pdk9mq',\n",
       "  46: 'hf8uz5t3',\n",
       "  47: 'k7p5eryf',\n",
       "  48: 'x844md8u',\n",
       "  49: 'baqyfz2h',\n",
       "  50: 'jwntt96k',\n",
       "  51: 'wktpsvp8',\n",
       "  52: 'h75kp27p',\n",
       "  53: '26z3wbqz',\n",
       "  54: 'x5sm9pfu',\n",
       "  55: 'mnhmyuhb',\n",
       "  56: 'tsrnkj8w',\n",
       "  57: 'uenn9vgu',\n",
       "  58: '6h5vmwys',\n",
       "  59: 'ybxahrra',\n",
       "  60: 'u25vrfyy',\n",
       "  61: 'rgeb7wr9',\n",
       "  62: 'favvtnnf',\n",
       "  63: 'ntqpqkpq',\n",
       "  64: 'nj859xxh',\n",
       "  65: 'fh76v5qx',\n",
       "  66: 't6rjyw6s',\n",
       "  67: 'vhsgf3xa',\n",
       "  68: 'g6z8qykr',\n",
       "  69: 'rve4n5nv',\n",
       "  70: '5h9umyr6',\n",
       "  71: 'v5w2e3zw',\n",
       "  72: 'nw65tu6j',\n",
       "  73: 'mhek2323',\n",
       "  74: 'rdy7sx9b',\n",
       "  75: 'tvtbbfhg',\n",
       "  76: 'caq55qe8',\n",
       "  77: 'drccqhk4',\n",
       "  78: 'tcnba4ca',\n",
       "  79: 'fs32fqe3',\n",
       "  80: 'r74r26kt',\n",
       "  81: 'e3b96acv',\n",
       "  82: 'ur9sxzx7',\n",
       "  83: 'uqven68r',\n",
       "  84: 'm35ub35g',\n",
       "  85: 'jx3yyy26',\n",
       "  86: '5es5yqs8',\n",
       "  87: 'ydws5xx9',\n",
       "  88: 'wxz98urt',\n",
       "  89: 'qdp9ant4',\n",
       "  90: '63xqh9t5',\n",
       "  91: 'beypwbck',\n",
       "  92: 'p6mkaa4e',\n",
       "  93: 'mwwddfvg',\n",
       "  94: 'uqw5vh3j',\n",
       "  95: 'uhq3p7yr',\n",
       "  96: 'p6269reg',\n",
       "  97: 'wnurkn96',\n",
       "  98: 'upp6pqmx',\n",
       "  99: 'bebyve9b',\n",
       "  100: '3vsn2h9f',\n",
       "  101: 'v5gwycag',\n",
       "  102: 'uswb2jez',\n",
       "  103: 'nsj6k2rg',\n",
       "  104: 'w25mph3c',\n",
       "  105: 'upkt7qb4',\n",
       "  106: 'wbdyh5vk',\n",
       "  107: 'mp2aa258',\n",
       "  108: 'wpszzhxa',\n",
       "  109: 'uqzxsym7',\n",
       "  110: 'xw9qt6r4',\n",
       "  111: 'e22ppyf7',\n",
       "  112: 'xsxkdf7k',\n",
       "  113: 'yc3vmnuf',\n",
       "  114: '84nmc3df',\n",
       "  115: 'unkrat9w',\n",
       "  116: 'ecy9k833',\n",
       "  117: 'urwu33jd',\n",
       "  118: '4k4kc2k6',\n",
       "  119: 'r2q9q35x',\n",
       "  120: 'fryxwskq',\n",
       "  121: '892r4czm',\n",
       "  122: 'aurjfgnn',\n",
       "  123: 'cdq4drkk',\n",
       "  124: 'p5t7d3sb',\n",
       "  125: '4rhnvke9',\n",
       "  126: 'xpyjyx4m',\n",
       "  127: 'mzjq6z9t',\n",
       "  128: 'o9ffsiwt',\n",
       "  129: 'jydsy777',\n",
       "  130: 'xj86wyup',\n",
       "  131: 'edmrufua',\n",
       "  132: '7xhcecye',\n",
       "  133: '5m3ka2m2',\n",
       "  134: 'sx3vqc32',\n",
       "  135: '4jchqv4d',\n",
       "  136: 'tsvcrpeg',\n",
       "  137: '9p9gwu88',\n",
       "  138: '6j6u2yct',\n",
       "  139: 'zs35fg8g',\n",
       "  140: 'h9t9mxtx',\n",
       "  141: 'bqmcqxyx',\n",
       "  142: 'ht865nws',\n",
       "  143: 'qk6q49f4',\n",
       "  144: '39htvmt5',\n",
       "  145: 'mwfdr4ys',\n",
       "  146: 'xdxyjh8j',\n",
       "  147: 'jhrkm85q',\n",
       "  148: '6tg95rzr',\n",
       "  149: 'sgsxmkfm',\n",
       "  150: 'fj5tdybn',\n",
       "  151: 'bezdgyya',\n",
       "  152: 'jwajupwj',\n",
       "  153: '6z7nfy2j',\n",
       "  154: 'eb9iv6v2',\n",
       "  155: '4bu2rkv3',\n",
       "  156: 'j6nndaxp',\n",
       "  157: 'nba9d6t2',\n",
       "  158: 's8w65sm5',\n",
       "  159: 'hkvk9vt9',\n",
       "  160: 'dubyutqd',\n",
       "  161: 'sgdgynxy',\n",
       "  162: '3st3y5gc',\n",
       "  163: 'araav4jr',\n",
       "  164: 'sz8qvgyv',\n",
       "  165: 'suyrrcqe',\n",
       "  166: '2xjmtbvz',\n",
       "  167: 'ytrbygud',\n",
       "  168: '6fkbh35u',\n",
       "  169: 'v2cxb3a5',\n",
       "  170: 'ay2erc3c',\n",
       "  171: '9bp6yz7m',\n",
       "  172: 'fm5rcvdy',\n",
       "  173: 'r29wzm6f',\n",
       "  174: 'y7p64n6z',\n",
       "  175: '9aagpn4d',\n",
       "  176: 'sjz2rptd',\n",
       "  177: 'mcjaj2aj',\n",
       "  178: 'ujp9fgpn',\n",
       "  179: 'b72hbgvw',\n",
       "  180: 'evqzjs5p',\n",
       "  181: 'smqjhu44',\n",
       "  182: 'fyf6ag5v',\n",
       "  183: 'gvqh7qr2',\n",
       "  184: 'wger3sfa',\n",
       "  185: '4k4dk9pu',\n",
       "  186: 'dbt5na3s',\n",
       "  187: '2crhmbq7',\n",
       "  188: 'h543nsc8',\n",
       "  189: 'qkeyp2rg',\n",
       "  190: 'qsx2cc4b',\n",
       "  191: '6uakv8nx',\n",
       "  192: 'b2q8ay65',\n",
       "  193: 'u6c3cp6c',\n",
       "  194: '4vuc8rr3',\n",
       "  195: '6bq62prp',\n",
       "  196: 'r78kg7d3',\n",
       "  197: '47ce49e4',\n",
       "  198: 'qjfn2j8z',\n",
       "  199: 't3dwkezr',\n",
       "  200: 'q4z45p85',\n",
       "  201: 'szvqb37f',\n",
       "  202: '9wdm7zue',\n",
       "  203: 'hrhu4yph',\n",
       "  204: 'g4xpwwac',\n",
       "  205: '5y535ct3',\n",
       "  206: 'djnysnd6',\n",
       "  207: 's78drqcg',\n",
       "  208: 'fzagvhvf',\n",
       "  209: 's7mdq5tk',\n",
       "  210: 'sm8sfpcg',\n",
       "  211: '5j7hdews',\n",
       "  212: 'zkrr45y5',\n",
       "  213: '88kjzd8b',\n",
       "  214: '4e438nww',\n",
       "  215: '26mtbtye',\n",
       "  216: 'oikzz9af',\n",
       "  217: 'm749z8u9',\n",
       "  218: 'm4zvafhs',\n",
       "  219: 'd7777ske',\n",
       "  220: 'dmdc53tx',\n",
       "  221: 'gpq26qq9',\n",
       "  222: '5a69aw4h',\n",
       "  223: '4vtjgtja',\n",
       "  224: 'ryfqnvfh',\n",
       "  225: '9sgu2tbg',\n",
       "  226: 'dk43m2pe',\n",
       "  227: '9xc2v9vu',\n",
       "  228: 'jvxejtp9',\n",
       "  229: 'zgs84jfy',\n",
       "  230: '8ethqmkd',\n",
       "  231: '76wvaew4',\n",
       "  232: 'uthx49rq',\n",
       "  233: 'eau7bsmq',\n",
       "  234: 'cb6wcvyn',\n",
       "  235: 'e8zdytr2',\n",
       "  236: 'gyerx2d9',\n",
       "  237: 'ew6cfr37',\n",
       "  238: 'yez72a8b',\n",
       "  239: '4rjjdez9',\n",
       "  240: 'm9u6p93a',\n",
       "  241: 'tt5n8d2r',\n",
       "  242: 'tzpqpfaa',\n",
       "  243: 'ke6msbfr',\n",
       "  244: 'fddsxudu',\n",
       "  245: '22wyn9xy',\n",
       "  246: 'vqebanqv',\n",
       "  247: 'zxp438xr',\n",
       "  248: 'rjx9d3gf',\n",
       "  249: '2xh9zuvc',\n",
       "  250: '7fj2vydr',\n",
       "  251: 'xngb9hff',\n",
       "  252: 'sh6tu9g2',\n",
       "  253: 's2up6gmm'}}"
      ]
     },
     "metadata": {},
     "execution_count": 25
    }
   ],
   "metadata": {
    "execution": {
     "iopub.execute_input": "2023-11-13T15:27:19.880726Z",
     "iopub.status.busy": "2023-11-13T15:27:19.880389Z",
     "iopub.status.idle": "2023-11-13T15:27:19.896400Z",
     "shell.execute_reply": "2023-11-13T15:27:19.895482Z",
     "shell.execute_reply.started": "2023-11-13T15:27:19.880700Z"
    }
   }
  },
  {
   "cell_type": "code",
   "execution_count": 26,
   "source": [
    "new_dic['sequences'].keys()"
   ],
   "outputs": [
    {
     "output_type": "execute_result",
     "data": {
      "text/plain": [
       "dict_keys([0, 1, 2, 3, 4, 5, 6, 7, 8, 9, 10, 11, 12, 13, 14, 15, 16, 17, 18, 19, 20, 21, 22, 23, 24, 25, 26, 27, 28, 29, 30, 31, 32, 33, 34, 35, 36, 37, 38, 39, 40, 41, 42, 43, 44, 45, 46, 47, 48, 49, 50, 51, 52, 53, 54, 55, 56, 57, 58, 59, 60, 61, 62, 63, 64, 65, 66, 67, 68, 69, 70, 71, 72, 73, 74, 75, 76, 77, 78, 79, 80, 81, 82, 83, 84, 85, 86, 87, 88, 89, 90, 91, 92, 93, 94, 95, 96, 97, 98, 99, 100, 101, 102, 103, 104, 105, 106, 107, 108, 109, 110, 111, 112, 113, 114, 115, 116, 117, 118, 119, 120, 121, 122, 123, 124, 125, 126, 127, 128, 129, 130, 131, 132, 133, 134, 135, 136, 137, 138, 139, 140, 141, 142, 143, 144, 145, 146, 147, 148, 149, 150, 151, 152, 153, 154, 155, 156, 157, 158, 159, 160, 161, 162, 163, 164, 165, 166, 167, 168, 169, 170, 171, 172, 173, 174, 175, 176, 177, 178, 179, 180, 181, 182, 183, 184, 185, 186, 187, 188, 189, 190, 191, 192, 193, 194, 195, 196, 197, 198, 199, 200, 201, 202, 203, 204, 205, 206, 207, 208, 209, 210, 211, 212, 213, 214, 215, 216, 217, 218, 219, 220, 221, 222, 223, 224, 225, 226, 227, 228, 229, 230, 231, 232, 233, 234, 235, 236, 237, 238, 239, 240, 241, 242, 243, 244, 245, 246, 247, 248, 249, 250, 251, 252, 253])"
      ]
     },
     "metadata": {},
     "execution_count": 26
    }
   ],
   "metadata": {
    "execution": {
     "iopub.execute_input": "2023-11-13T15:27:28.166845Z",
     "iopub.status.busy": "2023-11-13T15:27:28.166531Z",
     "iopub.status.idle": "2023-11-13T15:27:28.171972Z",
     "shell.execute_reply": "2023-11-13T15:27:28.171164Z",
     "shell.execute_reply.started": "2023-11-13T15:27:28.166823Z"
    }
   }
  },
  {
   "cell_type": "code",
   "execution_count": 27,
   "source": [
    "new_dic['sequences'][0].keys()"
   ],
   "outputs": [
    {
     "output_type": "execute_result",
     "data": {
      "text/plain": [
       "dict_keys(['path', 'length', 'learner_id', 'raw_sequence', 'raw_begin', 'raw_end', 'last_timestamp', 'permutation', 'gender', 'year', 'language', 'begin', 'end', 'break_sequence', 'sequence', 'label'])"
      ]
     },
     "metadata": {},
     "execution_count": 27
    }
   ],
   "metadata": {
    "execution": {
     "iopub.execute_input": "2023-11-13T15:27:35.394876Z",
     "iopub.status.busy": "2023-11-13T15:27:35.394553Z",
     "iopub.status.idle": "2023-11-13T15:27:35.399760Z",
     "shell.execute_reply": "2023-11-13T15:27:35.399068Z",
     "shell.execute_reply.started": "2023-11-13T15:27:35.394851Z"
    }
   }
  },
  {
   "cell_type": "code",
   "execution_count": 28,
   "source": [
    "for i in range(len(new_dic['sequences'][0]['begin'])):\n",
    "    print(\n",
    "        'begin {} - end {}: {}'.format\n",
    "        (new_dic['sequences'][0]['begin'][i],\n",
    "        new_dic['sequences'][0]['end'][i],\n",
    "        new_dic['sequences'][0]['sequence'][i])\n",
    "    )"
   ],
   "outputs": [
    {
     "output_type": "stream",
     "name": "stdout",
     "text": [
      "begin 0 - end 7.889: [0, 0, 0, 1, 0.0, 0.0, 0.0, 0.0, 0.0, 0.3440621047581669]\n",
      "begin 7.889 - end 83.03: [0.0, 0.0, 0.0, 1.0, 0.0, 0.0, 0.0, 0.0, 0.9999999999999999, 0.0]\n",
      "begin 83.03 - end 86.28: [0.0, 0.0, 0.0, 1.0, 0.0, 0.0, 0.0, 0.0, 0.0, 0.14174189890531658]\n",
      "begin 86.28 - end 86.33: [0.0, 0.0, 0.0, 1.0, 0.006079027355622759, 0.0, 0.0, 0.0, 0.0, 0.0]\n",
      "begin 87.278 - end 90.562: [0.0, 0.0, 0.0, 1.0, 0.3992705167173245, 0.0, 0.0, 0.0, 0.0, 0.0]\n",
      "begin 90.562 - end 99.597: [0.0, 0.0, 0.0, 1.0, 0.0, 0.0, 0.0, 0.0, 0.0, 0.3940424789567799]\n",
      "begin 99.597 - end 100.32: [0.0, 0.0, 0.0, 1.0, 0.0, 0.0, 0.1239499399965717, 0.0, 0.0, 0.0]\n",
      "begin 101.267 - end 107.071: [0.0, 0.0, 0.0, 1.0, 0.0, 0.0, 0.0, 0.0, 0.0772414527355239, 0.0]\n",
      "begin 108.989 - end 114.653: [0.0, 0.0, 0.0, 1.0, 0.6886322188449855, 0.0, 0.0, 0.0, 0.0, 0.0]\n",
      "begin 115.424 - end 115.935: [0.0, 0.0, 0.0, 1.0, 0.0, 0.0, 0.08760500600034259, 0.0, 0.0, 0.0]\n",
      "begin 117.488 - end 135.421: [0.0, 0.0, 0.0, 1.0, 0.0, 0.0, 0.0, 0.0, 0.2386579896461318, 0.0]\n",
      "begin 136.702 - end 144.927: [0.0, 0.0, 0.0, 1.0, 1.0, 0.0, 0.0, 0.0, 0.0, 0.0]\n",
      "begin 144.927 - end 147.995: [0.0, 0.0, 0.0, 1.0, 0.0, 0.0, 0.0, 0.0, 0.0, 0.13380435256661938]\n",
      "begin 147.995 - end 149.956: [0.0, 0.0, 0.0, 1.0, 0.23841945288753624, 0.0, 0.0, 0.0, 0.0, 0.0]\n",
      "begin 150.243 - end 150.934: [0.0, 0.0, 0.0, 1.0, 0.08401215805471161, 0.0, 0.0, 0.0, 0.0, 0.0]\n",
      "begin 150.934 - end 153.606: [0.0, 0.0, 0.0, 1.0, 0.0, 0.0, 0.0, 0.0, 0.0, 0.11653364734615553]\n",
      "begin 153.606 - end 153.656: [0.0, 0.0, 0.0, 1.0, 0.006079027355624487, 0.0, 0.0, 0.0, 0.0, 0.0]\n",
      "begin 155.007 - end 169.149: [0.0, 0.0, 0.0, 1.0, 0.0, 0.0, 0.0, 0.0, 0.18820617239589563, 0.0]\n",
      "begin 170.791 - end 170.841: [1.0, 0.0, 0.0, 0.0, 0.006079027355624487, 0.0, 0.0, 0.0, 0.0, 0.0]\n",
      "begin 170.841 - end 173.98: [1.0, 0.0, 0.0, 0.0, 0.0, 0.0, 0.0, 0.0, 0.0, 0.13690086789654957]\n",
      "begin 173.98 - end 175.493: [1.0, 0.0, 0.0, 0.0, 0.18395136778115578, 0.0, 0.0, 0.0, 0.0, 0.0]\n",
      "begin 175.859 - end 182.973: [1.0, 0.0, 0.0, 0.0, 0.8649240121580558, 0.0, 0.0, 0.0, 0.0, 0.0]\n",
      "begin 184.477 - end 188.182: [1.0, 0.0, 0.0, 0.0, 0.4504559270516701, 0.0, 0.0, 0.0, 0.0, 0.0]\n",
      "begin 190.224 - end 195.675: [1.0, 0.0, 0.0, 0.0, 0.6627355623100335, 0.0, 0.0, 0.0, 0.0, 0.0]\n",
      "begin 196.178 - end 197.047: [1.0, 0.0, 0.0, 0.0, 0.10565349544072954, 0.0, 0.0, 0.0, 0.0, 0.0]\n",
      "begin 197.421 - end 198.127: [1.0, 0.0, 0.0, 0.0, 0.08583586626140034, 0.0, 0.0, 0.0, 0.0, 0.0]\n",
      "begin 198.37 - end 200.423: [1.0, 0.0, 0.0, 0.0, 0.24960486322188435, 0.0, 0.0, 0.0, 0.0, 0.0]\n",
      "begin 201.114 - end 203.82: [1.0, 0.0, 0.0, 0.0, 0.32899696048632104, 0.0, 0.0, 0.0, 0.0, 0.0]\n",
      "begin 205.115 - end 207.264: [1.0, 0.0, 0.0, 0.0, 0.0, 0.0, 0.0, 0.0, 0.02859956614897327, 0.0]\n",
      "begin 207.264 - end 210.048: [1.0, 0.0, 0.0, 0.0, 0.0, 0.0, 0.0, 0.0, 0.0, 0.12141829124689237]\n",
      "begin 210.048 - end 213.956: [1.0, 0.0, 0.0, 0.0, 0.0, 0.9999999999999999, 0.0, 0.0, 0.0, 0.0]\n",
      "begin 215.274 - end 231.234: [1.0, 0.0, 0.0, 0.0, 0.0, 0.0, 0.0, 0.0, 0.21240068670898718, 0.0]\n",
      "begin 231.234 - end 234.653: [1.0, 0.0, 0.0, 0.0, 0.0, 0.0, 0.0, 0.0, 0.0, 0.14911247764839228]\n",
      "begin 234.653 - end 235.411: [1.0, 0.0, 0.0, 0.0, 0.09215805471124745, 0.0, 0.0, 0.0, 0.0, 0.0]\n",
      "begin 237.139 - end 238.426: [0.0, 0.0, 1.0, 0.0, 0.0, 0.3293244626407323, 0.0, 0.0, 0.0, 0.0]\n",
      "begin 238.426 - end 241.776: [0.0, 0.0, 1.0, 0.0, 0.0, 0.0, 0.0, 0.0, 0.0, 0.14610318810240422]\n",
      "begin 241.776 - end 242.824: [0.0, 0.0, 0.0, 1.0, 0.1274164133738605, 0.0, 0.0, 0.0, 0.0, 0.0]\n",
      "begin 242.824 - end 246.465: [0.0, 0.0, 0.0, 1.0, 0.0, 0.0, 0.0, 0.0, 0.0, 0.15879453966592505]\n",
      "begin 246.465 - end 246.92: [0.0, 0.0, 0.0, 1.0, 0.055319148936168315, 0.0, 0.0, 0.0, 0.0, 0.0]\n",
      "begin 247.443 - end 247.955: [0.0, 0.0, 0.0, 1.0, 0.0, 0.0, 0.08777644436825015, 0.0, 0.0, 0.0]\n",
      "begin 248.716 - end 249.968: [0.0, 0.0, 0.0, 1.0, 0.15221884498480023, 0.0, 0.0, 0.0, 0.0, 0.0]\n",
      "begin 251.842 - end 256.032: [1.0, 0.0, 0.0, 0.0, 0.5094224924012124, 0.0, 0.0, 0.0, 0.0, 0.0]\n",
      "begin 256.032 - end 259.985: [1.0, 0.0, 0.0, 0.0, 0.0, 0.0, 0.0, 0.0, 0.0, 0.1724017619608372]\n",
      "begin 259.985 - end 273.448: [1.0, 0.0, 0.0, 0.0, 0.0, 0.0, 0.0, 0.0, 0.1791698273911708, 0.0]\n",
      "begin 273.448 - end 284.908: [1.0, 0.0, 0.0, 0.0, 0.0, 0.0, 0.0, 0.0, 0.0, 0.49980374198613325]\n",
      "begin 284.908 - end 286.983: [1.0, 0.0, 0.0, 0.0, 0.25227963525835745, 0.0, 0.0, 0.0, 0.0, 0.0]\n",
      "begin 287.493 - end 290.052: [1.0, 0.0, 0.0, 0.0, 0.0, 0.0, 0.438710783473348, 0.0, 0.0, 0.0]\n",
      "begin 290.052 - end 293.412: [1.0, 0.0, 0.0, 0.0, 0.0, 0.0, 0.0, 0.0, 0.0, 0.14653931702211]\n",
      "begin 293.412 - end 293.889: [1.0, 0.0, 0.0, 0.0, 0.0, 0.12205731832140067, 0.0, 0.0, 0.0, 0.0]\n",
      "begin 293.889 - end 299.796: [1.0, 0.0, 0.0, 0.0, 0.0, 0.0, 0.0, 0.0, 0.0, 0.25762135287190846]\n",
      "begin 299.796 - end 325.895: [1.0, 0.0, 0.0, 0.0, 0.0, 0.0, 0.0, 0.0, 0.34733367934948944, 0.0]\n",
      "begin 325.895 - end 328.185: [1.0, 0.0, 0.0, 0.0, 0.0, 0.0, 0.0, 0.0, 0.0, 0.0998735226132855]\n",
      "begin 328.185 - end 332.792: [1.0, 0.0, 0.0, 0.0, 0.5601215805471094, 0.0, 0.0, 0.0, 0.0, 0.0]\n",
      "begin 332.792 - end 335.083: [1.0, 0.0, 0.0, 0.0, 0.0, 0.0, 0.0, 0.0, 0.0, 0.09991713550525781]\n",
      "begin 335.083 - end 336.605: [0.0, 1.0, 0.0, 0.0, 0.0, 0.38945752302968173, 0.0, 0.0, 0.0, 0.0]\n",
      "begin 337.072 - end 337.932: [0.0, 1.0, 0.0, 0.0, 0.10455927051671905, 0.0, 0.0, 0.0, 0.0, 0.0]\n",
      "begin 339.139 - end 339.541: [0.0, 1.0, 0.0, 0.0, 0.0, 0.10286591606959777, 0.0, 0.0, 0.0, 0.0]\n",
      "begin 340.088 - end 341.398: [0.0, 1.0, 0.0, 0.0, 0.15927051671732562, 0.0, 0.0, 0.0, 0.0, 0.0]\n",
      "begin 342.63 - end 343.726: [0.0, 1.0, 0.0, 0.0, 0.1332522796352589, 0.0, 0.0, 0.0, 0.0, 0.0]\n",
      "begin 345.454 - end 346.73: [0.0, 0.0, 1.0, 0.0, 0.1551367781155029, 0.0, 0.0, 0.0, 0.0, 0.0]\n",
      "begin 346.73 - end 354.443: [0.0, 0.0, 1.0, 0.0, 0.0, 0.0, 0.0, 0.0, 0.0, 0.3363862357712929]\n",
      "begin 354.443 - end 358.205: [0.0, 1.0, 0.0, 0.0, 0.0, 0.0, 0.64495114006515, 0.0, 0.0, 0.0]\n",
      "begin 359.021 - end 362.615: [0.0, 1.0, 0.0, 0.0, 0.43696048632218804, 0.0, 0.0, 0.0, 0.0, 0.0]\n",
      "begin 362.615 - end 372.651: [0.0, 1.0, 0.0, 0.0, 0.0, 0.0, 0.0, 0.0, 0.0, 0.43769898381961764]\n",
      "begin 372.651 - end 380.11: [0.0, 1.0, 0.0, 0.0, 0.0, 0.0, 0.0, 0.0, 0.09926671191493329, 0.0]\n",
      "begin 381.735 - end 382.64: [0.0, 1.0, 0.0, 0.0, 0.0, 0.0, 0.1551517229555936, 0.0, 0.0, 0.0]\n",
      "begin 383.356 - end 385.127: [0.0, 1.0, 0.0, 0.0, 0.21531914893617218, 0.0, 0.0, 0.0, 0.0, 0.0]\n",
      "begin 385.127 - end 387.941: [0.0, 1.0, 0.0, 0.0, 0.0, 0.0, 0.0, 0.0, 0.0, 0.12272667800601718]\n",
      "begin 387.941 - end 397.85: [0.0, 1.0, 0.0, 0.0, 0.0, 0.0, 0.0, 0.0, 0.1318720804886819, 0.0]\n",
      "begin 397.85 - end 409.076: [0.0, 1.0, 0.0, 0.0, 0.0, 0.0, 0.0, 0.0, 0.0, 0.48959832526494884]\n",
      "begin 409.076 - end 411.932: [0.0, 1.0, 0.0, 0.0, 0.0, 0.7308085977482097, 0.0, 0.0, 0.0, 0.0]\n",
      "begin 412.818 - end 414.433: [0.0, 1.0, 0.0, 0.0, 0.0, 0.0, 0.2768729641693841, 0.0, 0.0, 0.0]\n",
      "begin 415.204 - end 416.841: [0.0, 1.0, 0.0, 0.0, 0.1990273556231005, 0.0, 0.0, 0.0, 0.0, 0.0]\n",
      "begin 418.828 - end 419.567: [0.0, 1.0, 0.0, 0.0, 0.08984802431611347, 0.0, 0.0, 0.0, 0.0, 0.0]\n",
      "begin 420.366 - end 423.885: [0.0, 1.0, 0.0, 0.0, 0.0, 0.0, 0.0, 0.0, 0.04683195592286508, 0.0]\n",
      "begin 423.885 - end 427.608: [0.0, 1.0, 0.0, 0.0, 0.0, 0.0, 0.0, 0.0, 0.0, 0.16237079680753708]\n",
      "begin 427.608 - end 434.279: [0.0, 1.0, 0.0, 0.0, 0.0, 0.0, 0.0, 0.0, 0.0887797607165195, 0.0]\n",
      "begin 434.279 - end 438.447: [0.0, 1.0, 0.0, 0.0, 0.0, 0.0, 0.0, 0.0, 0.0, 0.18177853373457242]\n",
      "begin 438.447 - end 444.28: [0.0, 1.0, 0.0, 0.0, 0.0, 0.0, 1.0, 0.0, 0.0, 0.0]\n",
      "begin 444.952 - end 446.519: [0.0, 1.0, 0.0, 0.0, 0.19051671732522898, 0.0, 0.0, 0.0, 0.0, 0.0]\n",
      "begin 448.134 - end 450.197: [0.0, 1.0, 0.0, 0.0, 0.0, 0.5278915046059353, 0.0, 0.0, 0.0, 0.0]\n",
      "begin 450.197 - end 473.126: [0.0, 1.0, 0.0, 0.0, 0.0, 0.0, 0.0, 0.0, 0.0, 1.0]\n",
      "begin 473.126 - end 479.774: [0.0, 1.0, 0.0, 0.0, 0.0, 0.0, 0.0, 0.0, 0.0884736695013378, 0.0]\n",
      "begin 482.041 - end 482.734: [0.0, 1.0, 0.0, 0.0, 0.0, 0.17732855680654705, 0.0, 0.0, 0.0, 0.0]\n",
      "begin 483.461 - end 483.891: [0.0, 1.0, 0.0, 0.0, 0.0, 0.0, 0.07371849819989869, 0.0, 0.0, 0.0]\n",
      "begin 484.82 - end 486.243: [0.0, 1.0, 0.0, 0.0, 0.1730091185410338, 0.0, 0.0, 0.0, 0.0, 0.0]\n",
      "begin 486.243 - end 494.656: [0.0, 1.0, 0.0, 0.0, 0.0, 0.0, 0.0, 0.0, 0.0, 0.3669152601509015]\n",
      "begin 494.656 - end 498.618: [0.0, 1.0, 0.0, 0.0, 0.4817021276595735, 0.0, 0.0, 0.0, 0.0, 0.0]\n",
      "begin 498.618 - end 506.696: [0.0, 1.0, 0.0, 0.0, 0.0, 0.0, 0.0, 0.0, 0.0, 0.3523049413406621]\n",
      "begin 506.696 - end 507.741: [0.0, 0.0, 1.0, 0.0, 0.1270516717325179, 0.0, 0.0, 0.0, 0.0, 0.0]\n",
      "begin 507.741 - end 514.43: [0.0, 0.0, 1.0, 0.0, 0.0, 0.0, 0.0, 0.0, 0.0, 0.2917266343931254]\n",
      "begin 514.43 - end 515.83: [0.0, 0.0, 1.0, 0.0, 0.170212765957458, 0.0, 0.0, 0.0, 0.0, 0.0]\n",
      "begin 516.511 - end 521.658: [0.0, 0.0, 1.0, 0.0, 0.6257750759878482, 0.0, 0.0, 0.0, 0.0, 0.0]\n",
      "begin 522.903 - end 525.809: [0.0, 0.0, 1.0, 0.0, 0.0, 0.0, 0.4981998971369731, 0.0, 0.0, 0.0]\n",
      "begin 525.809 - end 530.434: [0.0, 0.0, 1.0, 0.0, 0.0, 0.0, 0.0, 0.0, 0.0, 0.2017096253652582]\n"
     ]
    }
   ],
   "metadata": {
    "execution": {
     "iopub.execute_input": "2023-11-13T15:29:06.952572Z",
     "iopub.status.busy": "2023-11-13T15:29:06.952239Z",
     "iopub.status.idle": "2023-11-13T15:29:06.958286Z",
     "shell.execute_reply": "2023-11-13T15:29:06.957333Z",
     "shell.execute_reply.started": "2023-11-13T15:29:06.952547Z"
    }
   }
  },
  {
   "cell_type": "code",
   "execution_count": 48,
   "source": [
    "for i in range(len(new_dic['sequences'])):\n",
    "    for j in range(len(new_dic['sequences'][i]['sequence'])):\n",
    "        non_zero_count = np.count_nonzero(new_dic['sequences'][i]['sequence'][j])\n",
    "        if non_zero_count != 2:\n",
    "            print(f\"Vector at student {i}, sequence{j} has {non_zero_count} nonzero values\")\n",
    "            non_zero_positions = np.nonzero(new_dic['sequences'][i]['sequence'][j])[0]\n",
    "            print(f\"Positions of non-zero values: {non_zero_positions}\")"
   ],
   "outputs": [],
   "metadata": {}
  },
  {
   "cell_type": "code",
   "execution_count": null,
   "source": [],
   "outputs": [],
   "metadata": {}
  }
 ],
 "metadata": {
  "kernelspec": {
   "name": "python3",
   "display_name": "Python 3.11.5 64-bit ('ml4s': conda)"
  },
  "language_info": {
   "codemirror_mode": {
    "name": "ipython",
    "version": 3
   },
   "file_extension": ".py",
   "mimetype": "text/x-python",
   "name": "python",
   "nbconvert_exporter": "python",
   "pygments_lexer": "ipython3",
   "version": "3.11.5"
  },
  "interpreter": {
   "hash": "a262811aceb7285b98a1ecc47493c2f0a57db69f3ff5f373baeb9e4561d09a97"
  }
 },
 "nbformat": 4,
 "nbformat_minor": 5
}